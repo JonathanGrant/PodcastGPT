{
 "cells": [
  {
   "cell_type": "markdown",
   "id": "987e1c5d-936a-4a35-bde2-cd01028340dd",
   "metadata": {},
   "source": [
    "# Idea is to take a paper / pdf and convert it to a lecture that explains it intuitively.\n",
    "\n",
    "### Steps:\n",
    "1. Download PDF and get text\n",
    "2. Ask ChatGPT what concepts (in order) need to be understood to understand the paper\n",
    "3. Create video Script\n",
    "4. Create video images\n",
    "5. Add audio on top of images\n",
    "6. Join and done\n",
    "\n",
    "### What to display in video?\n",
    "* Ask Chat for slide text (md format or something) given a paragraph\n",
    "\n",
    "### Video Outline:\n",
    "1. Concepts / Building blocks\n",
    "2. Paper summary\n",
    "3. Each part of the paper (ask Chat for parts)\n",
    "4. Conclusion and Implications"
   ]
  },
  {
   "cell_type": "code",
   "execution_count": 3,
   "id": "ee88f59f-565b-47d4-9327-2e0b5f14d0c4",
   "metadata": {},
   "outputs": [],
   "source": [
    "from ChatPodcastGPT import Chat, PodcastChat, GttsTTS\n",
    "import collections\n",
    "import concurrent.futures\n",
    "import os\n",
    "import feedparser\n",
    "import structlog\n",
    "import itertools\n",
    "import enum\n",
    "import io\n",
    "import re\n",
    "import json\n",
    "import tempfile\n",
    "import PyPDF2\n",
    "from bs4 import BeautifulSoup\n",
    "import requests\n",
    "import retrying\n",
    "import openai\n",
    "import random\n",
    "import IPython.display\n",
    "import datetime\n",
    "import PIL\n",
    "import PIL.Image\n",
    "import PIL.ImageDraw\n",
    "import PIL.ImageFont\n",
    "import base64\n",
    "from pydub import AudioSegment\n",
    "import tempfile\n",
    "from moviepy.editor import ImageClip, concatenate_videoclips, AudioFileClip\n",
    "import numpy as np\n",
    "import io\n",
    "import subprocess\n",
    "import os\n",
    "import functools\n",
    "import logging\n",
    "import librosa\n",
    "import soundfile as sf\n",
    "\n",
    "\n",
    "# MODEL = 'gpt-3.5-turbo-16k'\n",
    "MODEL = 'gpt-4'\n",
    "# MAX_TOKENS = 12_000\n",
    "MAX_TOKENS = 2_000\n",
    "JOIN_NUM_DEFAULT = 300\n",
    "SPEAKER_NAMES = ['Alfred', 'Alice']\n",
    "SPEAKER_VOICES = [GttsTTS(GttsTTS.MAN), GttsTTS(GttsTTS.WOMAN)]\n",
    "MAX_WORKERS = 4\n",
    "logging.getLogger('moviepy').setLevel(logging.CRITICAL)\n",
    "logger = structlog.get_logger()\n",
    "flatten_list = lambda a: list(itertools.chain(*[x for x in a]))\n",
    "DALLE3_COOKIE = os.environ.get('DALLE3_COOKIE') or open('/Users/jong/.dalle3_cookie').read().strip()"
   ]
  },
  {
   "cell_type": "code",
   "execution_count": 4,
   "id": "1dd44002-fff1-4a00-bf43-ea18fb0feb74",
   "metadata": {},
   "outputs": [],
   "source": [
    "import requests\n",
    "import logging\n",
    "import io\n",
    "from dalle3 import Dalle\n",
    "logging.basicConfig(level=logging.INFO)\n",
    "\n",
    "import threading\n",
    "\n",
    "class FunctionTimeoutError(Exception):\n",
    "    \"\"\"Exception to be raised when a function times out\"\"\"\n",
    "    pass\n",
    "\n",
    "def timeout_function(func, args=(), kwargs={}, timeout_duration=90.0):\n",
    "    \"\"\"Timeout a function after `timeout_duration` seconds\"\"\"\n",
    "\n",
    "    class FunctionThread(threading.Thread):\n",
    "        def __init__(self):\n",
    "            threading.Thread.__init__(self)\n",
    "            self.result = None\n",
    "\n",
    "        def run(self):\n",
    "            self.result = func(*args, **kwargs)\n",
    "    \n",
    "    # Create a thread to run the function\n",
    "    func_thread = FunctionThread()\n",
    "    \n",
    "    # Start the thread\n",
    "    func_thread.start()\n",
    "    \n",
    "    # Wait for `timeout_duration` seconds or until the thread finishes\n",
    "    func_thread.join(timeout_duration)\n",
    "\n",
    "    # Check if thread is still alive (i.e., function has not completed)\n",
    "    if func_thread.is_alive():\n",
    "        # Terminate the function thread\n",
    "        # func_thread.join()  # Optional, ensures any cleanup in the function\n",
    "        raise FunctionTimeoutError(f\"Function timed out after {timeout_duration} seconds\")\n",
    "    else:\n",
    "        return func_thread.result\n",
    "\n",
    "class Dalle3:\n",
    "    def __init__(self, cookie=DALLE3_COOKIE):\n",
    "        self.cookie = cookie\n",
    "        self.dalle = Dalle(cookie)\n",
    "\n",
    "    def get_img(self, prompt):\n",
    "        logger.info(prompt)\n",
    "        self.dalle.create(f'Dalle3: {prompt=}')\n",
    "        urls = timeout_function(self.dalle.get_urls)\n",
    "        logger.info(f'Dalle3: {urls=}, choosing just first one')\n",
    "        url = urls[0]\n",
    "        resp = requests.get(url)\n",
    "        img_data = io.BytesIO(resp.content)\n",
    "        return PIL.Image.open(img_data)"
   ]
  },
  {
   "cell_type": "code",
   "execution_count": 7,
   "id": "90f6080d-62be-409b-b63b-cd29e430a8fa",
   "metadata": {},
   "outputs": [],
   "source": [
    "# Dalle3().get_img('An adorable focused caterpillar crossing a tightrope in Central Park, NYC, during autumn.')"
   ]
  },
  {
   "cell_type": "markdown",
   "id": "5459e615-25d1-48f5-8e8c-d02b0e527716",
   "metadata": {},
   "source": [
    "## 1. PDF to Text"
   ]
  },
  {
   "cell_type": "code",
   "execution_count": 8,
   "id": "60f5cfcc-d760-46be-b589-07548d97f04d",
   "metadata": {},
   "outputs": [],
   "source": [
    "def extract_text_from_pdf(pdf_path):\n",
    "    with open(pdf_path, 'rb') as pdf_file:\n",
    "        pdf = PyPDF2.PdfReader(pdf_file)\n",
    "\n",
    "        text = ''\n",
    "        for page_number in range(len(pdf.pages)):\n",
    "            page = pdf.pages[page_number]\n",
    "            text += page.extract_text()\n",
    "\n",
    "        return text"
   ]
  },
  {
   "cell_type": "code",
   "execution_count": 10,
   "id": "966042dc-f97a-49a4-9a5e-beff09e3a0db",
   "metadata": {},
   "outputs": [],
   "source": [
    "# paper_path = '/Users/jong/Downloads/covid_garbage.pdf'\n",
    "# paper_text = extract_text_from_pdf(paper_path)\n",
    "# len(paper_text), paper_text[:1000]"
   ]
  },
  {
   "cell_type": "code",
   "execution_count": 11,
   "id": "a8b71680-46d5-4ac6-94c1-61bd12fae9d5",
   "metadata": {},
   "outputs": [],
   "source": [
    "def text_into_token_chunks(text, max_tokens=MAX_TOKENS // 2, smoothing=0):\n",
    "    \"\"\"Split the text into parts based on tokens.\"\"\"\n",
    "    sentences = text.replace('\\n', '').split(\".\")\n",
    "    all_parts = []\n",
    "    current_part = []\n",
    "    for sentence in sentences:\n",
    "        current_part.append(sentence + '.')\n",
    "        if Chat.num_tokens_from_text(' '.join(current_part)) > max_tokens:\n",
    "            part_text = ' '.join(current_part[:-1])\n",
    "            all_parts.append(part_text)\n",
    "            current_part = current_part[-(smoothing+1):]\n",
    "\n",
    "    if current_part:\n",
    "        all_parts.append(' '.join(current_part[:-1]))\n",
    "    return all_parts"
   ]
  },
  {
   "cell_type": "code",
   "execution_count": 13,
   "id": "d8cf0cc9-981e-434a-9b81-4846bbd6748b",
   "metadata": {},
   "outputs": [],
   "source": [
    "# paper_sections = text_into_token_chunks(paper_text, smoothing=3)\n",
    "# len(paper_sections)"
   ]
  },
  {
   "cell_type": "markdown",
   "id": "ea69d579-66b1-4fa7-9aaf-803910932cef",
   "metadata": {},
   "source": [
    "# 2. Concepts needed for understanding"
   ]
  },
  {
   "cell_type": "code",
   "execution_count": 14,
   "id": "41a7e891-3362-43dc-9a53-e5c22bb603b2",
   "metadata": {},
   "outputs": [],
   "source": [
    "@retrying.retry(stop_max_attempt_number=5, wait_fixed=2000)\n",
    "def get_concepts(paper_section):\n",
    "    chat = Chat('''Given some text from a scientific journal, return a JSON formatted list containing a few prerequisite concepts needed for understanding the paper.\n",
    "Only respond as a valid JSON list, and nothing else.'''.replace('\\n', ' '), max_length=MAX_TOKENS)\n",
    "    resp = chat.message(paper_section, model=MODEL)\n",
    "    data = json.loads(resp)\n",
    "    assert isinstance(data, list)\n",
    "    return data\n",
    "\n",
    "@retrying.retry(stop_max_attempt_number=5, wait_fixed=2000)\n",
    "def merge_concepts(concepts):\n",
    "    chat = Chat('''Given a list of concepts needed to understand a paper, reduce them to just 5 or fewer prerequisite concepts.\n",
    "Only respond as a valid JSON list, and nothing else. Order the list from least to most complex.'''.replace('\\n', ' '))\n",
    "    resp = chat.message(str(concepts), model=MODEL)\n",
    "    data = json.loads(resp)\n",
    "    assert isinstance(data, list)\n",
    "    return data\n",
    "\n",
    "def get_all_concepts(paper_sections):\n",
    "    with concurrent.futures.ThreadPoolExecutor(max_workers=max(MAX_WORKERS//4, 1)) as tpe:\n",
    "        concepts = [\n",
    "            concept\n",
    "            for concepts in tpe.map(get_concepts, paper_sections)\n",
    "            for concept in concepts\n",
    "        ]\n",
    "    return merge_concepts(concepts)"
   ]
  },
  {
   "cell_type": "code",
   "execution_count": 15,
   "id": "c26c1d98-189f-477e-a6dc-0819b2f5d039",
   "metadata": {},
   "outputs": [
    {
     "name": "stdout",
     "output_type": "stream",
     "text": [
      "2023-11-02 11:21:47 [info     ] requesting openai...\n",
      "2023-11-02 11:22:09 [info     ] received openai...\n",
      "2023-11-02 11:22:09 [info     ] requesting openai...\n",
      "2023-11-02 11:22:41 [info     ] received openai...\n",
      "2023-11-02 11:22:41 [info     ] requesting openai...\n",
      "2023-11-02 11:23:03 [info     ] received openai...\n",
      "2023-11-02 11:23:03 [info     ] requesting openai...\n",
      "2023-11-02 11:23:17 [info     ] received openai...\n",
      "2023-11-02 11:23:17 [info     ] requesting openai...\n",
      "2023-11-02 11:23:24 [info     ] received openai...\n",
      "2023-11-02 11:23:26 [info     ] requesting openai...\n",
      "2023-11-02 11:23:36 [info     ] received openai...\n"
     ]
    },
    {
     "data": {
      "text/plain": [
       "['Basic knowledge of data analysis and aggregation',\n",
       " 'Familiarity with statistical anomalies',\n",
       " 'Concept of data collection and reporting',\n",
       " 'Understanding of the role of data in decision-making',\n",
       " 'Understanding of COVID-19']"
      ]
     },
     "execution_count": 15,
     "metadata": {},
     "output_type": "execute_result"
    }
   ],
   "source": [
    "paper_prereqs = get_all_concepts(paper_sections)\n",
    "paper_prereqs"
   ]
  },
  {
   "cell_type": "markdown",
   "id": "68289859-d23c-433a-88c0-e06da348ee82",
   "metadata": {},
   "source": [
    "# 3. Create Video Script"
   ]
  },
  {
   "cell_type": "code",
   "execution_count": 16,
   "id": "f023b262-18f4-4fd9-982d-680f832c4f37",
   "metadata": {},
   "outputs": [],
   "source": [
    "# Create video script\n",
    "def get_script_for_concepts(concepts):\n",
    "    chat = Chat(f'''Given the following prerequisite concepts needed to understand a scientific paper, write a script for a video that explains them in an intuitive way.\n",
    "Assume there's two speakers, {' and '.join(SPEAKER_NAMES)}.\n",
    "Prefix each character's lines with their name and a :, like the following.\n",
    "{SPEAKER_NAMES[0]}: Hello everyone.\n",
    "{SPEAKER_NAMES[1]}: Indeed, hello!\n",
    "Do not include any other script syntax.\n",
    "Do not include a conclusion.'''.replace('\\n', ' '))\n",
    "    text = chat.message(str(concepts), model=MODEL)\n",
    "    return text\n",
    "\n",
    "def get_script_for_paper_section(paper_section):\n",
    "    chat = Chat(f'''Given the following section of a scientific paper, write an educational script for a video that explains this in an intuitive way.\n",
    "Assume there's two speakers, {' and '.join(SPEAKER_NAMES)}.\n",
    "Prefix each character's lines with their name and a :, like the following.\n",
    "{SPEAKER_NAMES[0]}: Hello everyone.\n",
    "{SPEAKER_NAMES[1]}: Indeed, hello!\n",
    "Do not include any other script syntax.'''.replace('\\n', ' '), max_length=MAX_TOKENS)\n",
    "    text = chat.message(str(paper_section), model=MODEL)\n",
    "    return text\n",
    "\n",
    "def get_entire_script(paper_prereqs, paper_sections, consolidate=False):\n",
    "    all_scripts = [None] * (1+len(paper_sections))\n",
    "    with concurrent.futures.ThreadPoolExecutor(max_workers=max(MAX_WORKERS//2, 1)) as tpe:\n",
    "        runs = [tpe.submit(get_script_for_concepts, paper_prereqs)]\n",
    "        runs.extend([tpe.submit(get_script_for_paper_section, section) for section in paper_sections])\n",
    "        for i, r in enumerate(concurrent.futures.as_completed(runs)):\n",
    "            ridx = runs.index(r)\n",
    "            all_scripts[ridx] = r.result()\n",
    "            logger.info(f'Done with {i} / {len(runs)}')\n",
    "    if consolidate:\n",
    "        all_scripts = flatten_list(all_scripts)\n",
    "        chat = Chat(f'''Consolidate the following scripts that go over a scientific paper in an intuitive way.\n",
    "Make it less redundant, more fun, and only include one intro and outro.\n",
    "Assume there's two speakers, {' and '.join(SPEAKER_NAMES)}.\n",
    "Prefix each character's lines with their name and a :, like the following.\n",
    "{SPEAKER_NAMES[0]}: Hello everyone.\n",
    "{SPEAKER_NAMES[1]}: Indeed, hello!\n",
    "Do not include any other script syntax.'''.replace('\\n', ' '), max_length=MAX_TOKENS)\n",
    "        text = chat.message(str(all_scripts), model=MODEL)\n",
    "        all_scripts = [text]\n",
    "    return all_scripts"
   ]
  },
  {
   "cell_type": "code",
   "execution_count": 17,
   "id": "ffe0140d-014a-499e-af73-7819e0b3e98f",
   "metadata": {},
   "outputs": [],
   "source": [
    "# paper_script = get_entire_script(paper_prereqs, paper_sections)\n",
    "# len(paper_script)"
   ]
  },
  {
   "cell_type": "markdown",
   "id": "d6ee8417-bb54-462d-aed4-3c013648d74b",
   "metadata": {},
   "source": [
    "# 4. Video images"
   ]
  },
  {
   "cell_type": "code",
   "execution_count": 18,
   "id": "253e65e2-5f1e-46dc-b8ef-9b046f92d684",
   "metadata": {},
   "outputs": [],
   "source": [
    "import time\n",
    "import threading\n",
    "\n",
    "class RateLimited:\n",
    "    def __init__(self, max_per_minute):\n",
    "        self.max_per_minute = max_per_minute\n",
    "        self.current_minute = time.strftime('%M')\n",
    "        self.lock = threading.Lock()\n",
    "        self.calls = 0\n",
    "\n",
    "    def __call__(self, fn):\n",
    "        def wrapper(*args, **kwargs):\n",
    "            run = False\n",
    "            with self.lock:\n",
    "                current_minute = time.strftime('%M')\n",
    "                if current_minute != self.current_minute:\n",
    "                    self.current_minute = current_minute\n",
    "                    self.calls = 0\n",
    "                if self.calls < self.max_per_minute:\n",
    "                    self.calls += 1\n",
    "                    run = True\n",
    "            if run:\n",
    "                return fn(*args, **kwargs)\n",
    "            else:\n",
    "                time.sleep(15)\n",
    "                return wrapper(*args, **kwargs)\n",
    "                    \n",
    "        return wrapper"
   ]
  },
  {
   "cell_type": "code",
   "execution_count": 19,
   "id": "6901a7b8-57a0-4c2c-808d-fcd617854f98",
   "metadata": {},
   "outputs": [],
   "source": [
    "class AIImage:\n",
    "    class Size(enum.Enum):\n",
    "        SMALL = \"256x256\"\n",
    "        MEDIUM = \"512x512\"\n",
    "        LARGE = \"1024x1024\"\n",
    "\n",
    "    @classmethod\n",
    "    @RateLimited(45)\n",
    "    @retrying.retry(stop_max_attempt_number=5, wait_fixed=2000)\n",
    "    def create(cls, prompt, n=1, size=Size.SMALL):\n",
    "        try:\n",
    "            img = Dalle3().get_img(prompt)\n",
    "            resp = base64.encodebytes(img.tobytes())\n",
    "        except Exception as e:\n",
    "            logger.info(f'after {e} going to requesting openai.Image {prompt}...')\n",
    "            resp = openai.Image.create(prompt=prompt, n=n, size=size.value, response_format='b64_json')\n",
    "        logger.info('received openai.Image...')\n",
    "        if n == 1: return resp[\"data\"][0]\n",
    "        return resp[\"data\"]"
   ]
  },
  {
   "cell_type": "code",
   "execution_count": 20,
   "id": "d2be2605-93a8-48c6-95f1-658e9e3f6a69",
   "metadata": {},
   "outputs": [],
   "source": [
    "@retrying.retry(stop_max_attempt_number=2, wait_fixed=5000)\n",
    "def get_image_from_text(sentence):\n",
    "    chat = Chat(f'''Given\n",
    "the following sentence in a script, write a plaintext and concise description of an\n",
    "image to display while this script is read.\n",
    "Only write the short description and nothing else.\n",
    "Do not include specific numbers or the character names.'''.replace('\\n', ' '))\n",
    "    hd_modifiers = \"\"\"3840x2160\n",
    "8k 3D / 16k 3D\n",
    "8k resolution / 16k resolution\n",
    "Detailed\n",
    "Ultra HD\n",
    "Ultrafine detail\"\"\".split('\\n')\n",
    "    art_styles = [x.strip() for x in open('art_styles.txt').readlines()]\n",
    "    art_styles += ['Psychedelic painting', 'Educational 3d illustration']\n",
    "    description = chat.message(sentence, model=MODEL)\n",
    "    prompt = f'{random.choice(art_styles)} of {description} {random.choice(hd_modifiers)}'\n",
    "    img = AIImage.create(prompt)\n",
    "    return sentence, img, prompt\n",
    "\n",
    "def get_images_from_text(text):\n",
    "    sentences = text.split('\\n')\n",
    "\n",
    "    with concurrent.futures.ThreadPoolExecutor(max_workers=max(MAX_WORKERS//2, 1)) as tpe:\n",
    "        runs = []\n",
    "        for sentence in sentences:\n",
    "            if not sentence:\n",
    "                continue\n",
    "            runs.append(tpe.submit(get_image_from_text, sentence))\n",
    "        images = [None] * len(runs)\n",
    "        for r in concurrent.futures.as_completed(runs):\n",
    "            ridx = runs.index(r)\n",
    "            images[ridx] = r.result()\n",
    "    return images"
   ]
  },
  {
   "cell_type": "code",
   "execution_count": 21,
   "id": "12a2af5b-eb80-4126-8672-219f40f246ca",
   "metadata": {},
   "outputs": [],
   "source": [
    "# images = get_images_from_text(paper_prereqs_script)\n",
    "# len(images)"
   ]
  },
  {
   "cell_type": "code",
   "execution_count": 22,
   "id": "f004ccd5-9ab4-4c3a-a1f8-de67083d5af6",
   "metadata": {},
   "outputs": [],
   "source": [
    "# for txt, img, prompt in images:\n",
    "#     img = PIL.Image.open(io.BytesIO(base64.b64decode(img[\"b64_json\"])))\n",
    "#     IPython.display.display(txt)\n",
    "#     IPython.display.display(prompt)\n",
    "#     IPython.display.display(img)"
   ]
  },
  {
   "cell_type": "markdown",
   "id": "9319449c-0e4e-4d36-8de9-d73e297978bd",
   "metadata": {},
   "source": [
    "# 5. Audio: Script to Speech"
   ]
  },
  {
   "cell_type": "code",
   "execution_count": 23,
   "id": "98cbeb95-f921-4805-99f7-1c73856a1b42",
   "metadata": {},
   "outputs": [],
   "source": [
    "def speaker_sentence(sentence, names):\n",
    "    for name in names:\n",
    "        if sentence.startswith(f'{name}:'):\n",
    "            return name, sentence[len(f'{name}:')+1:]\n",
    "    return names[0], sentence\n",
    "\n",
    "def script2speech(sentences, names, voices):\n",
    "    with concurrent.futures.ThreadPoolExecutor(max_workers=MAX_WORKERS) as tpe:\n",
    "        jobs = []\n",
    "        for sentence in sentences:\n",
    "            speaker, sentence = speaker_sentence(sentence, names)\n",
    "            jobs.append(tpe.submit(voices[names.index(speaker)].tts, sentence))\n",
    "        audios = [b''] * len(jobs)\n",
    "        for future in concurrent.futures.as_completed(jobs):\n",
    "            idx = jobs.index(future)\n",
    "            audios[idx] = future.result()\n",
    "    return audios"
   ]
  },
  {
   "cell_type": "code",
   "execution_count": 24,
   "id": "79197362-029b-470a-af22-f8fcfff3d583",
   "metadata": {},
   "outputs": [],
   "source": [
    "# audios = script2speech([x[0] for x in images], SPEAKER_NAMES, SPEAKER_VOICES)"
   ]
  },
  {
   "cell_type": "code",
   "execution_count": 25,
   "id": "0deee6af-afc5-48fc-a2c2-65fbcfd1c4a5",
   "metadata": {},
   "outputs": [],
   "source": [
    "# IPython.display.Audio(audios[2])"
   ]
  },
  {
   "cell_type": "markdown",
   "id": "17b77490-3ec0-419e-99c9-f8e153a6a045",
   "metadata": {},
   "source": [
    "# 6. Join audio and video"
   ]
  },
  {
   "cell_type": "code",
   "execution_count": 26,
   "id": "531cbc42-4126-4ec4-a4d9-bac70b31956a",
   "metadata": {},
   "outputs": [],
   "source": [
    "def concatenate_videos(directory, output_file):\n",
    "    # get list of video files in directory\n",
    "    files = sorted([f for f in os.listdir(directory) if f.endswith(\".mp4\")], key=lambda x: int(x.split('.mp4')[0].split('_')[1]))\n",
    "\n",
    "    # create a file that contains the list of all video files\n",
    "    filenames_f = f'{directory}/_files.txt'\n",
    "    with open(filenames_f, 'w') as f:\n",
    "        for video_file in files:\n",
    "            f.write(f\"file '{directory}/{video_file}'\\n\")\n",
    "\n",
    "    # concatenate all videos using FFmpeg\n",
    "    command = f\"ffmpeg -f concat -safe 0 -i {filenames_f} -c copy {output_file}\"\n",
    "    print(command)\n",
    "    try:\n",
    "        os.remove(output_file)\n",
    "    except:\n",
    "        pass\n",
    "    subprocess.check_call(command, shell=True, stderr=subprocess.DEVNULL)\n",
    "\n",
    "\n",
    "def process_one_clip(tmpdir, i, img, audio):\n",
    "    # Convert audio bytes to pydub's AudioSegment\n",
    "    audio_segment = AudioSegment.from_file(io.BytesIO(audio))\n",
    "    audio_path = f'{tmpdir}/audio_{i}.mp3'\n",
    "    audio_segment.export(audio_path)\n",
    "    audio_segment = AudioSegment.from_file(audio_path)\n",
    "\n",
    "    # Create an ImageClip for this image and audio, with duration matching the audio\n",
    "    duration = len(audio_segment) / 1000.0  # AudioSegment.length is in milliseconds\n",
    "    # Convert PIL Image to numpy array\n",
    "    np_image = np.array(img)\n",
    "    video_clip = ImageClip(np_image, duration=duration)\n",
    "    video_clip.fps = 30\n",
    "    video_clip = video_clip.set_audio(AudioFileClip(audio_path))\n",
    "    video_clip.write_videofile(\n",
    "        f\"{tmpdir}/clip_{i:0>3}.mp4\", codec='libx264', audio_codec='aac',\n",
    "        temp_audiofile=f'temp-audio-{i}.m4a', remove_temp=True,\n",
    "        verbose=False, logger=None,\n",
    "    )\n",
    "\n",
    "def create_video(images, audios, outpath):\n",
    "    with tempfile.TemporaryDirectory() as tmpdir:\n",
    "        process_one = functools.partial(process_one_clip, tmpdir)\n",
    "        with concurrent.futures.ThreadPoolExecutor(max_workers=MAX_WORKERS) as tpe:\n",
    "            for i, _ in enumerate(tpe.map(process_one, range(len(images)), images, audios)):\n",
    "                logger.info(f'Done with {i} / {len(images)}')\n",
    "        # Concatenate all video clips\n",
    "        concatenate_videos(tmpdir, outpath)"
   ]
  },
  {
   "cell_type": "code",
   "execution_count": 27,
   "id": "5258b3b3-2cf4-4b72-962e-f27534d3c962",
   "metadata": {},
   "outputs": [],
   "source": [
    "# outpath = '/Users/jong/Downloads/Cell_20230725/final_video.mp4'\n",
    "# create_video([PIL.Image.open(io.BytesIO(base64.b64decode(img[1][\"b64_json\"]))) for img in images], audios, outpath)"
   ]
  },
  {
   "cell_type": "code",
   "execution_count": 28,
   "id": "9d20726c-3fd1-4539-a782-3f954d007140",
   "metadata": {},
   "outputs": [],
   "source": [
    "class Runner:\n",
    "    def __init__(self, paper_path, outpath):\n",
    "        self.paper_path = paper_path\n",
    "        self.outpath = outpath\n",
    "\n",
    "    def run(self):\n",
    "        self.paper_text = extract_text_from_pdf(self.paper_path)\n",
    "        self.paper_sections = text_into_token_chunks(self.paper_text, smoothing=3)\n",
    "        self.paper_prereqs = get_all_concepts(self.paper_sections)\n",
    "        self.paper_script = get_entire_script(self.paper_prereqs, self.paper_sections)\n",
    "    \n",
    "        def process_one_part(script):\n",
    "            images = get_images_from_text(script)\n",
    "            audios = script2speech([x[0] for x in images], SPEAKER_NAMES, SPEAKER_VOICES)\n",
    "            return images, audios\n",
    "\n",
    "        with concurrent.futures.ThreadPoolExecutor(max_workers=MAX_WORKERS) as tpe:\n",
    "            runs = [tpe.submit(process_one_part, script) for script in self.paper_script]\n",
    "            images, audios = [None] * len(runs), [None] * len(runs)\n",
    "            for i, r in enumerate(concurrent.futures.as_completed(runs)):\n",
    "                ridx = runs.index(r)\n",
    "                imgs, auds = r.result()\n",
    "                images[ridx], audios[ridx] = imgs, auds\n",
    "                logger.info(f'Got images and audio for {i} / {len(runs)}')\n",
    "    \n",
    "        self.images = flatten_list(images)\n",
    "        self.audios = flatten_list(audios)\n",
    "        create_video([PIL.Image.open(io.BytesIO(base64.b64decode(img[1][\"b64_json\"]))) for img in self.images], self.audios, self.outpath)"
   ]
  },
  {
   "cell_type": "code",
   "execution_count": 29,
   "id": "dffaf5d7-f5ec-4c99-91ac-8224f09fceb9",
   "metadata": {
    "scrolled": true
   },
   "outputs": [
    {
     "name": "stdout",
     "output_type": "stream",
     "text": [
      "2023-11-02 11:25:19 [info     ] requesting openai...\n",
      "2023-11-02 11:25:19 [info     ] requesting openai...\n",
      "2023-11-02 11:25:37 [info     ] received openai...\n",
      "2023-11-02 11:25:37 [info     ] requesting openai...\n",
      "2023-11-02 11:25:57 [info     ] received openai...\n",
      "2023-11-02 11:25:57 [info     ] requesting openai...\n",
      "2023-11-02 11:26:14 [info     ] received openai...\n",
      "2023-11-02 11:26:37 [info     ] received openai...\n",
      "2023-11-02 11:26:37 [info     ] requesting openai...\n",
      "2023-11-02 11:26:46 [info     ] received openai...\n",
      "2023-11-02 11:26:46 [info     ] requesting openai...\n",
      "2023-11-02 11:26:46 [info     ] requesting openai...\n",
      "2023-11-02 11:26:46 [info     ] requesting openai...\n",
      "2023-11-02 11:26:46 [info     ] requesting openai...\n",
      "2023-11-02 11:28:28 [info     ] received openai...\n",
      "2023-11-02 11:28:28 [info     ] requesting openai...\n",
      "2023-11-02 11:28:28 [info     ] Done with 0 / 5\n",
      "2023-11-02 11:28:43 [info     ] received openai...\n",
      "2023-11-02 11:28:43 [info     ] Done with 1 / 5\n",
      "2023-11-02 11:28:47 [info     ] received openai...\n",
      "2023-11-02 11:28:47 [info     ] Done with 2 / 5\n",
      "2023-11-02 11:28:54 [info     ] received openai...\n",
      "2023-11-02 11:28:54 [info     ] Done with 3 / 5\n",
      "2023-11-02 11:30:04 [info     ] received openai...\n",
      "2023-11-02 11:30:04 [info     ] Done with 4 / 5\n",
      "2023-11-02 11:30:04 [info     ] requesting openai...\n",
      "2023-11-02 11:30:04 [info     ] requesting openai...\n",
      "2023-11-02 11:30:04 [info     ] requesting openai...\n",
      "2023-11-02 11:30:04 [info     ] requesting openai...\n",
      "2023-11-02 11:30:04 [info     ] requesting openai...\n",
      "2023-11-02 11:30:04 [info     ] requesting openai...\n",
      "2023-11-02 11:30:04 [info     ] requesting openai...\n",
      "2023-11-02 11:30:04 [info     ] requesting openai...\n",
      "2023-11-02 11:30:04 [info     ] requesting openai...\n",
      "2023-11-02 11:30:04 [info     ] requesting openai...\n",
      "2023-11-02 11:30:04 [info     ] requesting openai...\n",
      "2023-11-02 11:30:04 [info     ] requesting openai...\n",
      "2023-11-02 11:30:04 [info     ] requesting openai...\n",
      "2023-11-02 11:30:04 [info     ] requesting openai...\n",
      "2023-11-02 11:30:04 [info     ] requesting openai...\n",
      "2023-11-02 11:30:04 [info     ] requesting openai...\n",
      "2023-11-02 11:30:04 [info     ] requesting openai...\n",
      "2023-11-02 11:30:04 [info     ] requesting openai...\n",
      "2023-11-02 11:30:04 [info     ] requesting openai...\n",
      "2023-11-02 11:30:04 [info     ] requesting openai...\n",
      "2023-11-02 11:30:08 [info     ] received openai...\n",
      "2023-11-02 11:30:08 [info     ] received openai...\n",
      "2023-11-02 11:30:09 [info     ] received openai...\n",
      "2023-11-02 11:30:09 [info     ] received openai...\n"
     ]
    },
    {
     "name": "stderr",
     "output_type": "stream",
     "text": [
      "INFO:undetected_chromedriver.patcher:patching driver executable /Users/jong/Library/Application Support/undetected_chromedriver/undetected_chromedriver\n"
     ]
    },
    {
     "name": "stdout",
     "output_type": "stream",
     "text": [
      "2023-11-02 11:30:09 [info     ] after [Errno 2] No such file or directory: '/Users/jong/Library/Application Support/undetected_chromedriver/undetected/chromedriver-mac-x64/chromedriver' -> '/Users/jong/Library/Application Support/undetected_chromedriver/undetected_chromedriver' going to requesting openai.Image Chalk art of A newspaper article with highlighted sentences about noisy data, along with an erratic graph showing unexpected increases and decreases. Ultra HD...\n",
      "2023-11-02 11:30:09 [info     ] received openai...\n",
      "2023-11-02 11:30:10 [info     ] after [Errno 2] No such file or directory: '/Users/jong/Library/Application Support/undetected_chromedriver/undetected/chromedriver-mac-x64/chromedriver' -> '/Users/jong/Library/Application Support/undetected_chromedriver/undetected_chromedriver' going to requesting openai.Image Watercolour painting of A woman standing in front of a large computer screen displaying various graphs and charts related to COVID-19 data. Ultra HD...\n"
     ]
    },
    {
     "name": "stderr",
     "output_type": "stream",
     "text": [
      "INFO:undetected_chromedriver.patcher:patching driver executable /Users/jong/Library/Application Support/undetected_chromedriver/undetected_chromedriver\n",
      "INFO:openai:error_code=content_policy_violation error_message='Your request was rejected as a result of our safety system. Your prompt may contain text that is not allowed by our safety system.' error_param=None error_type=invalid_request_error message='OpenAI API error received' stream_error=False\n"
     ]
    },
    {
     "name": "stdout",
     "output_type": "stream",
     "text": [
      "2023-11-02 11:30:10 [info     ] received openai...\n",
      "2023-11-02 11:30:10 [info     ] received openai...\n",
      "2023-11-02 11:30:10 [info     ] received openai...\n",
      "2023-11-02 11:30:10 [info     ] received openai...\n",
      "2023-11-02 11:30:10 [info     ] after Message: Service /Users/jong/Library/Application Support/undetected_chromedriver/undetected_chromedriver unexpectedly exited. Status code was: -11\n",
      " going to requesting openai.Image Drone photography of A man standing in front of a large digital screen displaying maps and graphs related to COVID-19 data. 8k 3D / 16k 3D...\n",
      "2023-11-02 11:30:10 [info     ] received openai...\n"
     ]
    },
    {
     "name": "stderr",
     "output_type": "stream",
     "text": [
      "INFO:openai:error_code=content_policy_violation error_message='Your request was rejected as a result of our safety system. Your prompt may contain text that is not allowed by our safety system.' error_param=None error_type=invalid_request_error message='OpenAI API error received' stream_error=False\n"
     ]
    },
    {
     "name": "stdout",
     "output_type": "stream",
     "text": [
      "2023-11-02 11:30:11 [info     ] received openai...\n",
      "2023-11-02 11:30:11 [info     ] received openai...\n",
      "2023-11-02 11:30:11 [info     ] received openai...\n",
      "2023-11-02 11:30:11 [info     ] received openai...\n",
      "2023-11-02 11:30:11 [info     ] Highly-detailed needlepoint of A line graph displaying a significant spike in cases on a specific date, compared to a lower line indicating incident-based data. Ultra HD\n",
      "2023-11-02 11:30:12 [info     ] received openai...\n",
      "2023-11-02 11:30:12 [info     ] received openai...\n"
     ]
    },
    {
     "name": "stderr",
     "output_type": "stream",
     "text": [
      "INFO:undetected_chromedriver.patcher:patching driver executable /Users/jong/Library/Application Support/undetected_chromedriver/undetected_chromedriver\n"
     ]
    },
    {
     "name": "stdout",
     "output_type": "stream",
     "text": [
      "2023-11-02 11:30:12 [info     ] after Message: Unable to locate or obtain driver for chrome; For documentation on this error, please visit: https://www.selenium.dev/documentation/webdriver/troubleshooting/errors/driver_location\n",
      " going to requesting openai.Image 4k digital render of A man gesturing toward multiple graphs and charts depicting fluctuating infection rates. Ultrafine detail...\n",
      "2023-11-02 11:30:13 [info     ] received openai...\n"
     ]
    },
    {
     "name": "stderr",
     "output_type": "stream",
     "text": [
      "INFO:root:[02/11/2023 11:30:13] Bing Image Creator (Dalle-3) Opened\n"
     ]
    },
    {
     "name": "stdout",
     "output_type": "stream",
     "text": [
      "2023-11-02 11:30:13 [info     ] received openai...\n"
     ]
    },
    {
     "name": "stderr",
     "output_type": "stream",
     "text": [
      "INFO:root:[02/11/2023 11:30:14] Cookie values added \n"
     ]
    },
    {
     "name": "stdout",
     "output_type": "stream",
     "text": [
      "2023-11-02 11:30:14 [info     ] received openai...\n",
      "2023-11-02 11:30:15 [info     ] received openai...\n"
     ]
    },
    {
     "name": "stderr",
     "output_type": "stream",
     "text": [
      "INFO:undetected_chromedriver.patcher:patching driver executable /Users/jong/Library/Application Support/undetected_chromedriver/undetected_chromedriver\n"
     ]
    },
    {
     "name": "stdout",
     "output_type": "stream",
     "text": [
      "2023-11-02 11:30:15 [info     ] after [Errno 2] No such file or directory: '/Users/jong/Library/Application Support/undetected_chromedriver/undetected/chromedriver-mac-x64/LICENSE.chromedriver' going to requesting openai.Image Psychedelic painting of A woman and a man having a discussion while standing beside a board displaying various health related statistics, including pie charts and bar graphs. 8k 3D / 16k 3D...\n"
     ]
    },
    {
     "name": "stderr",
     "output_type": "stream",
     "text": [
      "INFO:undetected_chromedriver.patcher:patching driver executable /Users/jong/Library/Application Support/undetected_chromedriver/undetected_chromedriver\n"
     ]
    },
    {
     "name": "stdout",
     "output_type": "stream",
     "text": [
      "2023-11-02 11:30:15 [info     ] after [Errno 2] No such file or directory: '/Users/jong/Library/Application Support/undetected_chromedriver/undetected/chromedriver-mac-x64/chromedriver' -> '/Users/jong/Library/Application Support/undetected_chromedriver/undetected_chromedriver' going to requesting openai.Image Watercolour painting of A woman standing in front of a large computer screen displaying various graphs and charts related to COVID-19 data. Ultra HD...\n",
      "2023-11-02 11:30:16 [info     ] after Message: Service /Users/jong/Library/Application Support/undetected_chromedriver/undetected_chromedriver unexpectedly exited. Status code was: -9\n",
      " going to requesting openai.Image 35mm Macro photography of A computer screen displaying a dataset from Our World in Data, with graphs and charts indicating the COVID-19 infection rate. 3840x2160...\n"
     ]
    },
    {
     "name": "stderr",
     "output_type": "stream",
     "text": [
      "INFO:openai:error_code=content_policy_violation error_message='Your request was rejected as a result of our safety system. Your prompt may contain text that is not allowed by our safety system.' error_param=None error_type=invalid_request_error message='OpenAI API error received' stream_error=False\n",
      "INFO:openai:error_code=content_policy_violation error_message='Your request was rejected as a result of our safety system. Your prompt may contain text that is not allowed by our safety system.' error_param=None error_type=invalid_request_error message='OpenAI API error received' stream_error=False\n",
      "INFO:undetected_chromedriver.patcher:patching driver executable /Users/jong/Library/Application Support/undetected_chromedriver/undetected_chromedriver\n"
     ]
    },
    {
     "name": "stdout",
     "output_type": "stream",
     "text": [
      "2023-11-02 11:30:16 [info     ] after Message: Service /Users/jong/Library/Application Support/undetected_chromedriver/undetected_chromedriver unexpectedly exited. Status code was: -9\n",
      " going to requesting openai.Image Watercolour painting of A person sitting at a computer, copying code from a project on their screen. The original project remains unchanged on a second computer screen. 8k 3D / 16k 3D...\n"
     ]
    },
    {
     "name": "stderr",
     "output_type": "stream",
     "text": [
      "INFO:undetected_chromedriver.patcher:patching driver executable /Users/jong/Library/Application Support/undetected_chromedriver/undetected_chromedriver\n"
     ]
    },
    {
     "name": "stdout",
     "output_type": "stream",
     "text": [
      "2023-11-02 11:30:16 [info     ] received openai.Image...\n",
      "2023-11-02 11:30:16 [info     ] requesting openai...\n",
      "2023-11-02 11:30:16 [info     ] after Message: Service /Users/jong/Library/Application Support/undetected_chromedriver/undetected_chromedriver unexpectedly exited. Status code was: -9\n",
      " going to requesting openai.Image Oil painting of An image of the cover page of the paper titled \"COVID-19 Data Collection: Garbage In, Garbage Out\" with the author's name prominently displayed. 8k resolution / 16k resolution...\n"
     ]
    },
    {
     "name": "stderr",
     "output_type": "stream",
     "text": [
      "INFO:openai:error_code=content_policy_violation error_message='Your request was rejected as a result of our safety system. Your prompt may contain text that is not allowed by our safety system.' error_param=None error_type=invalid_request_error message='OpenAI API error received' stream_error=False\n"
     ]
    },
    {
     "name": "stdout",
     "output_type": "stream",
     "text": [
      "2023-11-02 11:30:17 [info     ] 35mm Macro photography of A man sitting at his computer, interacting with Github webpage, making a 'fork' of an open-source project. Detailed\n",
      "2023-11-02 11:30:20 [info     ] received openai.Image...\n",
      "2023-11-02 11:30:20 [info     ] requesting openai...\n"
     ]
    },
    {
     "name": "stderr",
     "output_type": "stream",
     "text": [
      "INFO:undetected_chromedriver.patcher:patching driver executable /Users/jong/Library/Application Support/undetected_chromedriver/undetected_chromedriver\n"
     ]
    },
    {
     "name": "stdout",
     "output_type": "stream",
     "text": [
      "2023-11-02 11:30:20 [info     ] after Message: Service /Users/jong/Library/Application Support/undetected_chromedriver/undetected_chromedriver unexpectedly exited. Status code was: -9\n",
      " going to requesting openai.Image Surrealism painting of A man standing in front of a large, interactive display showing various charts, graphs and maps related to COVID-19 data. 8k resolution / 16k resolution...\n"
     ]
    },
    {
     "name": "stderr",
     "output_type": "stream",
     "text": [
      "INFO:openai:error_code=content_policy_violation error_message='Your request was rejected as a result of our safety system. Your prompt may contain text that is not allowed by our safety system.' error_param=None error_type=invalid_request_error message='OpenAI API error received' stream_error=False\n",
      "INFO:root:[02/11/2023 11:30:21] Bing Image Creator (Dalle-3) Opened\n",
      "INFO:undetected_chromedriver.patcher:patching driver executable /Users/jong/Library/Application Support/undetected_chromedriver/undetected_chromedriver\n"
     ]
    },
    {
     "name": "stdout",
     "output_type": "stream",
     "text": [
      "2023-11-02 11:30:21 [info     ] after [Errno 2] No such file or directory: '/Users/jong/Library/Application Support/undetected_chromedriver/undetected/chromedriver-mac-x64/chromedriver' -> '/Users/jong/Library/Application Support/undetected_chromedriver/undetected_chromedriver' going to requesting openai.Image Drone photography of A man standing in front of a large digital screen displaying various graphs and charts related to COVID-19 data. 8k 3D / 16k 3D...\n",
      "2023-11-02 11:30:21 [info     ] after Message: Service /Users/jong/Library/Application Support/undetected_chromedriver/undetected_chromedriver unexpectedly exited. Status code was: -9\n",
      " going to requesting openai.Image Photoillustration of A graphic of the Our World in Data logo, accompanied by a photo of Statistics Manager Edouard Mathieu and the logo of the European Centre for Disease Prevention and Control. Ultrafine detail...\n",
      "2023-11-02 11:30:21 [info     ] after [Errno 2] No such file or directory: '/Users/jong/Library/Application Support/undetected_chromedriver/undetected/chromedriver-mac-x64/chromedriver' -> '/Users/jong/Library/Application Support/undetected_chromedriver/undetected_chromedriver' going to requesting openai.Image Psychedelic painting of An image of a person looking frustrated with piles of paperwork on their desk, safety equipment like a helmet and goggles visible in the background, and a graph chart depicting rise and fall trends in another corner. Detailed...\n",
      "2023-11-02 11:30:21 [info     ] after [Errno 2] No such file or directory: '/Users/jong/Library/Application Support/undetected_chromedriver/undetected/chromedriver-mac-x64/chromedriver' -> '/Users/jong/Library/Application Support/undetected_chromedriver/undetected_chromedriver' going to requesting openai.Image Yarn art of A man in a neat suit sitting at a desk, looking curiously at another person while gesturing towards a pile of documents on his table. Ultrafine detail...\n",
      "2023-11-02 11:30:21 [info     ] after [Errno 2] No such file or directory: '/Users/jong/Library/Application Support/undetected_chromedriver/undetected/chromedriver-mac-x64/chromedriver' -> '/Users/jong/Library/Application Support/undetected_chromedriver/undetected_chromedriver' going to requesting openai.Image Drone photography of A man standing in front of a large digital screen displaying maps and graphs related to COVID-19 data. 8k 3D / 16k 3D...\n"
     ]
    },
    {
     "name": "stderr",
     "output_type": "stream",
     "text": [
      "INFO:openai:error_code=content_policy_violation error_message='Your request was rejected as a result of our safety system. Your prompt may contain text that is not allowed by our safety system.' error_param=None error_type=invalid_request_error message='OpenAI API error received' stream_error=False\n",
      "INFO:openai:error_code=content_policy_violation error_message='Your request was rejected as a result of our safety system. Your prompt may contain text that is not allowed by our safety system.' error_param=None error_type=invalid_request_error message='OpenAI API error received' stream_error=False\n"
     ]
    },
    {
     "name": "stdout",
     "output_type": "stream",
     "text": [
      "2023-11-02 11:30:22 [info     ] after [Errno 2] No such file or directory: '/Users/jong/Library/Application Support/undetected_chromedriver/undetected/chromedriver-mac-x64/chromedriver' -> '/Users/jong/Library/Application Support/undetected_chromedriver/undetected_chromedriver' going to requesting openai.Image Highly-detailed needlepoint of A large whiteboard with the words \"Health Statistics\" written at the top, surrounded by various diagrams and handwritten definitions related to the topic. Ultra HD...\n",
      "2023-11-02 11:30:22 [info     ] after [Errno 2] No such file or directory: '/Users/jong/Library/Application Support/undetected_chromedriver/undetected/chromedriver-mac-x64/chromedriver' -> '/Users/jong/Library/Application Support/undetected_chromedriver/undetected_chromedriver' going to requesting openai.Image Chalk art of A collage of the logos of ECDC, Johns Hopkins University and the New York Times, superimposed over a Covid-19 data chart. Ultrafine detail...\n"
     ]
    },
    {
     "name": "stderr",
     "output_type": "stream",
     "text": [
      "INFO:undetected_chromedriver.patcher:patching driver executable /Users/jong/Library/Application Support/undetected_chromedriver/undetected_chromedriver\n"
     ]
    },
    {
     "name": "stdout",
     "output_type": "stream",
     "text": [
      "2023-11-02 11:30:22 [info     ] after Message: Service /Users/jong/Library/Application Support/undetected_chromedriver/undetected_chromedriver unexpectedly exited. Status code was: -9\n",
      " going to requesting openai.Image Award winning 4k DSLR photo of An animated image of a calendar with various dates being marked and a bar chart showing reported cases and deaths by date, with some bars growing larger to represent late reported cases. 8k 3D / 16k 3D...\n"
     ]
    },
    {
     "name": "stderr",
     "output_type": "stream",
     "text": [
      "INFO:openai:error_code=content_policy_violation error_message='Your request was rejected as a result of our safety system. Your prompt may contain text that is not allowed by our safety system.' error_param=None error_type=invalid_request_error message='OpenAI API error received' stream_error=False\n"
     ]
    },
    {
     "name": "stdout",
     "output_type": "stream",
     "text": [
      "2023-11-02 11:30:23 [info     ] after [Errno 2] No such file or directory: '/Users/jong/Library/Application Support/undetected_chromedriver/undetected/chromedriver-mac-x64/chromedriver' -> '/Users/jong/Library/Application Support/undetected_chromedriver/undetected_chromedriver' going to requesting openai.Image Stained glass of Two graphs from a scientific paper side by side, each showing the number of COVID-19 cases per day in New York City during two distinct peak periods. 8k resolution / 16k resolution...\n",
      "2023-11-02 11:30:23 [info     ] after [Errno 2] No such file or directory: '/Users/jong/Library/Application Support/undetected_chromedriver/undetected_chromedriver' going to requesting openai.Image Award winning 4k DSLR photo of A man and woman standing in front of a large whiteboard filled with scientific diagrams and documents, smiling at the viewer with markers in their hands and ready to explain. 8k resolution / 16k resolution...\n",
      "2023-11-02 11:30:23 [info     ] received openai.Image...\n",
      "2023-11-02 11:30:23 [info     ] received openai.Image...\n",
      "2023-11-02 11:30:23 [info     ] requesting openai...\n",
      "2023-11-02 11:30:23 [info     ] requesting openai...\n"
     ]
    },
    {
     "name": "stderr",
     "output_type": "stream",
     "text": [
      "INFO:openai:error_code=content_policy_violation error_message='Your request was rejected as a result of our safety system. Your prompt may contain text that is not allowed by our safety system.' error_param=None error_type=invalid_request_error message='OpenAI API error received' stream_error=False\n",
      "INFO:root:[02/11/2023 11:30:23] Cookie values added \n"
     ]
    },
    {
     "name": "stdout",
     "output_type": "stream",
     "text": [
      "2023-11-02 11:30:25 [info     ] after [Errno 2] No such file or directory: '/Users/jong/Library/Application Support/undetected_chromedriver/undetected/chromedriver-mac-x64/chromedriver' -> '/Users/jong/Library/Application Support/undetected_chromedriver/undetected_chromedriver' going to requesting openai.Image Oil painting of An image of the cover page of the paper titled \"COVID-19 Data Collection: Garbage In, Garbage Out\" with the author's name prominently displayed. 8k resolution / 16k resolution...\n"
     ]
    },
    {
     "name": "stderr",
     "output_type": "stream",
     "text": [
      "INFO:openai:error_code=content_policy_violation error_message='Your request was rejected as a result of our safety system. Your prompt may contain text that is not allowed by our safety system.' error_param=None error_type=invalid_request_error message='OpenAI API error received' stream_error=False\n"
     ]
    },
    {
     "name": "stdout",
     "output_type": "stream",
     "text": [
      "2023-11-02 11:30:25 [info     ] after [Errno 2] No such file or directory: '/Users/jong/Library/Application Support/undetected_chromedriver/undetected/chromedriver-mac-x64/chromedriver' -> '/Users/jong/Library/Application Support/undetected_chromedriver/undetected_chromedriver' going to requesting openai.Image 35mm Macro photography of A computer screen displaying a dataset from Our World in Data, with graphs and charts indicating the COVID-19 infection rate. 3840x2160...\n",
      "2023-11-02 11:30:25 [info     ] after [Errno 2] No such file or directory: '/Users/jong/Library/Application Support/undetected_chromedriver/undetected/chromedriver-mac-x64/chromedriver' -> '/Users/jong/Library/Application Support/undetected_chromedriver/undetected_chromedriver' going to requesting openai.Image Watercolour painting of A woman standing in front of a large computer screen displaying various graphs and charts related to COVID-19 data. Ultra HD...\n"
     ]
    },
    {
     "name": "stderr",
     "output_type": "stream",
     "text": [
      "INFO:openai:error_code=content_policy_violation error_message='Your request was rejected as a result of our safety system. Your prompt may contain text that is not allowed by our safety system.' error_param=None error_type=invalid_request_error message='OpenAI API error received' stream_error=False\n",
      "INFO:openai:error_code=content_policy_violation error_message='Your request was rejected as a result of our safety system. Your prompt may contain text that is not allowed by our safety system.' error_param=None error_type=invalid_request_error message='OpenAI API error received' stream_error=False\n"
     ]
    },
    {
     "name": "stdout",
     "output_type": "stream",
     "text": [
      "2023-11-02 11:30:26 [info     ] received openai...\n",
      "2023-11-02 11:30:26 [info     ] received openai...\n"
     ]
    },
    {
     "name": "stderr",
     "output_type": "stream",
     "text": [
      "INFO:undetected_chromedriver.patcher:patching driver executable /Users/jong/Library/Application Support/undetected_chromedriver/undetected_chromedriver\n"
     ]
    },
    {
     "name": "stdout",
     "output_type": "stream",
     "text": [
      "2023-11-02 11:30:27 [info     ] after Message: Unable to locate or obtain driver for chrome; For documentation on this error, please visit: https://www.selenium.dev/documentation/webdriver/troubleshooting/errors/driver_location\n",
      " going to requesting openai.Image Stained glass of Two graphs from a scientific paper side by side, each showing the number of COVID-19 cases per day in New York City during two distinct peak periods. 8k resolution / 16k resolution...\n"
     ]
    },
    {
     "name": "stderr",
     "output_type": "stream",
     "text": [
      "INFO:openai:error_code=content_policy_violation error_message='Your request was rejected as a result of our safety system. Your prompt may contain text that is not allowed by our safety system.' error_param=None error_type=invalid_request_error message='OpenAI API error received' stream_error=False\n"
     ]
    },
    {
     "name": "stdout",
     "output_type": "stream",
     "text": [
      "2023-11-02 11:30:27 [info     ] after [Errno 2] No such file or directory: '/Users/jong/Library/Application Support/undetected_chromedriver/undetected/chromedriver-mac-x64/chromedriver' -> '/Users/jong/Library/Application Support/undetected_chromedriver/undetected_chromedriver' going to requesting openai.Image Chalk art of A collage of the logos of ECDC, Johns Hopkins University and the New York Times, superimposed over a Covid-19 data chart. Ultrafine detail...\n"
     ]
    },
    {
     "name": "stderr",
     "output_type": "stream",
     "text": [
      "INFO:undetected_chromedriver.patcher:patching driver executable /Users/jong/Library/Application Support/undetected_chromedriver/undetected_chromedriver\n",
      "INFO:openai:error_code=content_policy_violation error_message='Your request was rejected as a result of our safety system. Your prompt may contain text that is not allowed by our safety system.' error_param=None error_type=invalid_request_error message='OpenAI API error received' stream_error=False\n"
     ]
    },
    {
     "name": "stdout",
     "output_type": "stream",
     "text": [
      "2023-11-02 11:30:28 [info     ] after Message: Service /Users/jong/Library/Application Support/undetected_chromedriver/undetected_chromedriver unexpectedly exited. Status code was: -9\n",
      " going to requesting openai.Image Surrealism painting of A man standing in front of a large, interactive display showing various charts, graphs and maps related to COVID-19 data. 8k resolution / 16k resolution...\n",
      "2023-11-02 11:30:28 [info     ] received openai.Image...\n",
      "2023-11-02 11:30:28 [info     ] requesting openai...\n"
     ]
    },
    {
     "name": "stderr",
     "output_type": "stream",
     "text": [
      "INFO:undetected_chromedriver.patcher:patching driver executable /Users/jong/Library/Application Support/undetected_chromedriver/undetected_chromedriver\n",
      "INFO:openai:error_code=content_policy_violation error_message='Your request was rejected as a result of our safety system. Your prompt may contain text that is not allowed by our safety system.' error_param=None error_type=invalid_request_error message='OpenAI API error received' stream_error=False\n"
     ]
    },
    {
     "name": "stdout",
     "output_type": "stream",
     "text": [
      "2023-11-02 11:30:28 [info     ] after Message: Service /Users/jong/Library/Application Support/undetected_chromedriver/undetected_chromedriver unexpectedly exited. Status code was: -9\n",
      " going to requesting openai.Image Drone photography of A man standing in front of a large digital screen displaying various graphs and charts related to COVID-19 data. 8k 3D / 16k 3D...\n",
      "2023-11-02 11:30:28 [info     ] after [Errno 2] No such file or directory: '/Users/jong/Library/Application Support/undetected_chromedriver/undetected/chromedriver-mac-x64/chromedriver' -> '/Users/jong/Library/Application Support/undetected_chromedriver/undetected_chromedriver' going to requesting openai.Image Drone photography of A man standing in front of a large digital screen displaying maps and graphs related to COVID-19 data. 8k 3D / 16k 3D...\n"
     ]
    },
    {
     "name": "stderr",
     "output_type": "stream",
     "text": [
      "INFO:openai:error_code=content_policy_violation error_message='Your request was rejected as a result of our safety system. Your prompt may contain text that is not allowed by our safety system.' error_param=None error_type=invalid_request_error message='OpenAI API error received' stream_error=False\n"
     ]
    },
    {
     "name": "stdout",
     "output_type": "stream",
     "text": [
      "2023-11-02 11:30:28 [info     ] received openai.Image...\n",
      "2023-11-02 11:30:28 [info     ] requesting openai...\n"
     ]
    },
    {
     "name": "stderr",
     "output_type": "stream",
     "text": [
      "INFO:openai:error_code=content_policy_violation error_message='Your request was rejected as a result of our safety system. Your prompt may contain text that is not allowed by our safety system.' error_param=None error_type=invalid_request_error message='OpenAI API error received' stream_error=False\n"
     ]
    },
    {
     "name": "stdout",
     "output_type": "stream",
     "text": [
      "2023-11-02 11:30:29 [info     ] received openai.Image...\n",
      "2023-11-02 11:30:29 [info     ] requesting openai...\n",
      "2023-11-02 11:30:29 [info     ] received openai.Image...\n",
      "2023-11-02 11:30:29 [info     ] requesting openai...\n",
      "2023-11-02 11:30:29 [info     ] received openai.Image...\n",
      "2023-11-02 11:30:29 [info     ] requesting openai...\n",
      "2023-11-02 11:30:30 [info     ] received openai.Image...\n",
      "2023-11-02 11:30:30 [info     ] requesting openai...\n"
     ]
    },
    {
     "name": "stderr",
     "output_type": "stream",
     "text": [
      "INFO:undetected_chromedriver.patcher:patching driver executable /Users/jong/Library/Application Support/undetected_chromedriver/undetected_chromedriver\n"
     ]
    },
    {
     "name": "stdout",
     "output_type": "stream",
     "text": [
      "2023-11-02 11:30:32 [info     ] Dalle3: urls=['https://th.bing.com/th/id/OIG.EXtkuX8HiDAld.4nGyRw', 'https://th.bing.com/th/id/OIG.L.Y.vM9Evo2dbMRBaiLN', 'https://th.bing.com/th/id/OIG.n0LOOLr8.ZTqq9gvVOK4', 'https://th.bing.com/th/id/OIG.PpTi.1NSpU9UBOy0aKcd'], choosing just first one\n",
      "2023-11-02 11:30:32 [info     ] after Message: Service /Users/jong/Library/Application Support/undetected_chromedriver/undetected_chromedriver unexpectedly exited. Status code was: -9\n",
      " going to requesting openai.Image Fish-eye lens photography of An image of a man pointing towards a large chalkboard, that has diagrams and notes explaining the difference between aggregated data and raw data. Ultra HD...\n",
      "2023-11-02 11:30:32 [info     ] after [Errno 2] No such file or directory: '/Users/jong/Library/Application Support/undetected_chromedriver/undetected/chromedriver-mac-x64/chromedriver' -> '/Users/jong/Library/Application Support/undetected_chromedriver/undetected_chromedriver' going to requesting openai.Image Matte painting of An image of a bar graph showing a sudden large spike in recorded infection rates in mid-May, with consistent, lower level data recorded from March till May. Ultrafine detail...\n",
      "2023-11-02 11:30:32 [info     ] received openai.Image...\n"
     ]
    },
    {
     "name": "stderr",
     "output_type": "stream",
     "text": [
      "INFO:undetected_chromedriver.patcher:patching driver executable /Users/jong/Library/Application Support/undetected_chromedriver/undetected_chromedriver\n"
     ]
    },
    {
     "name": "stdout",
     "output_type": "stream",
     "text": [
      "2023-11-02 11:30:33 [info     ] received openai...\n",
      "2023-11-02 11:30:33 [info     ] after Message: Service /Users/jong/Library/Application Support/undetected_chromedriver/undetected_chromedriver unexpectedly exited. Status code was: -9\n",
      " going to requesting openai.Image Oil painting of An image of the cover page of the paper titled \"COVID-19 Data Collection: Garbage In, Garbage Out\" with the author's name prominently displayed. 8k resolution / 16k resolution...\n",
      "2023-11-02 11:30:33 [info     ] after [Errno 2] No such file or directory: '/Users/jong/Library/Application Support/undetected_chromedriver/undetected/chromedriver-mac-x64/chromedriver' -> '/Users/jong/Library/Application Support/undetected_chromedriver/undetected_chromedriver' going to requesting openai.Image 35mm Macro photography of A computer screen displaying a dataset from Our World in Data, with graphs and charts indicating the COVID-19 infection rate. 3840x2160...\n",
      "2023-11-02 11:30:33 [info     ] after [Errno 2] No such file or directory: '/Users/jong/Library/Application Support/undetected_chromedriver/undetected/chromedriver-mac-x64/chromedriver' -> '/Users/jong/Library/Application Support/undetected_chromedriver/undetected_chromedriver' going to requesting openai.Image Watercolour painting of A woman standing in front of a large computer screen displaying various graphs and charts related to COVID-19 data. Ultra HD...\n"
     ]
    },
    {
     "name": "stderr",
     "output_type": "stream",
     "text": [
      "INFO:openai:error_code=content_policy_violation error_message='Your request was rejected as a result of our safety system. Your prompt may contain text that is not allowed by our safety system.' error_param=None error_type=invalid_request_error message='OpenAI API error received' stream_error=False\n",
      "INFO:openai:error_code=content_policy_violation error_message='Your request was rejected as a result of our safety system. Your prompt may contain text that is not allowed by our safety system.' error_param=None error_type=invalid_request_error message='OpenAI API error received' stream_error=False\n"
     ]
    },
    {
     "name": "stdout",
     "output_type": "stream",
     "text": [
      "2023-11-02 11:30:33 [info     ] received openai...\n"
     ]
    },
    {
     "name": "stderr",
     "output_type": "stream",
     "text": [
      "INFO:openai:error_code=content_policy_violation error_message='Your request was rejected as a result of our safety system. Your prompt may contain text that is not allowed by our safety system.' error_param=None error_type=invalid_request_error message='OpenAI API error received' stream_error=False\n"
     ]
    },
    {
     "name": "stdout",
     "output_type": "stream",
     "text": [
      "2023-11-02 11:30:34 [info     ] received openai...\n",
      "2023-11-02 11:30:34 [info     ] received openai...\n",
      "2023-11-02 11:30:34 [info     ] received openai...\n",
      "2023-11-02 11:30:34 [info     ] received openai...\n",
      "2023-11-02 11:30:35 [info     ] received openai...\n"
     ]
    },
    {
     "name": "stderr",
     "output_type": "stream",
     "text": [
      "INFO:undetected_chromedriver.patcher:patching driver executable /Users/jong/Library/Application Support/undetected_chromedriver/undetected_chromedriver\n"
     ]
    },
    {
     "name": "stdout",
     "output_type": "stream",
     "text": [
      "2023-11-02 11:30:36 [info     ] after Message: Service /Users/jong/Library/Application Support/undetected_chromedriver/undetected_chromedriver unexpectedly exited. Status code was: -9\n",
      " going to requesting openai.Image Stained glass of Two graphs from a scientific paper side by side, each showing the number of COVID-19 cases per day in New York City during two distinct peak periods. 8k resolution / 16k resolution...\n"
     ]
    },
    {
     "name": "stderr",
     "output_type": "stream",
     "text": [
      "INFO:openai:error_code=content_policy_violation error_message='Your request was rejected as a result of our safety system. Your prompt may contain text that is not allowed by our safety system.' error_param=None error_type=invalid_request_error message='OpenAI API error received' stream_error=False\n"
     ]
    },
    {
     "name": "stdout",
     "output_type": "stream",
     "text": [
      "2023-11-02 11:30:36 [info     ] after [Errno 2] No such file or directory: '/Users/jong/Library/Application Support/undetected_chromedriver/undetected/chromedriver-mac-x64/chromedriver' -> '/Users/jong/Library/Application Support/undetected_chromedriver/undetected_chromedriver' going to requesting openai.Image Drone photography of A man standing in front of a large digital screen displaying various graphs and charts related to COVID-19 data. 8k 3D / 16k 3D...\n",
      "2023-11-02 11:30:37 [info     ] after [Errno 2] No such file or directory: '/Users/jong/Library/Application Support/undetected_chromedriver/undetected/chromedriver-mac-x64/chromedriver' -> '/Users/jong/Library/Application Support/undetected_chromedriver/undetected_chromedriver' going to requesting openai.Image Chalk art of A collage of the logos of ECDC, Johns Hopkins University and the New York Times, superimposed over a Covid-19 data chart. Ultrafine detail...\n",
      "2023-11-02 11:30:37 [info     ] after [Errno 2] No such file or directory: '/Users/jong/Library/Application Support/undetected_chromedriver/undetected/chromedriver-mac-x64/chromedriver' -> '/Users/jong/Library/Application Support/undetected_chromedriver/undetected_chromedriver' going to requesting openai.Image Drone photography of A man standing in front of a large digital screen displaying maps and graphs related to COVID-19 data. 8k 3D / 16k 3D...\n"
     ]
    },
    {
     "name": "stderr",
     "output_type": "stream",
     "text": [
      "INFO:openai:error_code=content_policy_violation error_message='Your request was rejected as a result of our safety system. Your prompt may contain text that is not allowed by our safety system.' error_param=None error_type=invalid_request_error message='OpenAI API error received' stream_error=False\n",
      "INFO:openai:error_code=content_policy_violation error_message='Your request was rejected as a result of our safety system. Your prompt may contain text that is not allowed by our safety system.' error_param=None error_type=invalid_request_error message='OpenAI API error received' stream_error=False\n",
      "INFO:openai:error_code=content_policy_violation error_message='Your request was rejected as a result of our safety system. Your prompt may contain text that is not allowed by our safety system.' error_param=None error_type=invalid_request_error message='OpenAI API error received' stream_error=False\n"
     ]
    },
    {
     "name": "stdout",
     "output_type": "stream",
     "text": [
      "2023-11-02 11:30:37 [info     ] after [Errno 2] No such file or directory: '/Users/jong/Library/Application Support/undetected_chromedriver/undetected/chromedriver-mac-x64/chromedriver' -> '/Users/jong/Library/Application Support/undetected_chromedriver/undetected_chromedriver' going to requesting openai.Image Surrealism painting of A man standing in front of a large, interactive display showing various charts, graphs and maps related to COVID-19 data. 8k resolution / 16k resolution...\n",
      "2023-11-02 11:30:37 [info     ] received openai...\n"
     ]
    },
    {
     "name": "stderr",
     "output_type": "stream",
     "text": [
      "INFO:openai:error_code=content_policy_violation error_message='Your request was rejected as a result of our safety system. Your prompt may contain text that is not allowed by our safety system.' error_param=None error_type=invalid_request_error message='OpenAI API error received' stream_error=False\n",
      "INFO:undetected_chromedriver.patcher:patching driver executable /Users/jong/Library/Application Support/undetected_chromedriver/undetected_chromedriver\n"
     ]
    },
    {
     "name": "stdout",
     "output_type": "stream",
     "text": [
      "2023-11-02 11:30:38 [info     ] after Message: Service /Users/jong/Library/Application Support/undetected_chromedriver/undetected_chromedriver unexpectedly exited. Status code was: -9\n",
      " going to requesting openai.Image Karen Knorr photography of A man sitting at a computer, analyzing data and graphs from different tabs opened on his browser, one of them showing 'Our World in Data' and another showing the New York Health Department's website. A draft of a blog post with charts and bullet points can be seen on another monitor. 8k 3D / 16k 3D...\n",
      "2023-11-02 11:30:39 [info     ] received openai.Image...\n",
      "2023-11-02 11:30:39 [info     ] requesting openai...\n",
      "2023-11-02 11:30:40 [info     ] received openai.Image...\n",
      "2023-11-02 11:30:40 [info     ] requesting openai...\n"
     ]
    },
    {
     "name": "stderr",
     "output_type": "stream",
     "text": [
      "INFO:undetected_chromedriver.patcher:patching driver executable /Users/jong/Library/Application Support/undetected_chromedriver/undetected_chromedriver\n"
     ]
    },
    {
     "name": "stdout",
     "output_type": "stream",
     "text": [
      "2023-11-02 11:30:41 [info     ] after [Errno 2] No such file or directory: '/Users/jong/Library/Application Support/undetected_chromedriver/undetected/chromedriver-mac-x64/chromedriver' -> '/Users/jong/Library/Application Support/undetected_chromedriver/undetected_chromedriver' going to requesting openai.Image Yarn art of A person holding a large bowl full of colorful vegetables, stirring enthusiastically with a wooden spoon. 8k resolution / 16k resolution...\n",
      "2023-11-02 11:30:42 [info     ] after Message: Service /Users/jong/Library/Application Support/undetected_chromedriver/undetected_chromedriver unexpectedly exited. Status code was: -9\n",
      " going to requesting openai.Image Yarn art of A woman addressing an audience, pointing towards a large screen displaying various trends and graphs, while folders of reports are scattered across a table nearby. 8k resolution / 16k resolution...\n",
      "2023-11-02 11:30:42 [info     ] after [Errno 2] No such file or directory: '/Users/jong/Library/Application Support/undetected_chromedriver/undetected/chromedriver-mac-x64/chromedriver' -> '/Users/jong/Library/Application Support/undetected_chromedriver/undetected_chromedriver' going to requesting openai.Image Award winning 4k DSLR photo of A researcher in a lab coat analyzing data on a computer, with drug samples and patient files spread out on a desk. 8k resolution / 16k resolution...\n",
      "2023-11-02 11:30:42 [info     ] after [Errno 2] No such file or directory: '/Users/jong/Library/Application Support/undetected_chromedriver/undetected/chromedriver-mac-x64/chromedriver' -> '/Users/jong/Library/Application Support/undetected_chromedriver/undetected_chromedriver' going to requesting openai.Image Watercolour painting of A woman standing in front of a large computer screen displaying various graphs and charts related to COVID-19 data. Ultra HD...\n",
      "2023-11-02 11:30:42 [info     ] after [Errno 66] Directory not empty: '/Users/jong/Library/Application Support/undetected_chromedriver/undetected' going to requesting openai.Image Realism painting of A woman standing in a lecture hall in front of a large screen displaying a COVID-19 Dashboard. 8k resolution / 16k resolution...\n"
     ]
    },
    {
     "name": "stderr",
     "output_type": "stream",
     "text": [
      "INFO:openai:error_code=content_policy_violation error_message='Your request was rejected as a result of our safety system. Your prompt may contain text that is not allowed by our safety system.' error_param=None error_type=invalid_request_error message='OpenAI API error received' stream_error=False\n",
      "INFO:openai:error_code=content_policy_violation error_message='Your request was rejected as a result of our safety system. Your prompt may contain text that is not allowed by our safety system.' error_param=None error_type=invalid_request_error message='OpenAI API error received' stream_error=False\n",
      "INFO:undetected_chromedriver.patcher:patching driver executable /Users/jong/Library/Application Support/undetected_chromedriver/undetected_chromedriver\n"
     ]
    },
    {
     "name": "stdout",
     "output_type": "stream",
     "text": [
      "2023-11-02 11:30:43 [info     ] after [Errno 2] No such file or directory: '/Users/jong/Library/Application Support/undetected_chromedriver/undetected/chromedriver-mac-x64/chromedriver' -> '/Users/jong/Library/Application Support/undetected_chromedriver/undetected_chromedriver' going to requesting openai.Image Highly-detailed needlepoint of A line graph displaying a significant spike in cases on a specific date, compared to a lower line indicating incident-based data. Ultra HD...\n",
      "2023-11-02 11:30:43 [info     ] after [Errno 2] No such file or directory: '/Users/jong/Library/Application Support/undetected_chromedriver/undetected/chromedriver-mac-x64/chromedriver' -> '/Users/jong/Library/Application Support/undetected_chromedriver/undetected_chromedriver' going to requesting openai.Image Lego art of An office setting where a man points towards a giant screen illustrating the process of data aggregation, visually showing different sources of data merging into one comprehensive set for easier analysis. Detailed...\n",
      "2023-11-02 11:30:43 [info     ] after Message: Service /Users/jong/Library/Application Support/undetected_chromedriver/undetected_chromedriver unexpectedly exited. Status code was: -9\n",
      " going to requesting openai.Image 35mm Macro photography of A computer screen displaying a dataset from Our World in Data, with graphs and charts indicating the COVID-19 infection rate. 3840x2160...\n",
      "2023-11-02 11:30:43 [info     ] after [Errno 2] No such file or directory: '/Users/jong/Library/Application Support/undetected_chromedriver/undetected/chromedriver-mac-x64/chromedriver' -> '/Users/jong/Library/Application Support/undetected_chromedriver/undetected_chromedriver' going to requesting openai.Image 35mm Macro photography of A man and a woman engaging in a conversation near a blackboard which displays the phrases \"Data Collection\" and \"Publishing\" with few illustrative diagrams surrounding the words. Ultra HD...\n"
     ]
    },
    {
     "name": "stderr",
     "output_type": "stream",
     "text": [
      "INFO:openai:error_code=content_policy_violation error_message='Your request was rejected as a result of our safety system. Your prompt may contain text that is not allowed by our safety system.' error_param=None error_type=invalid_request_error message='OpenAI API error received' stream_error=False\n"
     ]
    },
    {
     "name": "stdout",
     "output_type": "stream",
     "text": [
      "2023-11-02 11:30:43 [info     ] after [Errno 2] No such file or directory: '/Users/jong/Library/Application Support/undetected_chromedriver/undetected/chromedriver-mac-x64/chromedriver' -> '/Users/jong/Library/Application Support/undetected_chromedriver/undetected_chromedriver' going to requesting openai.Image Oil painting of An image of the cover page of the paper titled \"COVID-19 Data Collection: Garbage In, Garbage Out\" with the author's name prominently displayed. 8k resolution / 16k resolution...\n"
     ]
    },
    {
     "name": "stderr",
     "output_type": "stream",
     "text": [
      "INFO:openai:error_code=content_policy_violation error_message='Your request was rejected as a result of our safety system. Your prompt may contain text that is not allowed by our safety system.' error_param=None error_type=invalid_request_error message='OpenAI API error received' stream_error=False\n"
     ]
    },
    {
     "name": "stdout",
     "output_type": "stream",
     "text": [
      "2023-11-02 11:30:43 [info     ] after [Errno 2] No such file or directory: '/Users/jong/Library/Application Support/undetected_chromedriver/undetected/chromedriver-mac-x64/chromedriver' -> '/Users/jong/Library/Application Support/undetected_chromedriver/undetected_chromedriver' going to requesting openai.Image 3d digital art of A man speaking to another individual, with a background showing the logos of organizations like WHO, ECDC, and JHU, and a chart showing data aggregation. Ultrafine detail...\n",
      "2023-11-02 11:30:44 [info     ] after [Errno 2] No such file or directory: '/Users/jong/Library/Application Support/undetected_chromedriver/undetected/chromedriver-mac-x64/chromedriver' -> '/Users/jong/Library/Application Support/undetected_chromedriver/undetected_chromedriver' going to requesting openai.Image Stained glass of Two graphs from a scientific paper side by side, each showing the number of COVID-19 cases per day in New York City during two distinct peak periods. 8k resolution / 16k resolution...\n",
      "2023-11-02 11:30:44 [info     ] after [Errno 2] No such file or directory: '/Users/jong/Library/Application Support/undetected_chromedriver/undetected/chromedriver-mac-x64/chromedriver' -> '/Users/jong/Library/Application Support/undetected_chromedriver/undetected_chromedriver' going to requesting openai.Image Drone photography of A man standing in front of a large digital screen displaying various graphs and charts related to COVID-19 data. 8k 3D / 16k 3D...\n",
      "2023-11-02 11:30:44 [info     ] after [Errno 2] No such file or directory: '/Users/jong/Library/Application Support/undetected_chromedriver/undetected/chromedriver-mac-x64/chromedriver' -> '/Users/jong/Library/Application Support/undetected_chromedriver/undetected_chromedriver' going to requesting openai.Image Surrealism painting of A man standing in front of a large, interactive display showing various charts, graphs and maps related to COVID-19 data. 8k resolution / 16k resolution...\n",
      "2023-11-02 11:30:44 [info     ] after [Errno 2] No such file or directory: '/Users/jong/Library/Application Support/undetected_chromedriver/undetected/chromedriver-mac-x64/chromedriver' -> '/Users/jong/Library/Application Support/undetected_chromedriver/undetected_chromedriver' going to requesting openai.Image Chalk art of A collage of the logos of ECDC, Johns Hopkins University and the New York Times, superimposed over a Covid-19 data chart. Ultrafine detail...\n",
      "2023-11-02 11:30:44 [info     ] after [Errno 2] No such file or directory: '/Users/jong/Library/Application Support/undetected_chromedriver/undetected/chromedriver-mac-x64/chromedriver' -> '/Users/jong/Library/Application Support/undetected_chromedriver/undetected_chromedriver' going to requesting openai.Image Drone photography of A man standing in front of a large digital screen displaying maps and graphs related to COVID-19 data. 8k 3D / 16k 3D...\n"
     ]
    },
    {
     "name": "stderr",
     "output_type": "stream",
     "text": [
      "INFO:openai:error_code=content_policy_violation error_message='Your request was rejected as a result of our safety system. Your prompt may contain text that is not allowed by our safety system.' error_param=None error_type=invalid_request_error message='OpenAI API error received' stream_error=False\n",
      "INFO:openai:error_code=content_policy_violation error_message='Your request was rejected as a result of our safety system. Your prompt may contain text that is not allowed by our safety system.' error_param=None error_type=invalid_request_error message='OpenAI API error received' stream_error=False\n",
      "INFO:openai:error_code=content_policy_violation error_message='Your request was rejected as a result of our safety system. Your prompt may contain text that is not allowed by our safety system.' error_param=None error_type=invalid_request_error message='OpenAI API error received' stream_error=False\n",
      "INFO:openai:error_code=content_policy_violation error_message='Your request was rejected as a result of our safety system. Your prompt may contain text that is not allowed by our safety system.' error_param=None error_type=invalid_request_error message='OpenAI API error received' stream_error=False\n",
      "INFO:openai:error_code=content_policy_violation error_message='Your request was rejected as a result of our safety system. Your prompt may contain text that is not allowed by our safety system.' error_param=None error_type=invalid_request_error message='OpenAI API error received' stream_error=False\n"
     ]
    },
    {
     "name": "stdout",
     "output_type": "stream",
     "text": [
      "2023-11-02 11:30:45 [info     ] received openai.Image...\n",
      "2023-11-02 11:30:45 [info     ] requesting openai...\n",
      "2023-11-02 11:30:46 [info     ] received openai...\n",
      "2023-11-02 11:30:47 [info     ] received openai...\n",
      "2023-11-02 11:30:47 [info     ] requesting openai...\n",
      "2023-11-02 11:30:47 [info     ] Dalle3: urls=['https://th.bing.com/th/id/OIG.kjQNURncuI.DI8qRRxMG', 'https://th.bing.com/th/id/OIG.V0ip9oT7fB1daXVTTUoH', 'https://th.bing.com/th/id/OIG.A6fA5EDiBHiHrsHz54fI', 'https://th.bing.com/th/id/OIG.ObpoFQY4loLxrupA3OKp'], choosing just first one\n",
      "2023-11-02 11:30:48 [info     ] received openai.Image...\n",
      "2023-11-02 11:30:48 [info     ] received openai.Image...\n",
      "2023-11-02 11:30:48 [info     ] requesting openai...\n",
      "2023-11-02 11:30:49 [info     ] received openai.Image...\n",
      "2023-11-02 11:30:49 [info     ] requesting openai...\n",
      "2023-11-02 11:30:49 [info     ] received openai.Image...\n",
      "2023-11-02 11:30:49 [info     ] requesting openai...\n",
      "2023-11-02 11:30:49 [info     ] received openai.Image...\n",
      "2023-11-02 11:30:49 [info     ] requesting openai...\n",
      "2023-11-02 11:30:49 [info     ] received openai.Image...\n",
      "2023-11-02 11:30:49 [info     ] requesting openai...\n",
      "2023-11-02 11:30:50 [info     ] requesting openai...\n",
      "2023-11-02 11:30:50 [info     ] after [Errno 2] No such file or directory: '/Users/jong/Library/Application Support/undetected_chromedriver/undetected/chromedriver-mac-x64/chromedriver' -> '/Users/jong/Library/Application Support/undetected_chromedriver/undetected_chromedriver' going to requesting openai.Image Realism painting of A woman standing in a lecture hall in front of a large screen displaying a COVID-19 Dashboard. 8k resolution / 16k resolution...\n"
     ]
    },
    {
     "name": "stderr",
     "output_type": "stream",
     "text": [
      "INFO:undetected_chromedriver.patcher:patching driver executable /Users/jong/Library/Application Support/undetected_chromedriver/undetected_chromedriver\n"
     ]
    },
    {
     "name": "stdout",
     "output_type": "stream",
     "text": [
      "2023-11-02 11:30:50 [info     ] received openai.Image...\n",
      "2023-11-02 11:30:50 [info     ] requesting openai...\n"
     ]
    },
    {
     "name": "stderr",
     "output_type": "stream",
     "text": [
      "INFO:openai:error_code=content_policy_violation error_message='Your request was rejected as a result of our safety system. Your prompt may contain text that is not allowed by our safety system.' error_param=None error_type=invalid_request_error message='OpenAI API error received' stream_error=False\n"
     ]
    },
    {
     "name": "stdout",
     "output_type": "stream",
     "text": [
      "2023-11-02 11:30:50 [info     ] after [Errno 2] No such file or directory: '/Users/jong/Library/Application Support/undetected_chromedriver/undetected/chromedriver-mac-x64/chromedriver' -> '/Users/jong/Library/Application Support/undetected_chromedriver/undetected_chromedriver' going to requesting openai.Image Award winning 4k DSLR photo of Apologies, but it seems that no sentence in a script is provided. Could you please provide more context or the specific sentence? 3840x2160...\n",
      "2023-11-02 11:30:50 [info     ] after [Errno 2] No such file or directory: '/Users/jong/Library/Application Support/undetected_chromedriver/undetected/chromedriver-mac-x64/chromedriver' -> '/Users/jong/Library/Application Support/undetected_chromedriver/undetected_chromedriver' going to requesting openai.Image Oil painting of An image of the cover page of the paper titled \"COVID-19 Data Collection: Garbage In, Garbage Out\" with the author's name prominently displayed. 8k resolution / 16k resolution...\n"
     ]
    },
    {
     "name": "stderr",
     "output_type": "stream",
     "text": [
      "INFO:openai:error_code=content_policy_violation error_message='Your request was rejected as a result of our safety system. Your prompt may contain text that is not allowed by our safety system.' error_param=None error_type=invalid_request_error message='OpenAI API error received' stream_error=False\n"
     ]
    },
    {
     "name": "stdout",
     "output_type": "stream",
     "text": [
      "2023-11-02 11:30:51 [info     ] after [Errno 2] No such file or directory: '/Users/jong/Library/Application Support/undetected_chromedriver/undetected/chromedriver-mac-x64/chromedriver' -> '/Users/jong/Library/Application Support/undetected_chromedriver/undetected_chromedriver' going to requesting openai.Image Chalk art of A collage of the logos of ECDC, Johns Hopkins University and the New York Times, superimposed over a Covid-19 data chart. Ultrafine detail...\n",
      "2023-11-02 11:30:51 [info     ] received openai.Image...\n",
      "2023-11-02 11:30:51 [info     ] requesting openai...\n"
     ]
    },
    {
     "name": "stderr",
     "output_type": "stream",
     "text": [
      "INFO:openai:error_code=content_policy_violation error_message='Your request was rejected as a result of our safety system. Your prompt may contain text that is not allowed by our safety system.' error_param=None error_type=invalid_request_error message='OpenAI API error received' stream_error=False\n"
     ]
    },
    {
     "name": "stdout",
     "output_type": "stream",
     "text": [
      "2023-11-02 11:30:51 [info     ] after [Errno 2] No such file or directory: '/Users/jong/Library/Application Support/undetected_chromedriver/undetected/chromedriver-mac-x64/chromedriver' -> '/Users/jong/Library/Application Support/undetected_chromedriver/undetected_chromedriver' going to requesting openai.Image Stained glass of Two graphs from a scientific paper side by side, each showing the number of COVID-19 cases per day in New York City during two distinct peak periods. 8k resolution / 16k resolution...\n",
      "2023-11-02 11:30:52 [info     ] after [Errno 2] No such file or directory: '/Users/jong/Library/Application Support/undetected_chromedriver/undetected/chromedriver-mac-x64/chromedriver' -> '/Users/jong/Library/Application Support/undetected_chromedriver/undetected_chromedriver' going to requesting openai.Image Drone photography of A man standing in front of a large digital screen displaying various graphs and charts related to COVID-19 data. 8k 3D / 16k 3D...\n",
      "2023-11-02 11:30:52 [info     ] after [Errno 2] No such file or directory: '/Users/jong/Library/Application Support/undetected_chromedriver/undetected/chromedriver-mac-x64/chromedriver' -> '/Users/jong/Library/Application Support/undetected_chromedriver/undetected_chromedriver' going to requesting openai.Image Surrealism painting of A man standing in front of a large, interactive display showing various charts, graphs and maps related to COVID-19 data. 8k resolution / 16k resolution...\n"
     ]
    },
    {
     "name": "stderr",
     "output_type": "stream",
     "text": [
      "INFO:openai:error_code=content_policy_violation error_message='Your request was rejected as a result of our safety system. Your prompt may contain text that is not allowed by our safety system.' error_param=None error_type=invalid_request_error message='OpenAI API error received' stream_error=False\n",
      "INFO:openai:error_code=content_policy_violation error_message='Your request was rejected as a result of our safety system. Your prompt may contain text that is not allowed by our safety system.' error_param=None error_type=invalid_request_error message='OpenAI API error received' stream_error=False\n",
      "INFO:openai:error_code=content_policy_violation error_message='Your request was rejected as a result of our safety system. Your prompt may contain text that is not allowed by our safety system.' error_param=None error_type=invalid_request_error message='OpenAI API error received' stream_error=False\n"
     ]
    },
    {
     "name": "stdout",
     "output_type": "stream",
     "text": [
      "2023-11-02 11:30:52 [info     ] received openai...\n"
     ]
    },
    {
     "name": "stderr",
     "output_type": "stream",
     "text": [
      "INFO:undetected_chromedriver.patcher:patching driver executable /Users/jong/Library/Application Support/undetected_chromedriver/undetected_chromedriver\n"
     ]
    },
    {
     "name": "stdout",
     "output_type": "stream",
     "text": [
      "2023-11-02 11:30:53 [info     ] after Message: Service /Users/jong/Library/Application Support/undetected_chromedriver/undetected_chromedriver unexpectedly exited. Status code was: -9\n",
      " going to requesting openai.Image Oil painting of A bar graph displaying noisy data with visible false peaks and post-peak cases, some lines demonstrate the effect of smoothing with a 7-day rolling window. 3840x2160...\n",
      "2023-11-02 11:30:53 [info     ] received openai...\n"
     ]
    },
    {
     "name": "stderr",
     "output_type": "stream",
     "text": [
      "INFO:undetected_chromedriver.patcher:patching driver executable /Users/jong/Library/Application Support/undetected_chromedriver/undetected_chromedriver\n"
     ]
    },
    {
     "name": "stdout",
     "output_type": "stream",
     "text": [
      "2023-11-02 11:30:55 [info     ] 35mm Macro photography of A computer screen displaying a dataset from Our World in Data, with graphs and charts indicating the COVID-19 infection rate. 3840x2160\n",
      "2023-11-02 11:30:55 [info     ] received openai...\n",
      "2023-11-02 11:30:55 [info     ] after Message: Service /Users/jong/Library/Application Support/undetected_chromedriver/undetected_chromedriver unexpectedly exited. Status code was: -9\n",
      " going to requesting openai.Image 35mm Macro photography of A man sitting at his computer, interacting with Github webpage, making a 'fork' of an open-source project. Detailed...\n",
      "2023-11-02 11:30:56 [info     ] requesting openai...\n",
      "2023-11-02 11:30:56 [info     ] received openai...\n",
      "2023-11-02 11:30:56 [info     ] requesting openai...\n",
      "2023-11-02 11:30:57 [info     ] received openai...\n",
      "2023-11-02 11:30:57 [info     ] received openai...\n",
      "2023-11-02 11:30:57 [info     ] received openai...\n",
      "2023-11-02 11:30:57 [info     ] received openai...\n",
      "2023-11-02 11:30:57 [info     ] requesting openai...\n",
      "2023-11-02 11:30:57 [info     ] requesting openai...\n",
      "2023-11-02 11:30:57 [info     ] requesting openai...\n",
      "2023-11-02 11:30:58 [info     ] received openai.Image...\n",
      "2023-11-02 11:30:58 [info     ] requesting openai...\n",
      "2023-11-02 11:30:58 [info     ] after [Errno 2] No such file or directory: '/Users/jong/Library/Application Support/undetected_chromedriver/undetected/chromedriver-mac-x64/chromedriver' -> '/Users/jong/Library/Application Support/undetected_chromedriver/undetected_chromedriver' going to requesting openai.Image Educational 3d illustration of A computer screen displaying different charts and graphs from an online database relating to COVID-19 data. Ultrafine detail...\n"
     ]
    },
    {
     "name": "stderr",
     "output_type": "stream",
     "text": [
      "INFO:undetected_chromedriver.patcher:patching driver executable /Users/jong/Library/Application Support/undetected_chromedriver/undetected_chromedriver\n"
     ]
    },
    {
     "name": "stdout",
     "output_type": "stream",
     "text": [
      "2023-11-02 11:30:58 [info     ] after [Errno 2] No such file or directory: '/Users/jong/Library/Application Support/undetected_chromedriver/undetected/chromedriver-mac-x64/chromedriver' -> '/Users/jong/Library/Application Support/undetected_chromedriver/undetected_chromedriver' going to requesting openai.Image Chalk art of An image of the blog page with the title 'COVID-19 Data Collection - Garbage In, Garbage Out'. The blog includes analysis and sections highlighting issues about data quality. 8k resolution / 16k resolution...\n"
     ]
    },
    {
     "name": "stderr",
     "output_type": "stream",
     "text": [
      "INFO:openai:error_code=content_policy_violation error_message='Your request was rejected as a result of our safety system. Your prompt may contain text that is not allowed by our safety system.' error_param=None error_type=invalid_request_error message='OpenAI API error received' stream_error=False\n",
      "INFO:openai:error_code=content_policy_violation error_message='Your request was rejected as a result of our safety system. Your prompt may contain text that is not allowed by our safety system.' error_param=None error_type=invalid_request_error message='OpenAI API error received' stream_error=False\n"
     ]
    },
    {
     "name": "stdout",
     "output_type": "stream",
     "text": [
      "2023-11-02 11:30:59 [info     ] received openai...\n",
      "2023-11-02 11:30:59 [info     ] after Message: Unable to locate or obtain driver for chrome; For documentation on this error, please visit: https://www.selenium.dev/documentation/webdriver/troubleshooting/errors/driver_location\n",
      " going to requesting openai.Image Realism painting of A woman standing in a lecture hall in front of a large screen displaying a COVID-19 Dashboard. 8k resolution / 16k resolution...\n",
      "2023-11-02 11:31:00 [info     ] received openai...\n"
     ]
    },
    {
     "name": "stderr",
     "output_type": "stream",
     "text": [
      "INFO:openai:error_code=content_policy_violation error_message='Your request was rejected as a result of our safety system. Your prompt may contain text that is not allowed by our safety system.' error_param=None error_type=invalid_request_error message='OpenAI API error received' stream_error=False\n",
      "INFO:undetected_chromedriver.patcher:patching driver executable /Users/jong/Library/Application Support/undetected_chromedriver/undetected_chromedriver\n"
     ]
    },
    {
     "name": "stdout",
     "output_type": "stream",
     "text": [
      "2023-11-02 11:31:01 [info     ] after [Errno 2] No such file or directory: '/Users/jong/Library/Application Support/undetected_chromedriver/undetected/chromedriver-mac-x64/chromedriver' -> '/Users/jong/Library/Application Support/undetected_chromedriver/undetected_chromedriver' going to requesting openai.Image Highly-detailed needlepoint of A news anchor sitting behind a desk with papers, a microphone in front, and various screens in the background displaying graphs and maps related to COVID-19 data. Detailed...\n",
      "2023-11-02 11:31:01 [info     ] received openai...\n"
     ]
    },
    {
     "name": "stderr",
     "output_type": "stream",
     "text": [
      "INFO:openai:error_code=content_policy_violation error_message='Your request was rejected as a result of our safety system. Your prompt may contain text that is not allowed by our safety system.' error_param=None error_type=invalid_request_error message='OpenAI API error received' stream_error=False\n"
     ]
    },
    {
     "name": "stdout",
     "output_type": "stream",
     "text": [
      "2023-11-02 11:31:01 [info     ] after Message: Unable to locate or obtain driver for chrome; For documentation on this error, please visit: https://www.selenium.dev/documentation/webdriver/troubleshooting/errors/driver_location\n",
      " going to requesting openai.Image Watercolour painting of Two individuals engaged in an intense discussion, with a scientific paper laid out on the desk between them. Ultra HD...\n",
      "2023-11-02 11:31:02 [info     ] received openai...\n",
      "2023-11-02 11:31:02 [info     ] received openai...\n",
      "2023-11-02 11:31:02 [info     ] received openai...\n"
     ]
    },
    {
     "name": "stderr",
     "output_type": "stream",
     "text": [
      "INFO:undetected_chromedriver.patcher:patching driver executable /Users/jong/Library/Application Support/undetected_chromedriver/undetected_chromedriver\n"
     ]
    },
    {
     "name": "stdout",
     "output_type": "stream",
     "text": [
      "2023-11-02 11:31:02 [info     ] after [Errno 2] No such file or directory: '/Users/jong/Library/Application Support/undetected_chromedriver/undetected/chromedriver-mac-x64/chromedriver' -> '/Users/jong/Library/Application Support/undetected_chromedriver/undetected_chromedriver' going to requesting openai.Image Watercolour painting of A chalkboard with a drawn diagram illustrating the cycle of data life. Two characters are standing next to it, one pointing at the board. 8k 3D / 16k 3D...\n",
      "2023-11-02 11:31:02 [info     ] after [Errno 2] No such file or directory: '/Users/jong/Library/Application Support/undetected_chromedriver/undetected/chromedriver-mac-x64/chromedriver' -> '/Users/jong/Library/Application Support/undetected_chromedriver/undetected_chromedriver' going to requesting openai.Image Surrealism painting of A man gesturing towards a bar chart showcasing fluctuating COVID-19 case counts in New York City, with the initial and final counts for a single day highlighted to show a significant difference. 8k 3D / 16k 3D...\n",
      "2023-11-02 11:31:03 [info     ] received openai.Image...\n",
      "2023-11-02 11:31:03 [info     ] requesting openai...\n",
      "2023-11-02 11:31:03 [info     ] after [Errno 2] No such file or directory: '/Users/jong/Library/Application Support/undetected_chromedriver/undetected/chromedriver-mac-x64/chromedriver' -> '/Users/jong/Library/Application Support/undetected_chromedriver/undetected_chromedriver' going to requesting openai.Image Award winning 4k DSLR photo of A graph depicting a curve of an epidemic's progression with indications of a shifted peak and prolonged drop in infection rate. Ultrafine detail...\n",
      "2023-11-02 11:31:03 [info     ] after Message: Service /Users/jong/Library/Application Support/undetected_chromedriver/undetected_chromedriver unexpectedly exited. Status code was: -9\n",
      " going to requesting openai.Image Telephoto lens photography of A series of charts depicting irregular data patterns, with one highlighted as NYC data and another labeled as Omicron peak data, both demonstrating significant spikes. Ultra HD...\n"
     ]
    },
    {
     "name": "stderr",
     "output_type": "stream",
     "text": [
      "INFO:openai:error_code=content_policy_violation error_message='Your request was rejected as a result of our safety system. Your prompt may contain text that is not allowed by our safety system.' error_param=None error_type=invalid_request_error message='OpenAI API error received' stream_error=False\n"
     ]
    },
    {
     "name": "stdout",
     "output_type": "stream",
     "text": [
      "2023-11-02 11:31:03 [info     ] received openai.Image...\n",
      "2023-11-02 11:31:03 [info     ] requesting openai...\n",
      "2023-11-02 11:31:03 [info     ] received openai...\n",
      "2023-11-02 11:31:04 [info     ] received openai...\n"
     ]
    },
    {
     "name": "stderr",
     "output_type": "stream",
     "text": [
      "INFO:root:[02/11/2023 11:31:06] Bing Image Creator (Dalle-3) Opened\n",
      "INFO:undetected_chromedriver.patcher:patching driver executable /Users/jong/Library/Application Support/undetected_chromedriver/undetected_chromedriver\n",
      "INFO:undetected_chromedriver.patcher:patching driver executable /Users/jong/Library/Application Support/undetected_chromedriver/undetected_chromedriver\n"
     ]
    },
    {
     "name": "stdout",
     "output_type": "stream",
     "text": [
      "2023-11-02 11:31:07 [info     ] after Message: Service /Users/jong/Library/Application Support/undetected_chromedriver/undetected_chromedriver unexpectedly exited. Status code was: -9\n",
      " going to requesting openai.Image Fish-eye lens photography of A large, secure vault with various sections filled with different types of colorful data represented as vegetables, indicating a \"data salad\". There's a table next to the vault with a freshly prepared salad. 3840x2160...\n",
      "2023-11-02 11:31:08 [info     ] after Message: Service /Users/jong/Library/Application Support/undetected_chromedriver/undetected_chromedriver unexpectedly exited. Status code was: -9\n",
      " going to requesting openai.Image Stained glass of A man standing at a podium, holding up a research paper. Detailed...\n",
      "2023-11-02 11:31:08 [info     ] received openai...\n"
     ]
    },
    {
     "name": "stderr",
     "output_type": "stream",
     "text": [
      "INFO:undetected_chromedriver.patcher:patching driver executable /Users/jong/Library/Application Support/undetected_chromedriver/undetected_chromedriver\n"
     ]
    },
    {
     "name": "stdout",
     "output_type": "stream",
     "text": [
      "2023-11-02 11:31:09 [info     ] received openai.Image...\n",
      "2023-11-02 11:31:09 [info     ] after Message: Service /Users/jong/Library/Application Support/undetected_chromedriver/undetected_chromedriver unexpectedly exited. Status code was: -9\n",
      " going to requesting openai.Image Educational 3d illustration of A computer screen displaying different charts and graphs from an online database relating to COVID-19 data. Ultrafine detail...\n"
     ]
    },
    {
     "name": "stderr",
     "output_type": "stream",
     "text": [
      "INFO:openai:error_code=content_policy_violation error_message='Your request was rejected as a result of our safety system. Your prompt may contain text that is not allowed by our safety system.' error_param=None error_type=invalid_request_error message='OpenAI API error received' stream_error=False\n"
     ]
    },
    {
     "name": "stdout",
     "output_type": "stream",
     "text": [
      "2023-11-02 11:31:10 [info     ] received openai.Image...\n",
      "2023-11-02 11:31:10 [info     ] requesting openai...\n"
     ]
    },
    {
     "name": "stderr",
     "output_type": "stream",
     "text": [
      "INFO:undetected_chromedriver.patcher:patching driver executable /Users/jong/Library/Application Support/undetected_chromedriver/undetected_chromedriver\n"
     ]
    },
    {
     "name": "stdout",
     "output_type": "stream",
     "text": [
      "2023-11-02 11:31:10 [info     ] received openai.Image...\n",
      "2023-11-02 11:31:10 [info     ] received openai.Image...\n",
      "2023-11-02 11:31:10 [info     ] requesting openai...\n",
      "2023-11-02 11:31:10 [info     ] after [Errno 2] No such file or directory: '/Users/jong/Library/Application Support/undetected_chromedriver/undetected/chromedriver-mac-x64/chromedriver' -> '/Users/jong/Library/Application Support/undetected_chromedriver/undetected_chromedriver' going to requesting openai.Image Chalk art of An image of the blog page with the title 'COVID-19 Data Collection - Garbage In, Garbage Out'. The blog includes analysis and sections highlighting issues about data quality. 8k resolution / 16k resolution...\n",
      "2023-11-02 11:31:10 [info     ] received openai...\n",
      "2023-11-02 11:31:10 [info     ] after Message: Service /Users/jong/Library/Application Support/undetected_chromedriver/undetected_chromedriver unexpectedly exited. Status code was: -9\n",
      " going to requesting openai.Image Realism painting of A woman standing in a lecture hall in front of a large screen displaying a COVID-19 Dashboard. 8k resolution / 16k resolution...\n"
     ]
    },
    {
     "name": "stderr",
     "output_type": "stream",
     "text": [
      "INFO:root:[02/11/2023 11:31:10] Cookie values added \n",
      "INFO:openai:error_code=content_policy_violation error_message='Your request was rejected as a result of our safety system. Your prompt may contain text that is not allowed by our safety system.' error_param=None error_type=invalid_request_error message='OpenAI API error received' stream_error=False\n",
      "INFO:openai:error_code=content_policy_violation error_message='Your request was rejected as a result of our safety system. Your prompt may contain text that is not allowed by our safety system.' error_param=None error_type=invalid_request_error message='OpenAI API error received' stream_error=False\n"
     ]
    },
    {
     "name": "stdout",
     "output_type": "stream",
     "text": [
      "2023-11-02 11:31:11 [info     ] after [Errno 2] No such file or directory: '/Users/jong/Library/Application Support/undetected_chromedriver/undetected/chromedriver-mac-x64/chromedriver' -> '/Users/jong/Library/Application Support/undetected_chromedriver/undetected_chromedriver' going to requesting openai.Image Drone photography of An array of screens displaying different COVID-19 data repositories including the ECDC, Johns Hopkins University, and The New York Times. Ultra HD...\n"
     ]
    },
    {
     "name": "stderr",
     "output_type": "stream",
     "text": [
      "INFO:openai:error_code=content_policy_violation error_message='Your request was rejected as a result of our safety system. Your prompt may contain text that is not allowed by our safety system.' error_param=None error_type=invalid_request_error message='OpenAI API error received' stream_error=False\n"
     ]
    },
    {
     "name": "stdout",
     "output_type": "stream",
     "text": [
      "2023-11-02 11:31:11 [info     ] after [Errno 2] No such file or directory: '/Users/jong/Library/Application Support/undetected_chromedriver/undetected/chromedriver-mac-x64/chromedriver' -> '/Users/jong/Library/Application Support/undetected_chromedriver/undetected_chromedriver' going to requesting openai.Image Chalk art of A man standing in front of a large screen displaying various charts and graphs related to COVID-19 data. 8k 3D / 16k 3D...\n",
      "2023-11-02 11:31:12 [info     ] after [Errno 2] No such file or directory: '/Users/jong/Library/Application Support/undetected_chromedriver/undetected_chromedriver' going to requesting openai.Image Educational 3d illustration of A person sitting at a desk in front of a computer, analyzing bar graphs and pie charts on the screen. Papers filled with data and calculations are scattered on the desk. A chart titled 'Health Statistics' is visibly placed next to the computer. 8k 3D / 16k 3D...\n"
     ]
    },
    {
     "name": "stderr",
     "output_type": "stream",
     "text": [
      "INFO:openai:error_code=content_policy_violation error_message='Your request was rejected as a result of our safety system. Your prompt may contain text that is not allowed by our safety system.' error_param=None error_type=invalid_request_error message='OpenAI API error received' stream_error=False\n"
     ]
    },
    {
     "name": "stdout",
     "output_type": "stream",
     "text": [
      "2023-11-02 11:31:13 [info     ] after [Errno 2] No such file or directory: '/Users/jong/Library/Application Support/undetected_chromedriver/undetected/chromedriver-mac-x64/chromedriver' -> '/Users/jong/Library/Application Support/undetected_chromedriver/undetected_chromedriver' going to requesting openai.Image Highly-detailed needlepoint of A news anchor sitting behind a desk with papers, a microphone in front, and various screens in the background displaying graphs and maps related to COVID-19 data. Detailed...\n",
      "2023-11-02 11:31:13 [info     ] after [Errno 2] No such file or directory: '/Users/jong/Library/Application Support/undetected_chromedriver/undetected/chromedriver-mac-x64/chromedriver' -> '/Users/jong/Library/Application Support/undetected_chromedriver/undetected_chromedriver' going to requesting openai.Image 35mm Macro photography of Two graphs side-by-side illustrating the daily COVID-19 cases in NYC during two distinct peak periods. Detailed...\n",
      "2023-11-02 11:31:13 [info     ] received openai...\n",
      "2023-11-02 11:31:13 [info     ] after [Errno 2] No such file or directory: '/Users/jong/Library/Application Support/undetected_chromedriver/undetected/chromedriver-mac-x64/chromedriver' -> '/Users/jong/Library/Application Support/undetected_chromedriver/undetected_chromedriver' going to requesting openai.Image Educational 3d illustration of A man standing in front of a large digital screen displaying various graphics related to COVID-19 data, such as pie charts and bar graphs. 3840x2160...\n"
     ]
    },
    {
     "name": "stderr",
     "output_type": "stream",
     "text": [
      "INFO:openai:error_code=content_policy_violation error_message='Your request was rejected as a result of our safety system. Your prompt may contain text that is not allowed by our safety system.' error_param=None error_type=invalid_request_error message='OpenAI API error received' stream_error=False\n",
      "INFO:openai:error_code=content_policy_violation error_message='Your request was rejected as a result of our safety system. Your prompt may contain text that is not allowed by our safety system.' error_param=None error_type=invalid_request_error message='OpenAI API error received' stream_error=False\n",
      "INFO:openai:error_code=content_policy_violation error_message='Your request was rejected as a result of our safety system. Your prompt may contain text that is not allowed by our safety system.' error_param=None error_type=invalid_request_error message='OpenAI API error received' stream_error=False\n"
     ]
    },
    {
     "name": "stdout",
     "output_type": "stream",
     "text": [
      "2023-11-02 11:31:14 [info     ] received openai.Image...\n",
      "2023-11-02 11:31:14 [info     ] requesting openai...\n",
      "2023-11-02 11:31:15 [info     ] received openai.Image...\n",
      "2023-11-02 11:31:16 [info     ] after [Errno 2] No such file or directory: '/Users/jong/Library/Application Support/undetected_chromedriver/undetected/chromedriver-mac-x64/chromedriver' -> '/Users/jong/Library/Application Support/undetected_chromedriver/undetected_chromedriver' going to requesting openai.Image Surrealism painting of A man gesturing towards a bar chart showcasing fluctuating COVID-19 case counts in New York City, with the initial and final counts for a single day highlighted to show a significant difference. 8k 3D / 16k 3D...\n",
      "2023-11-02 11:31:16 [info     ] after [Errno 2] No such file or directory: '/Users/jong/Library/Application Support/undetected_chromedriver/undetected/chromedriver-mac-x64/chromedriver' -> '/Users/jong/Library/Application Support/undetected_chromedriver/undetected_chromedriver' going to requesting openai.Image Fish-eye lens photography of A man sitting at a computer desk, analyzing a graph showing a 7-day rolling average of virus tracking data. 8k 3D / 16k 3D...\n"
     ]
    },
    {
     "name": "stderr",
     "output_type": "stream",
     "text": [
      "INFO:openai:error_code=content_policy_violation error_message='Your request was rejected as a result of our safety system. Your prompt may contain text that is not allowed by our safety system.' error_param=None error_type=invalid_request_error message='OpenAI API error received' stream_error=False\n",
      "INFO:undetected_chromedriver.patcher:patching driver executable /Users/jong/Library/Application Support/undetected_chromedriver/undetected_chromedriver\n"
     ]
    },
    {
     "name": "stdout",
     "output_type": "stream",
     "text": [
      "2023-11-02 11:31:17 [info     ] after Message: Service /Users/jong/Library/Application Support/undetected_chromedriver/undetected_chromedriver unexpectedly exited. Status code was: -9\n",
      " going to requesting openai.Image Educational 3d illustration of A blog page open on a computer screen, displaying two posts related to COVID-19 stats in New York City. 8k resolution / 16k resolution...\n",
      "2023-11-02 11:31:17 [info     ] received openai...\n"
     ]
    },
    {
     "name": "stderr",
     "output_type": "stream",
     "text": [
      "INFO:openai:error_code=content_policy_violation error_message='Your request was rejected as a result of our safety system. Your prompt may contain text that is not allowed by our safety system.' error_param=None error_type=invalid_request_error message='OpenAI API error received' stream_error=False\n"
     ]
    },
    {
     "name": "stdout",
     "output_type": "stream",
     "text": [
      "2023-11-02 11:31:18 [info     ] received openai.Image...\n",
      "2023-11-02 11:31:21 [info     ] received openai...\n"
     ]
    },
    {
     "name": "stderr",
     "output_type": "stream",
     "text": [
      "INFO:undetected_chromedriver.patcher:patching driver executable /Users/jong/Library/Application Support/undetected_chromedriver/undetected_chromedriver\n"
     ]
    },
    {
     "name": "stdout",
     "output_type": "stream",
     "text": [
      "2023-11-02 11:31:23 [info     ] received openai.Image...\n",
      "2023-11-02 11:31:23 [info     ] requesting openai...\n"
     ]
    },
    {
     "name": "stderr",
     "output_type": "stream",
     "text": [
      "INFO:undetected_chromedriver.patcher:patching driver executable /Users/jong/Library/Application Support/undetected_chromedriver/undetected_chromedriver\n"
     ]
    },
    {
     "name": "stdout",
     "output_type": "stream",
     "text": [
      "2023-11-02 11:31:23 [info     ] after [Errno 2] No such file or directory: '/Users/jong/Library/Application Support/undetected_chromedriver/undetected/chromedriver-mac-x64/chromedriver' -> '/Users/jong/Library/Application Support/undetected_chromedriver/undetected_chromedriver' going to requesting openai.Image Lego art of A woman pointing towards a chart displaying erratic data patterns. Ultrafine detail...\n",
      "2023-11-02 11:31:23 [info     ] after [Errno 2] No such file or directory: '/Users/jong/Library/Application Support/undetected_chromedriver/undetected/chromedriver-mac-x64/chromedriver' -> '/Users/jong/Library/Application Support/undetected_chromedriver/undetected_chromedriver' going to requesting openai.Image Autochrome photography of A chaotic line graph with false peaks representing misleading data collected during a pandemic. Ultra HD...\n",
      "2023-11-02 11:31:24 [info     ] after Message: Service /Users/jong/Library/Application Support/undetected_chromedriver/undetected_chromedriver unexpectedly exited. Status code was: -9\n",
      " going to requesting openai.Image Educational 3d illustration of A computer screen displaying different charts and graphs from an online database relating to COVID-19 data. Ultrafine detail...\n",
      "2023-11-02 11:31:24 [info     ] after [Errno 2] No such file or directory: '/Users/jong/Library/Application Support/undetected_chromedriver/undetected/chromedriver-mac-x64/chromedriver' -> '/Users/jong/Library/Application Support/undetected_chromedriver/undetected_chromedriver' going to requesting openai.Image Realism painting of A woman standing in a lecture hall in front of a large screen displaying a COVID-19 Dashboard. 8k resolution / 16k resolution...\n"
     ]
    },
    {
     "name": "stderr",
     "output_type": "stream",
     "text": [
      "INFO:openai:error_code=content_policy_violation error_message='Your request was rejected as a result of our safety system. Your prompt may contain text that is not allowed by our safety system.' error_param=None error_type=invalid_request_error message='OpenAI API error received' stream_error=False\n",
      "INFO:openai:error_code=content_policy_violation error_message='Your request was rejected as a result of our safety system. Your prompt may contain text that is not allowed by our safety system.' error_param=None error_type=invalid_request_error message='OpenAI API error received' stream_error=False\n"
     ]
    },
    {
     "name": "stdout",
     "output_type": "stream",
     "text": [
      "2023-11-02 11:31:24 [info     ] after Message: Service /Users/jong/Library/Application Support/undetected_chromedriver/undetected_chromedriver unexpectedly exited. Status code was: -9\n",
      " going to requesting openai.Image Chalk art of An image of the blog page with the title 'COVID-19 Data Collection - Garbage In, Garbage Out'. The blog includes analysis and sections highlighting issues about data quality. 8k resolution / 16k resolution...\n"
     ]
    },
    {
     "name": "stderr",
     "output_type": "stream",
     "text": [
      "INFO:undetected_chromedriver.patcher:patching driver executable /Users/jong/Library/Application Support/undetected_chromedriver/undetected_chromedriver\n",
      "INFO:openai:error_code=content_policy_violation error_message='Your request was rejected as a result of our safety system. Your prompt may contain text that is not allowed by our safety system.' error_param=None error_type=invalid_request_error message='OpenAI API error received' stream_error=False\n"
     ]
    },
    {
     "name": "stdout",
     "output_type": "stream",
     "text": [
      "2023-11-02 11:31:25 [info     ] after [Errno 2] No such file or directory: '/Users/jong/Library/Application Support/undetected_chromedriver/undetected/chromedriver-mac-x64/chromedriver' -> '/Users/jong/Library/Application Support/undetected_chromedriver/undetected_chromedriver' going to requesting openai.Image Drone photography of An array of screens displaying different COVID-19 data repositories including the ECDC, Johns Hopkins University, and The New York Times. Ultra HD...\n"
     ]
    },
    {
     "name": "stderr",
     "output_type": "stream",
     "text": [
      "INFO:openai:error_code=content_policy_violation error_message='Your request was rejected as a result of our safety system. Your prompt may contain text that is not allowed by our safety system.' error_param=None error_type=invalid_request_error message='OpenAI API error received' stream_error=False\n"
     ]
    },
    {
     "name": "stdout",
     "output_type": "stream",
     "text": [
      "2023-11-02 11:31:25 [info     ] after Message: Service /Users/jong/Library/Application Support/undetected_chromedriver/undetected_chromedriver unexpectedly exited. Status code was: -9\n",
      " going to requesting openai.Image Chalk art of A man standing in front of a large screen displaying various charts and graphs related to COVID-19 data. 8k 3D / 16k 3D...\n",
      "2023-11-02 11:31:25 [info     ] after [Errno 2] No such file or directory: '/Users/jong/Library/Application Support/undetected_chromedriver/undetected/chromedriver-mac-x64/chromedriver' -> '/Users/jong/Library/Application Support/undetected_chromedriver/undetected_chromedriver' going to requesting openai.Image 35mm Macro photography of Two graphs side-by-side illustrating the daily COVID-19 cases in NYC during two distinct peak periods. Detailed...\n"
     ]
    },
    {
     "name": "stderr",
     "output_type": "stream",
     "text": [
      "INFO:openai:error_code=content_policy_violation error_message='Your request was rejected as a result of our safety system. Your prompt may contain text that is not allowed by our safety system.' error_param=None error_type=invalid_request_error message='OpenAI API error received' stream_error=False\n",
      "INFO:openai:error_code=content_policy_violation error_message='Your request was rejected as a result of our safety system. Your prompt may contain text that is not allowed by our safety system.' error_param=None error_type=invalid_request_error message='OpenAI API error received' stream_error=False\n"
     ]
    },
    {
     "name": "stdout",
     "output_type": "stream",
     "text": [
      "2023-11-02 11:31:26 [info     ] Dalle3: urls=['https://th.bing.com/th/id/OIG.g2.tOa0jup7FWH4TruwR', 'https://th.bing.com/th/id/OIG.qvVpAMwme3HAlNH1hI.g', 'https://th.bing.com/th/id/OIG.N207Fi.JOBx8q4rO18.L', 'https://th.bing.com/th/id/OIG.q3F0ingV1A488r1Dl3Ok'], choosing just first one\n",
      "2023-11-02 11:31:26 [info     ] after [Errno 2] No such file or directory: '/Users/jong/Library/Application Support/undetected_chromedriver/undetected_chromedriver' going to requesting openai.Image Educational 3d illustration of A man standing in front of a large digital screen displaying various graphics related to COVID-19 data, such as pie charts and bar graphs. 3840x2160...\n",
      "2023-11-02 11:31:26 [info     ] after [Errno 2] No such file or directory: '/Users/jong/Library/Application Support/undetected_chromedriver/undetected/chromedriver-mac-x64/chromedriver' -> '/Users/jong/Library/Application Support/undetected_chromedriver/undetected_chromedriver' going to requesting openai.Image Highly-detailed needlepoint of A news anchor sitting behind a desk with papers, a microphone in front, and various screens in the background displaying graphs and maps related to COVID-19 data. Detailed...\n"
     ]
    },
    {
     "name": "stderr",
     "output_type": "stream",
     "text": [
      "INFO:openai:error_code=content_policy_violation error_message='Your request was rejected as a result of our safety system. Your prompt may contain text that is not allowed by our safety system.' error_param=None error_type=invalid_request_error message='OpenAI API error received' stream_error=False\n",
      "INFO:openai:error_code=content_policy_violation error_message='Your request was rejected as a result of our safety system. Your prompt may contain text that is not allowed by our safety system.' error_param=None error_type=invalid_request_error message='OpenAI API error received' stream_error=False\n"
     ]
    },
    {
     "name": "stdout",
     "output_type": "stream",
     "text": [
      "2023-11-02 11:31:28 [info     ] received openai.Image...\n",
      "2023-11-02 11:31:28 [info     ] received openai...\n",
      "2023-11-02 11:31:29 [info     ] requesting openai...\n",
      "2023-11-02 11:31:30 [info     ] after [Errno 2] No such file or directory: '/Users/jong/Library/Application Support/undetected_chromedriver/undetected/chromedriver-mac-x64/chromedriver' -> '/Users/jong/Library/Application Support/undetected_chromedriver/undetected_chromedriver' going to requesting openai.Image Surrealism painting of A man gesturing towards a bar chart showcasing fluctuating COVID-19 case counts in New York City, with the initial and final counts for a single day highlighted to show a significant difference. 8k 3D / 16k 3D...\n",
      "2023-11-02 11:31:30 [info     ] after [Errno 2] No such file or directory: '/Users/jong/Library/Application Support/undetected_chromedriver/undetected/chromedriver-mac-x64/chromedriver' -> '/Users/jong/Library/Application Support/undetected_chromedriver/undetected_chromedriver' going to requesting openai.Image Chalk art of A worried man pointing towards bar graphs and pie charts depicting skewed data on a large screen, with an image of a calendar and a clean, clear graph on his side. Ultra HD...\n"
     ]
    },
    {
     "name": "stderr",
     "output_type": "stream",
     "text": [
      "INFO:openai:error_code=content_policy_violation error_message='Your request was rejected as a result of our safety system. Your prompt may contain text that is not allowed by our safety system.' error_param=None error_type=invalid_request_error message='OpenAI API error received' stream_error=False\n"
     ]
    },
    {
     "name": "stdout",
     "output_type": "stream",
     "text": [
      "2023-11-02 11:31:30 [info     ] after [Errno 2] No such file or directory: '/Users/jong/Library/Application Support/undetected_chromedriver/undetected/chromedriver-mac-x64/chromedriver' -> '/Users/jong/Library/Application Support/undetected_chromedriver/undetected_chromedriver' going to requesting openai.Image Educational 3d illustration of A blog page open on a computer screen, displaying two posts related to COVID-19 stats in New York City. 8k resolution / 16k resolution...\n"
     ]
    },
    {
     "name": "stderr",
     "output_type": "stream",
     "text": [
      "INFO:openai:error_code=content_policy_violation error_message='Your request was rejected as a result of our safety system. Your prompt may contain text that is not allowed by our safety system.' error_param=None error_type=invalid_request_error message='OpenAI API error received' stream_error=False\n"
     ]
    },
    {
     "name": "stdout",
     "output_type": "stream",
     "text": [
      "2023-11-02 11:31:31 [info     ] received openai.Image...\n",
      "2023-11-02 11:31:31 [info     ] requesting openai...\n",
      "2023-11-02 11:31:31 [info     ] after [Errno 2] No such file or directory: '/Users/jong/Library/Application Support/undetected_chromedriver/undetected/chromedriver-mac-x64/chromedriver' -> '/Users/jong/Library/Application Support/undetected_chromedriver/undetected_chromedriver' going to requesting openai.Image Yarn art of A man sitting at a computer, looking at a website titled \"Our World in Data\", expressing surprise and confusion. 8k resolution / 16k resolution...\n",
      "2023-11-02 11:31:32 [info     ] Got images and audio for 0 / 5\n",
      "2023-11-02 11:31:33 [info     ] requesting openai...\n",
      "2023-11-02 11:31:33 [info     ] received openai...\n",
      "2023-11-02 11:31:34 [info     ] received openai.Image...\n",
      "2023-11-02 11:31:34 [info     ] requesting openai...\n"
     ]
    },
    {
     "name": "stderr",
     "output_type": "stream",
     "text": [
      "INFO:undetected_chromedriver.patcher:patching driver executable /Users/jong/Library/Application Support/undetected_chromedriver/undetected_chromedriver\n"
     ]
    },
    {
     "name": "stdout",
     "output_type": "stream",
     "text": [
      "2023-11-02 11:31:37 [info     ] received openai.Image...\n",
      "2023-11-02 11:31:37 [info     ] requesting openai...\n",
      "2023-11-02 11:31:37 [info     ] after [Errno 2] No such file or directory: '/Users/jong/Library/Application Support/undetected_chromedriver/undetected/chromedriver-mac-x64/chromedriver' -> '/Users/jong/Library/Application Support/undetected_chromedriver/undetected_chromedriver' going to requesting openai.Image Drone photography of An array of screens displaying different COVID-19 data repositories including the ECDC, Johns Hopkins University, and The New York Times. Ultra HD...\n",
      "2023-11-02 11:31:37 [info     ] received openai...\n"
     ]
    },
    {
     "name": "stderr",
     "output_type": "stream",
     "text": [
      "INFO:openai:error_code=content_policy_violation error_message='Your request was rejected as a result of our safety system. Your prompt may contain text that is not allowed by our safety system.' error_param=None error_type=invalid_request_error message='OpenAI API error received' stream_error=False\n"
     ]
    },
    {
     "name": "stdout",
     "output_type": "stream",
     "text": [
      "2023-11-02 11:31:37 [info     ] after [Errno 2] No such file or directory: '/Users/jong/Library/Application Support/undetected_chromedriver/undetected/chromedriver-mac-x64/chromedriver' -> '/Users/jong/Library/Application Support/undetected_chromedriver/undetected_chromedriver' going to requesting openai.Image Educational 3d illustration of A man standing in front of a large digital screen displaying various graphics related to COVID-19 data, such as pie charts and bar graphs. 3840x2160...\n",
      "2023-11-02 11:31:37 [info     ] after [Errno 2] No such file or directory: '/Users/jong/Library/Application Support/undetected_chromedriver/undetected/chromedriver-mac-x64/chromedriver' -> '/Users/jong/Library/Application Support/undetected_chromedriver/undetected_chromedriver' going to requesting openai.Image Educational 3d illustration of A computer screen displaying different charts and graphs from an online database relating to COVID-19 data. Ultrafine detail...\n",
      "2023-11-02 11:31:37 [info     ] after Message: Unable to locate or obtain driver for chrome; For documentation on this error, please visit: https://www.selenium.dev/documentation/webdriver/troubleshooting/errors/driver_location\n",
      " going to requesting openai.Image 4k digital render of A woman pointing to a line graph on a large monitor, displaying inconsistent fluctuating data. Detailed...\n"
     ]
    },
    {
     "name": "stderr",
     "output_type": "stream",
     "text": [
      "INFO:openai:error_code=content_policy_violation error_message='Your request was rejected as a result of our safety system. Your prompt may contain text that is not allowed by our safety system.' error_param=None error_type=invalid_request_error message='OpenAI API error received' stream_error=False\n",
      "INFO:openai:error_code=content_policy_violation error_message='Your request was rejected as a result of our safety system. Your prompt may contain text that is not allowed by our safety system.' error_param=None error_type=invalid_request_error message='OpenAI API error received' stream_error=False\n"
     ]
    },
    {
     "name": "stdout",
     "output_type": "stream",
     "text": [
      "2023-11-02 11:31:38 [info     ] after [Errno 2] No such file or directory: '/Users/jong/Library/Application Support/undetected_chromedriver/undetected/chromedriver-mac-x64/chromedriver' -> '/Users/jong/Library/Application Support/undetected_chromedriver/undetected_chromedriver' going to requesting openai.Image 35mm Macro photography of Two graphs side-by-side illustrating the daily COVID-19 cases in NYC during two distinct peak periods. Detailed...\n",
      "2023-11-02 11:31:38 [info     ] after [Errno 2] No such file or directory: '/Users/jong/Library/Application Support/undetected_chromedriver/undetected/chromedriver-mac-x64/chromedriver' -> '/Users/jong/Library/Application Support/undetected_chromedriver/undetected_chromedriver' going to requesting openai.Image Chalk art of An image of the blog page with the title 'COVID-19 Data Collection - Garbage In, Garbage Out'. The blog includes analysis and sections highlighting issues about data quality. 8k resolution / 16k resolution...\n"
     ]
    },
    {
     "name": "stderr",
     "output_type": "stream",
     "text": [
      "INFO:openai:error_code=content_policy_violation error_message='Your request was rejected as a result of our safety system. Your prompt may contain text that is not allowed by our safety system.' error_param=None error_type=invalid_request_error message='OpenAI API error received' stream_error=False\n"
     ]
    },
    {
     "name": "stdout",
     "output_type": "stream",
     "text": [
      "2023-11-02 11:31:38 [info     ] after [Errno 2] No such file or directory: '/Users/jong/Library/Application Support/undetected_chromedriver/undetected/chromedriver-mac-x64/chromedriver' -> '/Users/jong/Library/Application Support/undetected_chromedriver/undetected_chromedriver' going to requesting openai.Image Chalk art of A man standing in front of a large screen displaying various charts and graphs related to COVID-19 data. 8k 3D / 16k 3D...\n"
     ]
    },
    {
     "name": "stderr",
     "output_type": "stream",
     "text": [
      "INFO:openai:error_code=content_policy_violation error_message='Your request was rejected as a result of our safety system. Your prompt may contain text that is not allowed by our safety system.' error_param=None error_type=invalid_request_error message='OpenAI API error received' stream_error=False\n",
      "INFO:openai:error_code=content_policy_violation error_message='Your request was rejected as a result of our safety system. Your prompt may contain text that is not allowed by our safety system.' error_param=None error_type=invalid_request_error message='OpenAI API error received' stream_error=False\n"
     ]
    },
    {
     "name": "stdout",
     "output_type": "stream",
     "text": [
      "2023-11-02 11:31:38 [info     ] received openai.Image...\n",
      "2023-11-02 11:31:38 [info     ] requesting openai...\n",
      "2023-11-02 11:31:39 [info     ] after [Errno 2] No such file or directory: '/Users/jong/Library/Application Support/undetected_chromedriver/undetected/chromedriver-mac-x64/chromedriver' -> '/Users/jong/Library/Application Support/undetected_chromedriver/undetected_chromedriver' going to requesting openai.Image Educational 3d illustration of A blog page open on a computer screen, displaying two posts related to COVID-19 stats in New York City. 8k resolution / 16k resolution...\n"
     ]
    },
    {
     "name": "stderr",
     "output_type": "stream",
     "text": [
      "INFO:undetected_chromedriver.patcher:patching driver executable /Users/jong/Library/Application Support/undetected_chromedriver/undetected_chromedriver\n"
     ]
    },
    {
     "name": "stdout",
     "output_type": "stream",
     "text": [
      "2023-11-02 11:31:39 [info     ] after Message: Service /Users/jong/Library/Application Support/undetected_chromedriver/undetected_chromedriver unexpectedly exited. Status code was: -9\n",
      " going to requesting openai.Image Highly-detailed needlepoint of A news anchor sitting behind a desk with papers, a microphone in front, and various screens in the background displaying graphs and maps related to COVID-19 data. Detailed...\n"
     ]
    },
    {
     "name": "stderr",
     "output_type": "stream",
     "text": [
      "INFO:openai:error_code=content_policy_violation error_message='Your request was rejected as a result of our safety system. Your prompt may contain text that is not allowed by our safety system.' error_param=None error_type=invalid_request_error message='OpenAI API error received' stream_error=False\n",
      "INFO:openai:error_code=content_policy_violation error_message='Your request was rejected as a result of our safety system. Your prompt may contain text that is not allowed by our safety system.' error_param=None error_type=invalid_request_error message='OpenAI API error received' stream_error=False\n"
     ]
    },
    {
     "name": "stdout",
     "output_type": "stream",
     "text": [
      "2023-11-02 11:31:40 [info     ] received openai...\n",
      "2023-11-02 11:31:40 [info     ] after [Errno 2] No such file or directory: '/Users/jong/Library/Application Support/undetected_chromedriver/undetected/chromedriver-mac-x64/chromedriver' -> '/Users/jong/Library/Application Support/undetected_chromedriver/undetected_chromedriver' going to requesting openai.Image Surrealism painting of A man gesturing towards a bar chart showcasing fluctuating COVID-19 case counts in New York City, with the initial and final counts for a single day highlighted to show a significant difference. 8k 3D / 16k 3D...\n"
     ]
    },
    {
     "name": "stderr",
     "output_type": "stream",
     "text": [
      "INFO:openai:error_code=content_policy_violation error_message='Your request was rejected as a result of our safety system. Your prompt may contain text that is not allowed by our safety system.' error_param=None error_type=invalid_request_error message='OpenAI API error received' stream_error=False\n",
      "INFO:undetected_chromedriver.patcher:patching driver executable /Users/jong/Library/Application Support/undetected_chromedriver/undetected_chromedriver\n"
     ]
    },
    {
     "name": "stdout",
     "output_type": "stream",
     "text": [
      "2023-11-02 11:31:43 [info     ] after Message: Service /Users/jong/Library/Application Support/undetected_chromedriver/undetected_chromedriver unexpectedly exited. Status code was: -9\n",
      " going to requesting openai.Image Stained glass of A woman standing in front of a large screen displaying a COVID-19 Dashboard. 8k resolution / 16k resolution...\n",
      "2023-11-02 11:31:44 [info     ] received openai...\n",
      "2023-11-02 11:31:44 [info     ] received openai...\n"
     ]
    },
    {
     "name": "stderr",
     "output_type": "stream",
     "text": [
      "INFO:openai:error_code=content_policy_violation error_message='Your request was rejected as a result of our safety system. Your prompt may contain text that is not allowed by our safety system.' error_param=None error_type=invalid_request_error message='OpenAI API error received' stream_error=False\n"
     ]
    },
    {
     "name": "stdout",
     "output_type": "stream",
     "text": [
      "2023-11-02 11:31:44 [info     ] received openai.Image...\n",
      "2023-11-02 11:31:44 [info     ] received openai...\n",
      "2023-11-02 11:31:44 [info     ] requesting openai...\n",
      "2023-11-02 11:31:49 [info     ] after [Errno 66] Directory not empty: '/Users/jong/Library/Application Support/undetected_chromedriver/undetected' going to requesting openai.Image Watercolour painting of A man carefully studying a graph comparing real-life data and a simulated model, with highlight on areas showing significant inaccuracies. 3840x2160...\n",
      "2023-11-02 11:31:49 [info     ] received openai...\n",
      "2023-11-02 11:31:52 [info     ] after [Errno 2] No such file or directory: '/Users/jong/Library/Application Support/undetected_chromedriver/undetected/chromedriver-mac-x64/chromedriver' -> '/Users/jong/Library/Application Support/undetected_chromedriver/undetected_chromedriver' going to requesting openai.Image Drone photography of An array of screens displaying different COVID-19 data repositories including the ECDC, Johns Hopkins University, and The New York Times. Ultra HD...\n"
     ]
    },
    {
     "name": "stderr",
     "output_type": "stream",
     "text": [
      "INFO:undetected_chromedriver.patcher:patching driver executable /Users/jong/Library/Application Support/undetected_chromedriver/undetected_chromedriver\n",
      "INFO:openai:error_code=content_policy_violation error_message='Your request was rejected as a result of our safety system. Your prompt may contain text that is not allowed by our safety system.' error_param=None error_type=invalid_request_error message='OpenAI API error received' stream_error=False\n"
     ]
    },
    {
     "name": "stdout",
     "output_type": "stream",
     "text": [
      "2023-11-02 11:31:52 [info     ] after [Errno 2] No such file or directory: '/Users/jong/Library/Application Support/undetected_chromedriver/undetected/chromedriver-mac-x64/chromedriver' -> '/Users/jong/Library/Application Support/undetected_chromedriver/undetected_chromedriver' going to requesting openai.Image Educational 3d illustration of A blog page open on a computer screen, displaying two posts related to COVID-19 stats in New York City. 8k resolution / 16k resolution...\n"
     ]
    },
    {
     "name": "stderr",
     "output_type": "stream",
     "text": [
      "INFO:openai:error_code=content_policy_violation error_message='Your request was rejected as a result of our safety system. Your prompt may contain text that is not allowed by our safety system.' error_param=None error_type=invalid_request_error message='OpenAI API error received' stream_error=False\n"
     ]
    },
    {
     "name": "stdout",
     "output_type": "stream",
     "text": [
      "2023-11-02 11:31:53 [info     ] after [Errno 2] No such file or directory: '/Users/jong/Library/Application Support/undetected_chromedriver/undetected/chromedriver-mac-x64/chromedriver' -> '/Users/jong/Library/Application Support/undetected_chromedriver/undetected_chromedriver' going to requesting openai.Image Educational 3d illustration of A man standing in front of a large digital screen displaying various graphics related to COVID-19 data, such as pie charts and bar graphs. 3840x2160...\n",
      "2023-11-02 11:31:53 [info     ] after Message: Service /Users/jong/Library/Application Support/undetected_chromedriver/undetected_chromedriver unexpectedly exited. Status code was: -9\n",
      " going to requesting openai.Image Chalk art of An image of the blog page with the title 'COVID-19 Data Collection - Garbage In, Garbage Out'. The blog includes analysis and sections highlighting issues about data quality. 8k resolution / 16k resolution...\n"
     ]
    },
    {
     "name": "stderr",
     "output_type": "stream",
     "text": [
      "INFO:undetected_chromedriver.patcher:patching driver executable /Users/jong/Library/Application Support/undetected_chromedriver/undetected_chromedriver\n",
      "INFO:openai:error_code=content_policy_violation error_message='Your request was rejected as a result of our safety system. Your prompt may contain text that is not allowed by our safety system.' error_param=None error_type=invalid_request_error message='OpenAI API error received' stream_error=False\n",
      "INFO:openai:error_code=content_policy_violation error_message='Your request was rejected as a result of our safety system. Your prompt may contain text that is not allowed by our safety system.' error_param=None error_type=invalid_request_error message='OpenAI API error received' stream_error=False\n"
     ]
    },
    {
     "name": "stdout",
     "output_type": "stream",
     "text": [
      "2023-11-02 11:31:53 [info     ] after Message: Service /Users/jong/Library/Application Support/undetected_chromedriver/undetected_chromedriver unexpectedly exited. Status code was: -9\n",
      " going to requesting openai.Image 35mm Macro photography of Two graphs side-by-side illustrating the daily COVID-19 cases in NYC during two distinct peak periods. Detailed...\n",
      "2023-11-02 11:31:54 [info     ] after [Errno 2] No such file or directory: '/Users/jong/Library/Application Support/undetected_chromedriver/undetected/chromedriver-mac-x64/chromedriver' -> '/Users/jong/Library/Application Support/undetected_chromedriver/undetected_chromedriver' going to requesting openai.Image Educational 3d illustration of A computer screen displaying different charts and graphs from an online database relating to COVID-19 data. Ultrafine detail...\n",
      "2023-11-02 11:31:54 [info     ] after [Errno 2] No such file or directory: '/Users/jong/Library/Application Support/undetected_chromedriver/undetected/chromedriver-mac-x64/chromedriver' -> '/Users/jong/Library/Application Support/undetected_chromedriver/undetected_chromedriver' going to requesting openai.Image Chalk art of An individual holding a newspaper, with a hopeful expression on their face. Nearby, data collection papers are scattered, depicting potential changes and improvements. 8k 3D / 16k 3D...\n",
      "2023-11-02 11:31:54 [info     ] after [Errno 2] No such file or directory: '/Users/jong/Library/Application Support/undetected_chromedriver/undetected/chromedriver-mac-x64/chromedriver' -> '/Users/jong/Library/Application Support/undetected_chromedriver/undetected_chromedriver' going to requesting openai.Image Lego art of A library-like room filled with large servers and computers, glowing with lights indicating vast amounts of data being processed, with open data charts on screen displaying COVID-19 infection rates. A sign on the wall indicates that this is the \"Our World in Data\" project. Ultra HD...\n"
     ]
    },
    {
     "name": "stderr",
     "output_type": "stream",
     "text": [
      "INFO:openai:error_code=content_policy_violation error_message='Your request was rejected as a result of our safety system. Your prompt may contain text that is not allowed by our safety system.' error_param=None error_type=invalid_request_error message='OpenAI API error received' stream_error=False\n",
      "INFO:openai:error_code=content_policy_violation error_message='Your request was rejected as a result of our safety system. Your prompt may contain text that is not allowed by our safety system.' error_param=None error_type=invalid_request_error message='OpenAI API error received' stream_error=False\n"
     ]
    },
    {
     "name": "stdout",
     "output_type": "stream",
     "text": [
      "2023-11-02 11:31:54 [info     ] requesting openai...\n",
      "2023-11-02 11:31:54 [info     ] after [Errno 2] No such file or directory: '/Users/jong/Library/Application Support/undetected_chromedriver/undetected/chromedriver-mac-x64/chromedriver' -> '/Users/jong/Library/Application Support/undetected_chromedriver/undetected_chromedriver' going to requesting openai.Image Highly-detailed needlepoint of A news anchor sitting behind a desk with papers, a microphone in front, and various screens in the background displaying graphs and maps related to COVID-19 data. Detailed...\n"
     ]
    },
    {
     "name": "stderr",
     "output_type": "stream",
     "text": [
      "INFO:openai:error_code=content_policy_violation error_message='Your request was rejected as a result of our safety system. Your prompt may contain text that is not allowed by our safety system.' error_param=None error_type=invalid_request_error message='OpenAI API error received' stream_error=False\n",
      "INFO:openai:error_code=content_policy_violation error_message='Your request was rejected as a result of our safety system. Your prompt may contain text that is not allowed by our safety system.' error_param=None error_type=invalid_request_error message='OpenAI API error received' stream_error=False\n"
     ]
    },
    {
     "name": "stdout",
     "output_type": "stream",
     "text": [
      "2023-11-02 11:31:55 [info     ] requesting openai...\n",
      "2023-11-02 11:31:55 [info     ] after [Errno 2] No such file or directory: '/Users/jong/Library/Application Support/undetected_chromedriver/undetected_chromedriver' going to requesting openai.Image Chalk art of A man standing in front of a large screen displaying various charts and graphs related to COVID-19 data. 8k 3D / 16k 3D...\n",
      "2023-11-02 11:31:55 [info     ] after [Errno 2] No such file or directory: '/Users/jong/Library/Application Support/undetected_chromedriver/undetected/chromedriver-mac-x64/chromedriver' -> '/Users/jong/Library/Application Support/undetected_chromedriver/undetected_chromedriver' going to requesting openai.Image Highly-detailed needlepoint of A man reading a report from the European Centre for Disease Prevention and Control (ECDC) with charts depicting confirmed cases and deaths from a disease. Ultrafine detail...\n"
     ]
    },
    {
     "name": "stderr",
     "output_type": "stream",
     "text": [
      "INFO:openai:error_code=content_policy_violation error_message='Your request was rejected as a result of our safety system. Your prompt may contain text that is not allowed by our safety system.' error_param=None error_type=invalid_request_error message='OpenAI API error received' stream_error=False\n"
     ]
    },
    {
     "name": "stdout",
     "output_type": "stream",
     "text": [
      "2023-11-02 11:31:56 [info     ] after [Errno 2] No such file or directory: '/Users/jong/Library/Application Support/undetected_chromedriver/undetected/chromedriver-mac-x64/chromedriver' -> '/Users/jong/Library/Application Support/undetected_chromedriver/undetected_chromedriver' going to requesting openai.Image Educational 3d illustration of A man and woman discussing important documents and charts showing pandemic data, with a computer screen displaying real-time updates in the background. 8k 3D / 16k 3D...\n",
      "2023-11-02 11:31:56 [info     ] after [Errno 2] No such file or directory: '/Users/jong/Library/Application Support/undetected_chromedriver/undetected/chromedriver-mac-x64/chromedriver' -> '/Users/jong/Library/Application Support/undetected_chromedriver/undetected_chromedriver' going to requesting openai.Image Surrealism painting of A man gesturing towards a bar chart showcasing fluctuating COVID-19 case counts in New York City, with the initial and final counts for a single day highlighted to show a significant difference. 8k 3D / 16k 3D...\n"
     ]
    },
    {
     "name": "stderr",
     "output_type": "stream",
     "text": [
      "INFO:openai:error_code=content_policy_violation error_message='Your request was rejected as a result of our safety system. Your prompt may contain text that is not allowed by our safety system.' error_param=None error_type=invalid_request_error message='OpenAI API error received' stream_error=False\n"
     ]
    },
    {
     "name": "stdout",
     "output_type": "stream",
     "text": [
      "2023-11-02 11:31:57 [info     ] received openai.Image...\n",
      "2023-11-02 11:31:57 [info     ] after [Errno 2] No such file or directory: '/Users/jong/Library/Application Support/undetected_chromedriver/undetected/chromedriver-mac-x64/chromedriver' -> '/Users/jong/Library/Application Support/undetected_chromedriver/undetected_chromedriver' going to requesting openai.Image Stained glass of A woman standing in front of a large screen displaying a COVID-19 Dashboard. 8k resolution / 16k resolution...\n"
     ]
    },
    {
     "name": "stderr",
     "output_type": "stream",
     "text": [
      "INFO:openai:error_code=content_policy_violation error_message='Your request was rejected as a result of our safety system. Your prompt may contain text that is not allowed by our safety system.' error_param=None error_type=invalid_request_error message='OpenAI API error received' stream_error=False\n"
     ]
    },
    {
     "name": "stdout",
     "output_type": "stream",
     "text": [
      "2023-11-02 11:31:58 [info     ] requesting openai...\n"
     ]
    },
    {
     "name": "stderr",
     "output_type": "stream",
     "text": [
      "INFO:undetected_chromedriver.patcher:patching driver executable /Users/jong/Library/Application Support/undetected_chromedriver/undetected_chromedriver\n"
     ]
    },
    {
     "name": "stdout",
     "output_type": "stream",
     "text": [
      "2023-11-02 11:32:01 [info     ] received openai...\n",
      "2023-11-02 11:32:01 [info     ] received openai.Image...\n",
      "2023-11-02 11:32:01 [info     ] requesting openai...\n",
      "2023-11-02 11:32:01 [info     ] after Message: Service /Users/jong/Library/Application Support/undetected_chromedriver/undetected_chromedriver unexpectedly exited. Status code was: -9\n",
      " going to requesting openai.Image Highly-detailed needlepoint of A detective scrutinizing papers full of data with a magnifying glass, a covid-19 virus image in the background. Ultra HD...\n"
     ]
    },
    {
     "name": "stderr",
     "output_type": "stream",
     "text": [
      "INFO:openai:error_code=content_policy_violation error_message='Your request was rejected as a result of our safety system. Your prompt may contain text that is not allowed by our safety system.' error_param=None error_type=invalid_request_error message='OpenAI API error received' stream_error=False\n"
     ]
    },
    {
     "name": "stdout",
     "output_type": "stream",
     "text": [
      "2023-11-02 11:32:01 [info     ] requesting openai...\n",
      "2023-11-02 11:32:02 [info     ] received openai.Image...\n",
      "2023-11-02 11:32:02 [info     ] requesting openai...\n",
      "2023-11-02 11:32:03 [info     ] received openai.Image...\n",
      "2023-11-02 11:32:03 [info     ] received openai...\n"
     ]
    },
    {
     "name": "stderr",
     "output_type": "stream",
     "text": [
      "INFO:undetected_chromedriver.patcher:patching driver executable /Users/jong/Library/Application Support/undetected_chromedriver/undetected_chromedriver\n"
     ]
    },
    {
     "name": "stdout",
     "output_type": "stream",
     "text": [
      "2023-11-02 11:32:06 [info     ] after [Errno 2] No such file or directory: '/Users/jong/Library/Application Support/undetected_chromedriver/undetected/chromedriver-mac-x64/chromedriver' -> '/Users/jong/Library/Application Support/undetected_chromedriver/undetected_chromedriver' going to requesting openai.Image Lego art of A library-like room filled with large servers and computers, glowing with lights indicating vast amounts of data being processed, with open data charts on screen displaying COVID-19 infection rates. A sign on the wall indicates that this is the \"Our World in Data\" project. Ultra HD...\n",
      "2023-11-02 11:32:06 [info     ] after [Errno 2] No such file or directory: '/Users/jong/Library/Application Support/undetected_chromedriver/undetected/chromedriver-mac-x64/chromedriver' -> '/Users/jong/Library/Application Support/undetected_chromedriver/undetected_chromedriver' going to requesting openai.Image Educational 3d illustration of A blog page open on a computer screen, displaying two posts related to COVID-19 stats in New York City. 8k resolution / 16k resolution...\n",
      "2023-11-02 11:32:08 [info     ] after [Errno 2] No such file or directory: '/Users/jong/Library/Application Support/undetected_chromedriver/undetected/chromedriver-mac-x64/chromedriver' -> '/Users/jong/Library/Application Support/undetected_chromedriver/undetected_chromedriver' going to requesting openai.Image Educational 3d illustration of A man standing in front of a large digital screen displaying various graphics related to COVID-19 data, such as pie charts and bar graphs. 3840x2160...\n",
      "2023-11-02 11:32:08 [info     ] after [Errno 2] No such file or directory: '/Users/jong/Library/Application Support/undetected_chromedriver/undetected/chromedriver-mac-x64/chromedriver' -> '/Users/jong/Library/Application Support/undetected_chromedriver/undetected_chromedriver' going to requesting openai.Image Drone photography of An array of screens displaying different COVID-19 data repositories including the ECDC, Johns Hopkins University, and The New York Times. Ultra HD...\n"
     ]
    },
    {
     "name": "stderr",
     "output_type": "stream",
     "text": [
      "INFO:openai:error_code=content_policy_violation error_message='Your request was rejected as a result of our safety system. Your prompt may contain text that is not allowed by our safety system.' error_param=None error_type=invalid_request_error message='OpenAI API error received' stream_error=False\n",
      "INFO:openai:error_code=content_policy_violation error_message='Your request was rejected as a result of our safety system. Your prompt may contain text that is not allowed by our safety system.' error_param=None error_type=invalid_request_error message='OpenAI API error received' stream_error=False\n",
      "INFO:openai:error_code=content_policy_violation error_message='Your request was rejected as a result of our safety system. Your prompt may contain text that is not allowed by our safety system.' error_param=None error_type=invalid_request_error message='OpenAI API error received' stream_error=False\n",
      "INFO:openai:error_code=content_policy_violation error_message='Your request was rejected as a result of our safety system. Your prompt may contain text that is not allowed by our safety system.' error_param=None error_type=invalid_request_error message='OpenAI API error received' stream_error=False\n"
     ]
    },
    {
     "name": "stdout",
     "output_type": "stream",
     "text": [
      "2023-11-02 11:32:09 [info     ] received openai...\n"
     ]
    },
    {
     "name": "stderr",
     "output_type": "stream",
     "text": [
      "INFO:undetected_chromedriver.patcher:patching driver executable /Users/jong/Library/Application Support/undetected_chromedriver/undetected_chromedriver\n"
     ]
    },
    {
     "name": "stdout",
     "output_type": "stream",
     "text": [
      "2023-11-02 11:32:09 [info     ] received openai...\n",
      "2023-11-02 11:32:09 [info     ] after [Errno 2] No such file or directory: '/Users/jong/Library/Application Support/undetected_chromedriver/undetected_chromedriver' going to requesting openai.Image Chalk art of A man standing in front of a large screen displaying various charts and graphs related to COVID-19 data. 8k 3D / 16k 3D...\n",
      "2023-11-02 11:32:10 [info     ] received openai...\n"
     ]
    },
    {
     "name": "stderr",
     "output_type": "stream",
     "text": [
      "INFO:openai:error_code=content_policy_violation error_message='Your request was rejected as a result of our safety system. Your prompt may contain text that is not allowed by our safety system.' error_param=None error_type=invalid_request_error message='OpenAI API error received' stream_error=False\n"
     ]
    },
    {
     "name": "stdout",
     "output_type": "stream",
     "text": [
      "2023-11-02 11:32:10 [info     ] requesting openai...\n",
      "2023-11-02 11:32:10 [info     ] after Message: Service /Users/jong/Library/Application Support/undetected_chromedriver/undetected_chromedriver unexpectedly exited. Status code was: -9\n",
      " going to requesting openai.Image 35mm Macro photography of Two graphs side-by-side illustrating the daily COVID-19 cases in NYC during two distinct peak periods. Detailed...\n"
     ]
    },
    {
     "name": "stderr",
     "output_type": "stream",
     "text": [
      "INFO:openai:error_code=content_policy_violation error_message='Your request was rejected as a result of our safety system. Your prompt may contain text that is not allowed by our safety system.' error_param=None error_type=invalid_request_error message='OpenAI API error received' stream_error=False\n"
     ]
    },
    {
     "name": "stdout",
     "output_type": "stream",
     "text": [
      "2023-11-02 11:32:10 [info     ] received openai...\n"
     ]
    },
    {
     "name": "stderr",
     "output_type": "stream",
     "text": [
      "INFO:undetected_chromedriver.patcher:patching driver executable /Users/jong/Library/Application Support/undetected_chromedriver/undetected_chromedriver\n"
     ]
    },
    {
     "name": "stdout",
     "output_type": "stream",
     "text": [
      "2023-11-02 11:32:11 [info     ] after [Errno 2] No such file or directory: '/Users/jong/Library/Application Support/undetected_chromedriver/undetected/chromedriver-mac-x64/chromedriver' -> '/Users/jong/Library/Application Support/undetected_chromedriver/undetected_chromedriver' going to requesting openai.Image Matte painting of Two individuals in a modern studio setting, nodding and looking satisfied, with a paused educational video on a large screen behind them. 8k 3D / 16k 3D...\n",
      "2023-11-02 11:32:11 [info     ] after Message: Service /Users/jong/Library/Application Support/undetected_chromedriver/undetected_chromedriver unexpectedly exited. Status code was: -9\n",
      " going to requesting openai.Image Stained glass of A woman standing in front of a large screen displaying a COVID-19 Dashboard. 8k resolution / 16k resolution...\n"
     ]
    },
    {
     "name": "stderr",
     "output_type": "stream",
     "text": [
      "INFO:openai:error_code=content_policy_violation error_message='Your request was rejected as a result of our safety system. Your prompt may contain text that is not allowed by our safety system.' error_param=None error_type=invalid_request_error message='OpenAI API error received' stream_error=False\n"
     ]
    },
    {
     "name": "stdout",
     "output_type": "stream",
     "text": [
      "2023-11-02 11:32:13 [info     ] requesting openai...\n",
      "2023-11-02 11:32:13 [info     ] after [Errno 2] No such file or directory: '/Users/jong/Library/Application Support/undetected_chromedriver/undetected/chromedriver-mac-x64/chromedriver' -> '/Users/jong/Library/Application Support/undetected_chromedriver/undetected_chromedriver' going to requesting openai.Image Highly-detailed needlepoint of A detective scrutinizing papers full of data with a magnifying glass, a covid-19 virus image in the background. Ultra HD...\n"
     ]
    },
    {
     "name": "stderr",
     "output_type": "stream",
     "text": [
      "INFO:undetected_chromedriver.patcher:patching driver executable /Users/jong/Library/Application Support/undetected_chromedriver/undetected_chromedriver\n",
      "INFO:openai:error_code=content_policy_violation error_message='Your request was rejected as a result of our safety system. Your prompt may contain text that is not allowed by our safety system.' error_param=None error_type=invalid_request_error message='OpenAI API error received' stream_error=False\n"
     ]
    },
    {
     "name": "stdout",
     "output_type": "stream",
     "text": [
      "2023-11-02 11:32:14 [info     ] after Message: Unable to locate or obtain driver for chrome; For documentation on this error, please visit: https://www.selenium.dev/documentation/webdriver/troubleshooting/errors/driver_location\n",
      " going to requesting openai.Image 3d digital art of An animated female character standing next to a male character, both wearing face masks, in a room with a large map of the world and several papers scattered around that show graphs and charts related to COVID-19 data. 8k 3D / 16k 3D...\n"
     ]
    },
    {
     "name": "stderr",
     "output_type": "stream",
     "text": [
      "INFO:openai:error_code=content_policy_violation error_message='Your request was rejected as a result of our safety system. Your prompt may contain text that is not allowed by our safety system.' error_param=None error_type=invalid_request_error message='OpenAI API error received' stream_error=False\n"
     ]
    },
    {
     "name": "stdout",
     "output_type": "stream",
     "text": [
      "2023-11-02 11:32:17 [info     ] received openai...\n"
     ]
    },
    {
     "name": "stderr",
     "output_type": "stream",
     "text": [
      "INFO:undetected_chromedriver.patcher:patching driver executable /Users/jong/Library/Application Support/undetected_chromedriver/undetected_chromedriver\n"
     ]
    },
    {
     "name": "stdout",
     "output_type": "stream",
     "text": [
      "2023-11-02 11:32:18 [info     ] received openai.Image...\n",
      "2023-11-02 11:32:18 [info     ] after [Errno 2] No such file or directory: '/Users/jong/Library/Application Support/undetected_chromedriver/undetected/chromedriver-mac-x64/chromedriver' -> '/Users/jong/Library/Application Support/undetected_chromedriver/undetected_chromedriver' going to requesting openai.Image Realism painting of An individual presenting and pointing at a large bar graph that shows the discrepancy between initial and final counts of COVID-19 cases in NYC. Ultra HD...\n"
     ]
    },
    {
     "name": "stderr",
     "output_type": "stream",
     "text": [
      "INFO:openai:error_code=content_policy_violation error_message='Your request was rejected as a result of our safety system. Your prompt may contain text that is not allowed by our safety system.' error_param=None error_type=invalid_request_error message='OpenAI API error received' stream_error=False\n"
     ]
    },
    {
     "name": "stdout",
     "output_type": "stream",
     "text": [
      "2023-11-02 11:32:18 [info     ] received openai...\n",
      "2023-11-02 11:32:19 [info     ] after Message: Unable to locate or obtain driver for chrome; For documentation on this error, please visit: https://www.selenium.dev/documentation/webdriver/troubleshooting/errors/driver_location\n",
      " going to requesting openai.Image Chalk art of A man standing in the doorway, waving goodbye to a group of people inside the room. 3840x2160...\n"
     ]
    },
    {
     "name": "stderr",
     "output_type": "stream",
     "text": [
      "INFO:undetected_chromedriver.patcher:patching driver executable /Users/jong/Library/Application Support/undetected_chromedriver/undetected_chromedriver\n"
     ]
    },
    {
     "name": "stdout",
     "output_type": "stream",
     "text": [
      "2023-11-02 11:32:21 [info     ] after [Errno 2] No such file or directory: '/Users/jong/Library/Application Support/undetected_chromedriver/undetected/chromedriver-mac-x64/chromedriver' -> '/Users/jong/Library/Application Support/undetected_chromedriver/undetected_chromedriver' going to requesting openai.Image Lego art of A library-like room filled with large servers and computers, glowing with lights indicating vast amounts of data being processed, with open data charts on screen displaying COVID-19 infection rates. A sign on the wall indicates that this is the \"Our World in Data\" project. Ultra HD...\n"
     ]
    },
    {
     "name": "stderr",
     "output_type": "stream",
     "text": [
      "INFO:openai:error_code=content_policy_violation error_message='Your request was rejected as a result of our safety system. Your prompt may contain text that is not allowed by our safety system.' error_param=None error_type=invalid_request_error message='OpenAI API error received' stream_error=False\n"
     ]
    },
    {
     "name": "stdout",
     "output_type": "stream",
     "text": [
      "2023-11-02 11:32:22 [info     ] after [Errno 2] No such file or directory: '/Users/jong/Library/Application Support/undetected_chromedriver/undetected/chromedriver-mac-x64/chromedriver' -> '/Users/jong/Library/Application Support/undetected_chromedriver/undetected_chromedriver' going to requesting openai.Image Karen Knorr photography of Two people sitting across a desk from each other, one looking appreciative and the other one wrapping up papers. Both are smiling, and a sign saying 'Keep Learning' is visible in the background. Ultrafine detail...\n",
      "2023-11-02 11:32:23 [info     ] after Message: Service /Users/jong/Library/Application Support/undetected_chromedriver/undetected_chromedriver unexpectedly exited. Status code was: -9\n",
      " going to requesting openai.Image Highly-detailed needlepoint of An image of a blog post titled 'COVID-19 Data Collection - Garbage In, Garbage Out', filled with text and charts related to the data analysis, with highlighted sections indicating issues of data quality. 8k 3D / 16k 3D...\n"
     ]
    },
    {
     "name": "stderr",
     "output_type": "stream",
     "text": [
      "INFO:openai:error_code=content_policy_violation error_message='Your request was rejected as a result of our safety system. Your prompt may contain text that is not allowed by our safety system.' error_param=None error_type=invalid_request_error message='OpenAI API error received' stream_error=False\n",
      "INFO:undetected_chromedriver.patcher:patching driver executable /Users/jong/Library/Application Support/undetected_chromedriver/undetected_chromedriver\n"
     ]
    },
    {
     "name": "stdout",
     "output_type": "stream",
     "text": [
      "2023-11-02 11:32:26 [info     ] after Message: Service /Users/jong/Library/Application Support/undetected_chromedriver/undetected_chromedriver unexpectedly exited. Status code was: -9\n",
      " going to requesting openai.Image Stained glass of A woman standing in front of a large screen displaying a COVID-19 Dashboard. 8k resolution / 16k resolution...\n",
      "2023-11-02 11:32:26 [info     ] received openai.Image...\n"
     ]
    },
    {
     "name": "stderr",
     "output_type": "stream",
     "text": [
      "INFO:openai:error_code=content_policy_violation error_message='Your request was rejected as a result of our safety system. Your prompt may contain text that is not allowed by our safety system.' error_param=None error_type=invalid_request_error message='OpenAI API error received' stream_error=False\n",
      "INFO:undetected_chromedriver.patcher:patching driver executable /Users/jong/Library/Application Support/undetected_chromedriver/undetected_chromedriver\n"
     ]
    },
    {
     "name": "stdout",
     "output_type": "stream",
     "text": [
      "2023-11-02 11:32:32 [info     ] after [Errno 2] No such file or directory: '/Users/jong/Library/Application Support/undetected_chromedriver/undetected/chromedriver-mac-x64/chromedriver' -> '/Users/jong/Library/Application Support/undetected_chromedriver/undetected_chromedriver' going to requesting openai.Image Highly-detailed needlepoint of A detective scrutinizing papers full of data with a magnifying glass, a covid-19 virus image in the background. Ultra HD...\n"
     ]
    },
    {
     "name": "stderr",
     "output_type": "stream",
     "text": [
      "INFO:undetected_chromedriver.patcher:patching driver executable /Users/jong/Library/Application Support/undetected_chromedriver/undetected_chromedriver\n"
     ]
    },
    {
     "name": "stdout",
     "output_type": "stream",
     "text": [
      "2023-11-02 11:32:32 [info     ] after Message: Service /Users/jong/Library/Application Support/undetected_chromedriver/undetected_chromedriver unexpectedly exited. Status code was: -9\n",
      " going to requesting openai.Image 3d digital art of An animated female character standing next to a male character, both wearing face masks, in a room with a large map of the world and several papers scattered around that show graphs and charts related to COVID-19 data. 8k 3D / 16k 3D...\n"
     ]
    },
    {
     "name": "stderr",
     "output_type": "stream",
     "text": [
      "INFO:openai:error_code=content_policy_violation error_message='Your request was rejected as a result of our safety system. Your prompt may contain text that is not allowed by our safety system.' error_param=None error_type=invalid_request_error message='OpenAI API error received' stream_error=False\n"
     ]
    },
    {
     "name": "stdout",
     "output_type": "stream",
     "text": [
      "2023-11-02 11:32:32 [info     ] after Message: Service /Users/jong/Library/Application Support/undetected_chromedriver/undetected_chromedriver unexpectedly exited. Status code was: -9\n",
      " going to requesting openai.Image Realism painting of An individual presenting and pointing at a large bar graph that shows the discrepancy between initial and final counts of COVID-19 cases in NYC. Ultra HD...\n",
      "2023-11-02 11:32:33 [info     ] after [Errno 2] No such file or directory: '/Users/jong/Library/Application Support/undetected_chromedriver/undetected/chromedriver-mac-x64/chromedriver' -> '/Users/jong/Library/Application Support/undetected_chromedriver/undetected_chromedriver' going to requesting openai.Image Award winning 4k DSLR photo of A computer screen displaying various tabs open with the websites of Johns Hopkins University's COVID-19 data, NYC Health's coronavirus updates, and the New York Times' ongoing repository. 8k 3D / 16k 3D...\n",
      "2023-11-02 11:32:33 [info     ] after [Errno 2] No such file or directory: '/Users/jong/Library/Application Support/undetected_chromedriver/undetected/chromedriver-mac-x64/chromedriver' -> '/Users/jong/Library/Application Support/undetected_chromedriver/undetected_chromedriver' going to requesting openai.Image Realism painting of An open blog page displaying two highlighted posts about COVID-19 stats in New York City. Ultra HD...\n"
     ]
    },
    {
     "name": "stderr",
     "output_type": "stream",
     "text": [
      "INFO:openai:error_code=content_policy_violation error_message='Your request was rejected as a result of our safety system. Your prompt may contain text that is not allowed by our safety system.' error_param=None error_type=invalid_request_error message='OpenAI API error received' stream_error=False\n",
      "INFO:openai:error_code=content_policy_violation error_message='Your request was rejected as a result of our safety system. Your prompt may contain text that is not allowed by our safety system.' error_param=None error_type=invalid_request_error message='OpenAI API error received' stream_error=False\n",
      "INFO:openai:error_code=content_policy_violation error_message='Your request was rejected as a result of our safety system. Your prompt may contain text that is not allowed by our safety system.' error_param=None error_type=invalid_request_error message='OpenAI API error received' stream_error=False\n",
      "INFO:openai:error_code=content_policy_violation error_message='Your request was rejected as a result of our safety system. Your prompt may contain text that is not allowed by our safety system.' error_param=None error_type=invalid_request_error message='OpenAI API error received' stream_error=False\n",
      "INFO:openai:error_code=None error_message='The server had an error while processing your request. Sorry about that! You can retry your request, or contact us through our help center at help.openai.com if the error persists. (Please include the request ID 040e53a4f3fca280e9b4299c5eebd978 in your message.)' error_param=None error_type=server_error message='OpenAI API error received' stream_error=False\n",
      "INFO:undetected_chromedriver.patcher:patching driver executable /Users/jong/Library/Application Support/undetected_chromedriver/undetected_chromedriver\n"
     ]
    },
    {
     "name": "stdout",
     "output_type": "stream",
     "text": [
      "2023-11-02 11:32:40 [info     ] after Message: Service /Users/jong/Library/Application Support/undetected_chromedriver/undetected_chromedriver unexpectedly exited. Status code was: -9\n",
      " going to requesting openai.Image Lego art of A library-like room filled with large servers and computers, glowing with lights indicating vast amounts of data being processed, with open data charts on screen displaying COVID-19 infection rates. A sign on the wall indicates that this is the \"Our World in Data\" project. Ultra HD...\n",
      "2023-11-02 11:32:40 [info     ] after [Errno 2] No such file or directory: '/Users/jong/Library/Application Support/undetected_chromedriver/undetected/chromedriver-mac-x64/chromedriver' -> '/Users/jong/Library/Application Support/undetected_chromedriver/undetected_chromedriver' going to requesting openai.Image Highly-detailed needlepoint of An image of a blog post titled 'COVID-19 Data Collection - Garbage In, Garbage Out', filled with text and charts related to the data analysis, with highlighted sections indicating issues of data quality. 8k 3D / 16k 3D...\n"
     ]
    },
    {
     "name": "stderr",
     "output_type": "stream",
     "text": [
      "INFO:openai:error_code=content_policy_violation error_message='Your request was rejected as a result of our safety system. Your prompt may contain text that is not allowed by our safety system.' error_param=None error_type=invalid_request_error message='OpenAI API error received' stream_error=False\n",
      "INFO:openai:error_code=content_policy_violation error_message='Your request was rejected as a result of our safety system. Your prompt may contain text that is not allowed by our safety system.' error_param=None error_type=invalid_request_error message='OpenAI API error received' stream_error=False\n",
      "INFO:undetected_chromedriver.patcher:patching driver executable /Users/jong/Library/Application Support/undetected_chromedriver/undetected_chromedriver\n"
     ]
    },
    {
     "name": "stdout",
     "output_type": "stream",
     "text": [
      "2023-11-02 11:32:43 [info     ] after Message: Service /Users/jong/Library/Application Support/undetected_chromedriver/undetected_chromedriver unexpectedly exited. Status code was: -9\n",
      " going to requesting openai.Image Stained glass of A woman standing in front of a large screen displaying a COVID-19 Dashboard. 8k resolution / 16k resolution...\n"
     ]
    },
    {
     "name": "stderr",
     "output_type": "stream",
     "text": [
      "INFO:openai:error_code=content_policy_violation error_message='Your request was rejected as a result of our safety system. Your prompt may contain text that is not allowed by our safety system.' error_param=None error_type=invalid_request_error message='OpenAI API error received' stream_error=False\n",
      "INFO:undetected_chromedriver.patcher:patching driver executable /Users/jong/Library/Application Support/undetected_chromedriver/undetected_chromedriver\n"
     ]
    },
    {
     "name": "stdout",
     "output_type": "stream",
     "text": [
      "2023-11-02 11:32:49 [info     ] after Message: Service /Users/jong/Library/Application Support/undetected_chromedriver/undetected_chromedriver unexpectedly exited. Status code was: -9\n",
      " going to requesting openai.Image Realism painting of An individual presenting and pointing at a large bar graph that shows the discrepancy between initial and final counts of COVID-19 cases in NYC. Ultra HD...\n",
      "2023-11-02 11:32:49 [info     ] after [Errno 2] No such file or directory: '/Users/jong/Library/Application Support/undetected_chromedriver/undetected/chromedriver-mac-x64/chromedriver' -> '/Users/jong/Library/Application Support/undetected_chromedriver/undetected_chromedriver' going to requesting openai.Image Karen Knorr photography of Two people sitting across a desk from each other, one looking appreciative and the other one wrapping up papers. Both are smiling, and a sign saying 'Keep Learning' is visible in the background. Ultrafine detail...\n"
     ]
    },
    {
     "name": "stderr",
     "output_type": "stream",
     "text": [
      "INFO:openai:error_code=content_policy_violation error_message='Your request was rejected as a result of our safety system. Your prompt may contain text that is not allowed by our safety system.' error_param=None error_type=invalid_request_error message='OpenAI API error received' stream_error=False\n"
     ]
    },
    {
     "name": "stdout",
     "output_type": "stream",
     "text": [
      "2023-11-02 11:32:49 [info     ] after [Errno 2] No such file or directory: '/Users/jong/Library/Application Support/undetected_chromedriver/undetected/chromedriver-mac-x64/chromedriver' -> '/Users/jong/Library/Application Support/undetected_chromedriver/undetected_chromedriver' going to requesting openai.Image Highly-detailed needlepoint of A detective scrutinizing papers full of data with a magnifying glass, a covid-19 virus image in the background. Ultra HD...\n"
     ]
    },
    {
     "name": "stderr",
     "output_type": "stream",
     "text": [
      "INFO:openai:error_code=content_policy_violation error_message='Your request was rejected as a result of our safety system. Your prompt may contain text that is not allowed by our safety system.' error_param=None error_type=invalid_request_error message='OpenAI API error received' stream_error=False\n"
     ]
    },
    {
     "name": "stdout",
     "output_type": "stream",
     "text": [
      "2023-11-02 11:32:52 [info     ] after [Errno 2] No such file or directory: '/Users/jong/Library/Application Support/undetected_chromedriver/undetected/chromedriver-mac-x64/chromedriver' -> '/Users/jong/Library/Application Support/undetected_chromedriver/undetected_chromedriver' going to requesting openai.Image Realism painting of An open blog page displaying two highlighted posts about COVID-19 stats in New York City. Ultra HD...\n",
      "2023-11-02 11:32:52 [info     ] after [Errno 2] No such file or directory: '/Users/jong/Library/Application Support/undetected_chromedriver/undetected_chromedriver' going to requesting openai.Image Award winning 4k DSLR photo of A computer screen displaying various tabs open with the websites of Johns Hopkins University's COVID-19 data, NYC Health's coronavirus updates, and the New York Times' ongoing repository. 8k 3D / 16k 3D...\n"
     ]
    },
    {
     "name": "stderr",
     "output_type": "stream",
     "text": [
      "INFO:openai:error_code=content_policy_violation error_message='Your request was rejected as a result of our safety system. Your prompt may contain text that is not allowed by our safety system.' error_param=None error_type=invalid_request_error message='OpenAI API error received' stream_error=False\n",
      "INFO:openai:error_code=content_policy_violation error_message='Your request was rejected as a result of our safety system. Your prompt may contain text that is not allowed by our safety system.' error_param=None error_type=invalid_request_error message='OpenAI API error received' stream_error=False\n"
     ]
    },
    {
     "name": "stdout",
     "output_type": "stream",
     "text": [
      "2023-11-02 11:32:54 [info     ] after [Errno 2] No such file or directory: '/Users/jong/Library/Application Support/undetected_chromedriver/undetected/chromedriver-mac-x64/chromedriver' -> '/Users/jong/Library/Application Support/undetected_chromedriver/undetected_chromedriver' going to requesting openai.Image 3d digital art of An animated female character standing next to a male character, both wearing face masks, in a room with a large map of the world and several papers scattered around that show graphs and charts related to COVID-19 data. 8k 3D / 16k 3D...\n"
     ]
    },
    {
     "name": "stderr",
     "output_type": "stream",
     "text": [
      "INFO:openai:error_code=content_policy_violation error_message='Your request was rejected as a result of our safety system. Your prompt may contain text that is not allowed by our safety system.' error_param=None error_type=invalid_request_error message='OpenAI API error received' stream_error=False\n",
      "INFO:undetected_chromedriver.patcher:patching driver executable /Users/jong/Library/Application Support/undetected_chromedriver/undetected_chromedriver\n"
     ]
    },
    {
     "name": "stdout",
     "output_type": "stream",
     "text": [
      "2023-11-02 11:32:57 [info     ] after [Errno 2] No such file or directory: '/Users/jong/Library/Application Support/undetected_chromedriver/undetected/chromedriver-mac-x64/chromedriver' -> '/Users/jong/Library/Application Support/undetected_chromedriver/undetected_chromedriver' going to requesting openai.Image Highly-detailed needlepoint of An image of a blog post titled 'COVID-19 Data Collection - Garbage In, Garbage Out', filled with text and charts related to the data analysis, with highlighted sections indicating issues of data quality. 8k 3D / 16k 3D...\n",
      "2023-11-02 11:32:57 [info     ] after Message: Unable to locate or obtain driver for chrome; For documentation on this error, please visit: https://www.selenium.dev/documentation/webdriver/troubleshooting/errors/driver_location\n",
      " going to requesting openai.Image Lego art of A library-like room filled with large servers and computers, glowing with lights indicating vast amounts of data being processed, with open data charts on screen displaying COVID-19 infection rates. A sign on the wall indicates that this is the \"Our World in Data\" project. Ultra HD...\n"
     ]
    },
    {
     "name": "stderr",
     "output_type": "stream",
     "text": [
      "INFO:openai:error_code=content_policy_violation error_message='Your request was rejected as a result of our safety system. Your prompt may contain text that is not allowed by our safety system.' error_param=None error_type=invalid_request_error message='OpenAI API error received' stream_error=False\n"
     ]
    },
    {
     "name": "stdout",
     "output_type": "stream",
     "text": [
      "2023-11-02 11:32:58 [info     ] received openai.Image...\n"
     ]
    },
    {
     "name": "stderr",
     "output_type": "stream",
     "text": [
      "INFO:openai:error_code=content_policy_violation error_message='Your request was rejected as a result of our safety system. Your prompt may contain text that is not allowed by our safety system.' error_param=None error_type=invalid_request_error message='OpenAI API error received' stream_error=False\n"
     ]
    },
    {
     "name": "stdout",
     "output_type": "stream",
     "text": [
      "2023-11-02 11:32:59 [info     ] requesting openai...\n"
     ]
    },
    {
     "name": "stderr",
     "output_type": "stream",
     "text": [
      "INFO:undetected_chromedriver.patcher:patching driver executable /Users/jong/Library/Application Support/undetected_chromedriver/undetected_chromedriver\n",
      "INFO:undetected_chromedriver.patcher:patching driver executable /Users/jong/Library/Application Support/undetected_chromedriver/undetected_chromedriver\n"
     ]
    },
    {
     "name": "stdout",
     "output_type": "stream",
     "text": [
      "2023-11-02 11:33:04 [info     ] after Message: Service /Users/jong/Library/Application Support/undetected_chromedriver/undetected_chromedriver unexpectedly exited. Status code was: -9\n",
      " going to requesting openai.Image Highly-detailed needlepoint of A detective scrutinizing papers full of data with a magnifying glass, a covid-19 virus image in the background. Ultra HD...\n",
      "2023-11-02 11:33:06 [info     ] after Message: Service /Users/jong/Library/Application Support/undetected_chromedriver/undetected_chromedriver unexpectedly exited. Status code was: -9\n",
      " going to requesting openai.Image Realism painting of An individual presenting and pointing at a large bar graph that shows the discrepancy between initial and final counts of COVID-19 cases in NYC. Ultra HD...\n",
      "2023-11-02 11:33:06 [info     ] received openai...\n",
      "2023-11-02 11:33:06 [info     ] after [Errno 2] No such file or directory: '/Users/jong/Library/Application Support/undetected_chromedriver/undetected/chromedriver-mac-x64/chromedriver' -> '/Users/jong/Library/Application Support/undetected_chromedriver/undetected_chromedriver' going to requesting openai.Image Award winning 4k DSLR photo of A computer screen displaying various tabs open with the websites of Johns Hopkins University's COVID-19 data, NYC Health's coronavirus updates, and the New York Times' ongoing repository. 8k 3D / 16k 3D...\n"
     ]
    },
    {
     "name": "stderr",
     "output_type": "stream",
     "text": [
      "INFO:openai:error_code=content_policy_violation error_message='Your request was rejected as a result of our safety system. Your prompt may contain text that is not allowed by our safety system.' error_param=None error_type=invalid_request_error message='OpenAI API error received' stream_error=False\n",
      "INFO:openai:error_code=content_policy_violation error_message='Your request was rejected as a result of our safety system. Your prompt may contain text that is not allowed by our safety system.' error_param=None error_type=invalid_request_error message='OpenAI API error received' stream_error=False\n",
      "INFO:openai:error_code=content_policy_violation error_message='Your request was rejected as a result of our safety system. Your prompt may contain text that is not allowed by our safety system.' error_param=None error_type=invalid_request_error message='OpenAI API error received' stream_error=False\n",
      "INFO:undetected_chromedriver.patcher:patching driver executable /Users/jong/Library/Application Support/undetected_chromedriver/undetected_chromedriver\n"
     ]
    },
    {
     "name": "stdout",
     "output_type": "stream",
     "text": [
      "2023-11-02 11:33:08 [info     ] after Message: Service /Users/jong/Library/Application Support/undetected_chromedriver/undetected_chromedriver unexpectedly exited. Status code was: -9\n",
      " going to requesting openai.Image Realism painting of An open blog page displaying two highlighted posts about COVID-19 stats in New York City. Ultra HD...\n",
      "2023-11-02 11:33:10 [info     ] after [Errno 2] No such file or directory: '/Users/jong/Library/Application Support/undetected_chromedriver/undetected/chromedriver-mac-x64/chromedriver' -> '/Users/jong/Library/Application Support/undetected_chromedriver/undetected_chromedriver' going to requesting openai.Image 3d digital art of An animated female character standing next to a male character, both wearing face masks, in a room with a large map of the world and several papers scattered around that show graphs and charts related to COVID-19 data. 8k 3D / 16k 3D...\n"
     ]
    },
    {
     "name": "stderr",
     "output_type": "stream",
     "text": [
      "INFO:openai:error_code=content_policy_violation error_message='Your request was rejected as a result of our safety system. Your prompt may contain text that is not allowed by our safety system.' error_param=None error_type=invalid_request_error message='OpenAI API error received' stream_error=False\n",
      "INFO:openai:error_code=content_policy_violation error_message='Your request was rejected as a result of our safety system. Your prompt may contain text that is not allowed by our safety system.' error_param=None error_type=invalid_request_error message='OpenAI API error received' stream_error=False\n"
     ]
    },
    {
     "name": "stdout",
     "output_type": "stream",
     "text": [
      "2023-11-02 11:33:12 [info     ] requesting openai...\n"
     ]
    },
    {
     "name": "stderr",
     "output_type": "stream",
     "text": [
      "INFO:undetected_chromedriver.patcher:patching driver executable /Users/jong/Library/Application Support/undetected_chromedriver/undetected_chromedriver\n"
     ]
    },
    {
     "name": "stdout",
     "output_type": "stream",
     "text": [
      "2023-11-02 11:33:15 [info     ] after Message: Service /Users/jong/Library/Application Support/undetected_chromedriver/undetected_chromedriver unexpectedly exited. Status code was: -9\n",
      " going to requesting openai.Image Highly-detailed needlepoint of An image of a blog post titled 'COVID-19 Data Collection - Garbage In, Garbage Out', filled with text and charts related to the data analysis, with highlighted sections indicating issues of data quality. 8k 3D / 16k 3D...\n"
     ]
    },
    {
     "name": "stderr",
     "output_type": "stream",
     "text": [
      "INFO:openai:error_code=content_policy_violation error_message='Your request was rejected as a result of our safety system. Your prompt may contain text that is not allowed by our safety system.' error_param=None error_type=invalid_request_error message='OpenAI API error received' stream_error=False\n"
     ]
    },
    {
     "name": "stdout",
     "output_type": "stream",
     "text": [
      "2023-11-02 11:33:19 [info     ] received openai...\n"
     ]
    },
    {
     "name": "stderr",
     "output_type": "stream",
     "text": [
      "INFO:undetected_chromedriver.patcher:patching driver executable /Users/jong/Library/Application Support/undetected_chromedriver/undetected_chromedriver\n"
     ]
    },
    {
     "name": "stdout",
     "output_type": "stream",
     "text": [
      "2023-11-02 11:33:23 [info     ] after Message: Service /Users/jong/Library/Application Support/undetected_chromedriver/undetected_chromedriver unexpectedly exited. Status code was: -9\n",
      " going to requesting openai.Image Watercolour painting of A man standing in front of multiple computer screens displaying various graphs and data sets relating to a disease study. Detailed...\n",
      "2023-11-02 11:33:24 [info     ] after [Errno 2] No such file or directory: '/Users/jong/Library/Application Support/undetected_chromedriver/undetected/chromedriver-mac-x64/chromedriver' -> '/Users/jong/Library/Application Support/undetected_chromedriver/undetected_chromedriver' going to requesting openai.Image Award winning 4k DSLR photo of A computer screen displaying various tabs open with the websites of Johns Hopkins University's COVID-19 data, NYC Health's coronavirus updates, and the New York Times' ongoing repository. 8k 3D / 16k 3D...\n"
     ]
    },
    {
     "name": "stderr",
     "output_type": "stream",
     "text": [
      "INFO:undetected_chromedriver.patcher:patching driver executable /Users/jong/Library/Application Support/undetected_chromedriver/undetected_chromedriver\n",
      "INFO:openai:error_code=content_policy_violation error_message='Your request was rejected as a result of our safety system. Your prompt may contain text that is not allowed by our safety system.' error_param=None error_type=invalid_request_error message='OpenAI API error received' stream_error=False\n"
     ]
    },
    {
     "name": "stdout",
     "output_type": "stream",
     "text": [
      "2023-11-02 11:33:25 [info     ] after [Errno 2] No such file or directory: '/Users/jong/Library/Application Support/undetected_chromedriver/undetected/chromedriver-mac-x64/chromedriver' -> '/Users/jong/Library/Application Support/undetected_chromedriver/undetected_chromedriver' going to requesting openai.Image Realism painting of An open blog page displaying two highlighted posts about COVID-19 stats in New York City. Ultra HD...\n"
     ]
    },
    {
     "name": "stderr",
     "output_type": "stream",
     "text": [
      "INFO:openai:error_code=content_policy_violation error_message='Your request was rejected as a result of our safety system. Your prompt may contain text that is not allowed by our safety system.' error_param=None error_type=invalid_request_error message='OpenAI API error received' stream_error=False\n"
     ]
    },
    {
     "name": "stdout",
     "output_type": "stream",
     "text": [
      "2023-11-02 11:33:26 [info     ] after Message: Service /Users/jong/Library/Application Support/undetected_chromedriver/undetected_chromedriver unexpectedly exited. Status code was: -9\n",
      " going to requesting openai.Image Realism painting of An individual presenting and pointing at a large bar graph that shows the discrepancy between initial and final counts of COVID-19 cases in NYC. Ultra HD...\n"
     ]
    },
    {
     "name": "stderr",
     "output_type": "stream",
     "text": [
      "INFO:openai:error_code=content_policy_violation error_message='Your request was rejected as a result of our safety system. Your prompt may contain text that is not allowed by our safety system.' error_param=None error_type=invalid_request_error message='OpenAI API error received' stream_error=False\n"
     ]
    },
    {
     "name": "stdout",
     "output_type": "stream",
     "text": [
      "2023-11-02 11:33:27 [info     ] after [Errno 2] No such file or directory: '/Users/jong/Library/Application Support/undetected_chromedriver/undetected/chromedriver-mac-x64/chromedriver' -> '/Users/jong/Library/Application Support/undetected_chromedriver/undetected_chromedriver' going to requesting openai.Image 3d digital art of An animated female character standing next to a male character, both wearing face masks, in a room with a large map of the world and several papers scattered around that show graphs and charts related to COVID-19 data. 8k 3D / 16k 3D...\n"
     ]
    },
    {
     "name": "stderr",
     "output_type": "stream",
     "text": [
      "INFO:openai:error_code=content_policy_violation error_message='Your request was rejected as a result of our safety system. Your prompt may contain text that is not allowed by our safety system.' error_param=None error_type=invalid_request_error message='OpenAI API error received' stream_error=False\n"
     ]
    },
    {
     "name": "stdout",
     "output_type": "stream",
     "text": [
      "2023-11-02 11:33:30 [info     ] received openai.Image...\n",
      "2023-11-02 11:33:30 [info     ] requesting openai...\n"
     ]
    },
    {
     "name": "stderr",
     "output_type": "stream",
     "text": [
      "INFO:undetected_chromedriver.patcher:patching driver executable /Users/jong/Library/Application Support/undetected_chromedriver/undetected_chromedriver\n"
     ]
    },
    {
     "name": "stdout",
     "output_type": "stream",
     "text": [
      "2023-11-02 11:33:32 [info     ] requesting openai...\n",
      "2023-11-02 11:33:33 [info     ] received openai...\n",
      "2023-11-02 11:33:33 [info     ] after Message: Service /Users/jong/Library/Application Support/undetected_chromedriver/undetected_chromedriver unexpectedly exited. Status code was: -9\n",
      " going to requesting openai.Image Highly-detailed needlepoint of An image of a blog post titled 'COVID-19 Data Collection - Garbage In, Garbage Out', filled with text and charts related to the data analysis, with highlighted sections indicating issues of data quality. 8k 3D / 16k 3D...\n"
     ]
    },
    {
     "name": "stderr",
     "output_type": "stream",
     "text": [
      "INFO:openai:error_code=content_policy_violation error_message='Your request was rejected as a result of our safety system. Your prompt may contain text that is not allowed by our safety system.' error_param=None error_type=invalid_request_error message='OpenAI API error received' stream_error=False\n",
      "INFO:undetected_chromedriver.patcher:patching driver executable /Users/jong/Library/Application Support/undetected_chromedriver/undetected_chromedriver\n"
     ]
    },
    {
     "name": "stdout",
     "output_type": "stream",
     "text": [
      "2023-11-02 11:33:35 [info     ] after Message: Service /Users/jong/Library/Application Support/undetected_chromedriver/undetected_chromedriver unexpectedly exited. Status code was: -9\n",
      " going to requesting openai.Image Lego art of A woman at a desk, surrounded by papers and a computer with data graphs on the screen, examining a document with a serious expression. 8k 3D / 16k 3D...\n",
      "2023-11-02 11:33:40 [info     ] received openai...\n"
     ]
    },
    {
     "name": "stderr",
     "output_type": "stream",
     "text": [
      "INFO:undetected_chromedriver.patcher:patching driver executable /Users/jong/Library/Application Support/undetected_chromedriver/undetected_chromedriver\n"
     ]
    },
    {
     "name": "stdout",
     "output_type": "stream",
     "text": [
      "2023-11-02 11:33:42 [info     ] after [Errno 2] No such file or directory: '/Users/jong/Library/Application Support/undetected_chromedriver/undetected/chromedriver-mac-x64/chromedriver' -> '/Users/jong/Library/Application Support/undetected_chromedriver/undetected_chromedriver' going to requesting openai.Image Award winning 4k DSLR photo of A computer screen displaying various tabs open with the websites of Johns Hopkins University's COVID-19 data, NYC Health's coronavirus updates, and the New York Times' ongoing repository. 8k 3D / 16k 3D...\n",
      "2023-11-02 11:33:42 [info     ] received openai.Image...\n"
     ]
    },
    {
     "name": "stderr",
     "output_type": "stream",
     "text": [
      "INFO:openai:error_code=content_policy_violation error_message='Your request was rejected as a result of our safety system. Your prompt may contain text that is not allowed by our safety system.' error_param=None error_type=invalid_request_error message='OpenAI API error received' stream_error=False\n"
     ]
    },
    {
     "name": "stdout",
     "output_type": "stream",
     "text": [
      "2023-11-02 11:33:42 [info     ] after Message: Service /Users/jong/Library/Application Support/undetected_chromedriver/undetected_chromedriver unexpectedly exited. Status code was: -9\n",
      " going to requesting openai.Image Realism painting of An open blog page displaying two highlighted posts about COVID-19 stats in New York City. Ultra HD...\n"
     ]
    },
    {
     "name": "stderr",
     "output_type": "stream",
     "text": [
      "INFO:openai:error_code=content_policy_violation error_message='Your request was rejected as a result of our safety system. Your prompt may contain text that is not allowed by our safety system.' error_param=None error_type=invalid_request_error message='OpenAI API error received' stream_error=False\n"
     ]
    },
    {
     "name": "stdout",
     "output_type": "stream",
     "text": [
      "2023-11-02 11:33:43 [info     ] after [Errno 2] No such file or directory: '/Users/jong/Library/Application Support/undetected_chromedriver/undetected/chromedriver-mac-x64/chromedriver' -> '/Users/jong/Library/Application Support/undetected_chromedriver/undetected_chromedriver' going to requesting openai.Image 35mm Macro photography of A confident woman pointing towards a screen displaying various data repositories icons. 3840x2160...\n",
      "2023-11-02 11:33:47 [info     ] requesting openai...\n"
     ]
    },
    {
     "name": "stderr",
     "output_type": "stream",
     "text": [
      "INFO:undetected_chromedriver.patcher:patching driver executable /Users/jong/Library/Application Support/undetected_chromedriver/undetected_chromedriver\n"
     ]
    },
    {
     "name": "stdout",
     "output_type": "stream",
     "text": [
      "2023-11-02 11:33:51 [info     ] received openai.Image...\n",
      "2023-11-02 11:33:55 [info     ] received openai...\n",
      "2023-11-02 11:33:58 [info     ] Stained glass of Two people sitting in a well-lit studio, wearing professional attire and microphones, having a serious discussion in front of a backdrop displaying COVID-19 infographics and stats. Ultra HD\n"
     ]
    },
    {
     "name": "stderr",
     "output_type": "stream",
     "text": [
      "INFO:undetected_chromedriver.patcher:patching driver executable /Users/jong/Library/Application Support/undetected_chromedriver/undetected_chromedriver\n",
      "INFO:root:[02/11/2023 11:34:06] Bing Image Creator (Dalle-3) Opened\n"
     ]
    },
    {
     "name": "stdout",
     "output_type": "stream",
     "text": [
      "2023-11-02 11:34:07 [info     ] Yarn art of A collage of the logos for Johns Hopkins University, NYC Health, and the New York Times, overlaid on a background image of a world map covered in data points representing COVID-19 cases. 8k 3D / 16k 3D\n"
     ]
    },
    {
     "name": "stderr",
     "output_type": "stream",
     "text": [
      "INFO:root:[02/11/2023 11:34:08] Cookie values added \n",
      "INFO:root:[02/11/2023 11:34:14] Bing Image Creator (Dalle-3) Opened\n",
      "INFO:root:[02/11/2023 11:34:16] Cookie values added \n"
     ]
    },
    {
     "name": "stdout",
     "output_type": "stream",
     "text": [
      "2023-11-02 11:34:29 [info     ] Dalle3: urls=['https://th.bing.com/th/id/OIG.o6q8XrS36DfGS4A7CC9H', 'https://th.bing.com/th/id/OIG..RkAF4cUltam08sxVQ7t', 'https://th.bing.com/th/id/OIG.gUjtVu2i1wZna3zBgbyz', 'https://th.bing.com/th/id/OIG.QU6QAad2nM6awmKjFsDM'], choosing just first one\n",
      "2023-11-02 11:34:29 [info     ] received openai.Image...\n"
     ]
    },
    {
     "name": "stderr",
     "output_type": "stream",
     "text": [
      "INFO:undetected_chromedriver.patcher:patching driver executable /Users/jong/Library/Application Support/undetected_chromedriver/undetected_chromedriver\n"
     ]
    },
    {
     "name": "stdout",
     "output_type": "stream",
     "text": [
      "2023-11-02 11:34:35 [info     ] Dalle3: urls=['https://th.bing.com/th/id/OIG.SpWdMVEa6lfGKqV4IE_8', 'https://th.bing.com/th/id/OIG.FwkHfEt8IvJx1jfra2_o', 'https://th.bing.com/th/id/OIG.PKYYJul5t53rVCBtWpDx', 'https://th.bing.com/th/id/OIG.TzXALrdknsQ89wnKRvd8'], choosing just first one\n",
      "2023-11-02 11:34:36 [info     ] received openai.Image...\n",
      "2023-11-02 11:34:40 [info     ] Stained glass of Two people sitting in a well-lit studio, wearing professional attire and microphones, having a serious discussion in front of a backdrop displaying COVID-19 infographics and stats. Ultra HD\n"
     ]
    },
    {
     "name": "stderr",
     "output_type": "stream",
     "text": [
      "INFO:undetected_chromedriver.patcher:patching driver executable /Users/jong/Library/Application Support/undetected_chromedriver/undetected_chromedriver\n",
      "INFO:root:[02/11/2023 11:34:47] Bing Image Creator (Dalle-3) Opened\n"
     ]
    },
    {
     "name": "stdout",
     "output_type": "stream",
     "text": [
      "2023-11-02 11:34:48 [info     ] Yarn art of A collage of the logos for Johns Hopkins University, NYC Health, and the New York Times, overlaid on a background image of a world map covered in data points representing COVID-19 cases. 8k 3D / 16k 3D\n"
     ]
    },
    {
     "name": "stderr",
     "output_type": "stream",
     "text": [
      "INFO:root:[02/11/2023 11:34:50] Cookie values added \n",
      "INFO:root:[02/11/2023 11:34:54] Bing Image Creator (Dalle-3) Opened\n",
      "INFO:root:[02/11/2023 11:34:56] Cookie values added \n"
     ]
    },
    {
     "name": "stdout",
     "output_type": "stream",
     "text": [
      "2023-11-02 11:35:12 [info     ] Dalle3: urls=['https://th.bing.com/th/id/OIG.cL55H_Jr9oruHBUgYi.F', 'https://th.bing.com/th/id/OIG.GKXbaB5s_NqY8ntZZ7f8', 'https://th.bing.com/th/id/OIG.1g.d.6zW2cxoZA8NeQxs', 'https://th.bing.com/th/id/OIG.Rz.hJwUQ.B6HezRThyls'], choosing just first one\n",
      "2023-11-02 11:35:12 [info     ] received openai.Image...\n"
     ]
    },
    {
     "name": "stderr",
     "output_type": "stream",
     "text": [
      "INFO:undetected_chromedriver.patcher:patching driver executable /Users/jong/Library/Application Support/undetected_chromedriver/undetected_chromedriver\n"
     ]
    },
    {
     "name": "stdout",
     "output_type": "stream",
     "text": [
      "2023-11-02 11:35:16 [info     ] Dalle3: urls=['https://th.bing.com/th/id/OIG.ne4klC3LSuJ.u1.tqqRI', 'https://th.bing.com/th/id/OIG.8qKu8wj0jX3dnrC5N4Yy', 'https://th.bing.com/th/id/OIG.ZP1ybVv7g059AvfRwjuD', 'https://th.bing.com/th/id/OIG.lhef.WZr4rqrOp12LJJU'], choosing just first one\n",
      "2023-11-02 11:35:17 [info     ] received openai.Image...\n",
      "2023-11-02 11:35:21 [info     ] Stained glass of Two people sitting in a well-lit studio, wearing professional attire and microphones, having a serious discussion in front of a backdrop displaying COVID-19 infographics and stats. Ultra HD\n"
     ]
    },
    {
     "name": "stderr",
     "output_type": "stream",
     "text": [
      "INFO:undetected_chromedriver.patcher:patching driver executable /Users/jong/Library/Application Support/undetected_chromedriver/undetected_chromedriver\n",
      "INFO:root:[02/11/2023 11:35:25] Bing Image Creator (Dalle-3) Opened\n"
     ]
    },
    {
     "name": "stdout",
     "output_type": "stream",
     "text": [
      "2023-11-02 11:35:26 [info     ] Yarn art of A collage of the logos for Johns Hopkins University, NYC Health, and the New York Times, overlaid on a background image of a world map covered in data points representing COVID-19 cases. 8k 3D / 16k 3D\n"
     ]
    },
    {
     "name": "stderr",
     "output_type": "stream",
     "text": [
      "INFO:root:[02/11/2023 11:35:27] Cookie values added \n",
      "INFO:root:[02/11/2023 11:35:31] Bing Image Creator (Dalle-3) Opened\n",
      "INFO:root:[02/11/2023 11:35:32] Cookie values added \n"
     ]
    },
    {
     "name": "stdout",
     "output_type": "stream",
     "text": [
      "2023-11-02 11:35:50 [info     ] Dalle3: urls=['https://th.bing.com/th/id/OIG.cx9h3VWsaz8IyhOoi7GD', 'https://th.bing.com/th/id/OIG.lUr_Tx0qP6oWsiDCPT.g', 'https://th.bing.com/th/id/OIG.5sTabq6HPhQiYq2wlWxq', 'https://th.bing.com/th/id/OIG._fsh4LmjVyJnJgGU4vcN'], choosing just first one\n",
      "2023-11-02 11:35:50 [info     ] received openai.Image...\n",
      "2023-11-02 11:35:51 [info     ] Dalle3: urls=['https://th.bing.com/th/id/OIG.aZMWOWeCq8yGDqAIHCg_', 'https://th.bing.com/th/id/OIG.CoA3mQR5QR2.yCLGCNMP', 'https://th.bing.com/th/id/OIG.t4ESRpDcQqeI9NCP_hsh', 'https://th.bing.com/th/id/OIG.taY3jeZAiyQjvY1.kobN'], choosing just first one\n",
      "2023-11-02 11:35:51 [info     ] received openai.Image...\n"
     ]
    },
    {
     "name": "stderr",
     "output_type": "stream",
     "text": [
      "INFO:undetected_chromedriver.patcher:patching driver executable /Users/jong/Library/Application Support/undetected_chromedriver/undetected_chromedriver\n"
     ]
    },
    {
     "name": "stdout",
     "output_type": "stream",
     "text": [
      "2023-11-02 11:35:59 [info     ] after [Errno 2] No such file or directory: '/Users/jong/Library/Application Support/undetected_chromedriver/undetected/chromedriver-mac-x64/chromedriver' -> '/Users/jong/Library/Application Support/undetected_chromedriver/undetected_chromedriver' going to requesting openai.Image Yarn art of A collage of the logos for Johns Hopkins University, NYC Health, and the New York Times, overlaid on a background image of a world map covered in data points representing COVID-19 cases. 8k 3D / 16k 3D...\n"
     ]
    },
    {
     "name": "stderr",
     "output_type": "stream",
     "text": [
      "INFO:openai:error_code=content_policy_violation error_message='Your request was rejected as a result of our safety system. Your prompt may contain text that is not allowed by our safety system.' error_param=None error_type=invalid_request_error message='OpenAI API error received' stream_error=False\n",
      "INFO:undetected_chromedriver.patcher:patching driver executable /Users/jong/Library/Application Support/undetected_chromedriver/undetected_chromedriver\n"
     ]
    },
    {
     "name": "stdout",
     "output_type": "stream",
     "text": [
      "2023-11-02 11:36:04 [info     ] Stained glass of Two people sitting in a well-lit studio, wearing professional attire and microphones, having a serious discussion in front of a backdrop displaying COVID-19 infographics and stats. Ultra HD\n"
     ]
    },
    {
     "name": "stderr",
     "output_type": "stream",
     "text": [
      "INFO:root:[02/11/2023 11:36:09] Bing Image Creator (Dalle-3) Opened\n"
     ]
    },
    {
     "name": "stdout",
     "output_type": "stream",
     "text": [
      "2023-11-02 11:36:09 [info     ] Yarn art of A collage of the logos for Johns Hopkins University, NYC Health, and the New York Times, overlaid on a background image of a world map covered in data points representing COVID-19 cases. 8k 3D / 16k 3D\n"
     ]
    },
    {
     "name": "stderr",
     "output_type": "stream",
     "text": [
      "INFO:root:[02/11/2023 11:36:12] Cookie values added \n",
      "INFO:root:[02/11/2023 11:36:17] Bing Image Creator (Dalle-3) Opened\n",
      "INFO:root:[02/11/2023 11:36:20] Cookie values added \n"
     ]
    },
    {
     "name": "stdout",
     "output_type": "stream",
     "text": [
      "2023-11-02 11:36:28 [info     ] Dalle3: urls=['https://th.bing.com/th/id/OIG.awKzQiSefbYhzhrHuOkV', 'https://th.bing.com/th/id/OIG.YVyoEdgH6LgxoGm_FmDm', 'https://th.bing.com/th/id/OIG.V8AYi9LIecpNwZTTIjeg', 'https://th.bing.com/th/id/OIG.zsoLVRqut4gAjBYcvuN9'], choosing just first one\n",
      "2023-11-02 11:36:29 [info     ] received openai.Image...\n"
     ]
    },
    {
     "name": "stderr",
     "output_type": "stream",
     "text": [
      "INFO:undetected_chromedriver.patcher:patching driver executable /Users/jong/Library/Application Support/undetected_chromedriver/undetected_chromedriver\n"
     ]
    },
    {
     "name": "stdout",
     "output_type": "stream",
     "text": [
      "2023-11-02 11:36:40 [info     ] Stained glass of Two people sitting in a well-lit studio, wearing professional attire and microphones, having a serious discussion in front of a backdrop displaying COVID-19 infographics and stats. Ultra HD\n",
      "2023-11-02 11:36:43 [info     ] Dalle3: urls=['https://th.bing.com/th/id/OIG.n45qrs7m_t_fNv7asABb', 'https://th.bing.com/th/id/OIG.ZFKeBh79qvHcSGdSXlIB', 'https://th.bing.com/th/id/OIG.FsSd_fwVX92vKPJI4iwj', 'https://th.bing.com/th/id/OIG.Hyigb3fOJJHedySDDDXs'], choosing just first one\n"
     ]
    },
    {
     "name": "stderr",
     "output_type": "stream",
     "text": [
      "INFO:root:[02/11/2023 11:36:44] Bing Image Creator (Dalle-3) Opened\n"
     ]
    },
    {
     "name": "stdout",
     "output_type": "stream",
     "text": [
      "2023-11-02 11:36:44 [info     ] received openai.Image...\n"
     ]
    },
    {
     "name": "stderr",
     "output_type": "stream",
     "text": [
      "INFO:root:[02/11/2023 11:36:46] Cookie values added \n"
     ]
    },
    {
     "name": "stdout",
     "output_type": "stream",
     "text": [
      "2023-11-02 11:38:16 [info     ] after Function timed out after 90.0 seconds going to requesting openai.Image Stained glass of Two people sitting in a well-lit studio, wearing professional attire and microphones, having a serious discussion in front of a backdrop displaying COVID-19 infographics and stats. Ultra HD...\n"
     ]
    },
    {
     "name": "stderr",
     "output_type": "stream",
     "text": [
      "INFO:openai:error_code=content_policy_violation error_message='Your request was rejected as a result of our safety system. Your prompt may contain text that is not allowed by our safety system.' error_param=None error_type=invalid_request_error message='OpenAI API error received' stream_error=False\n"
     ]
    },
    {
     "ename": "InvalidRequestError",
     "evalue": "Your request was rejected as a result of our safety system. Your prompt may contain text that is not allowed by our safety system.",
     "output_type": "error",
     "traceback": [
      "\u001b[0;31m---------------------------------------------------------------------------\u001b[0m",
      "\u001b[0;31mFileNotFoundError\u001b[0m                         Traceback (most recent call last)",
      "Cell \u001b[0;32mIn[19], line 12\u001b[0m, in \u001b[0;36mAIImage.create\u001b[0;34m(cls, prompt, n, size)\u001b[0m\n\u001b[1;32m     11\u001b[0m \u001b[38;5;28;01mtry\u001b[39;00m:\n\u001b[0;32m---> 12\u001b[0m     img \u001b[38;5;241m=\u001b[39m \u001b[43mDalle3\u001b[49m\u001b[43m(\u001b[49m\u001b[43m)\u001b[49m\u001b[38;5;241m.\u001b[39mget_img(prompt)\n\u001b[1;32m     13\u001b[0m     resp \u001b[38;5;241m=\u001b[39m base64\u001b[38;5;241m.\u001b[39mencodebytes(img\u001b[38;5;241m.\u001b[39mtobytes())\n",
      "Cell \u001b[0;32mIn[4], line 44\u001b[0m, in \u001b[0;36mDalle3.__init__\u001b[0;34m(self, cookie)\u001b[0m\n\u001b[1;32m     43\u001b[0m \u001b[38;5;28mself\u001b[39m\u001b[38;5;241m.\u001b[39mcookie \u001b[38;5;241m=\u001b[39m cookie\n\u001b[0;32m---> 44\u001b[0m \u001b[38;5;28mself\u001b[39m\u001b[38;5;241m.\u001b[39mdalle \u001b[38;5;241m=\u001b[39m \u001b[43mDalle\u001b[49m\u001b[43m(\u001b[49m\u001b[43mcookie\u001b[49m\u001b[43m)\u001b[49m\n",
      "File \u001b[0;32m~/.pyenv/versions/3.11.4/lib/python3.11/site-packages/dalle3/dalle.py:69\u001b[0m, in \u001b[0;36mDalle.__init__\u001b[0;34m(self, cookie_value)\u001b[0m\n\u001b[1;32m     68\u001b[0m \u001b[38;5;28mself\u001b[39m\u001b[38;5;241m.\u001b[39moptions\u001b[38;5;241m.\u001b[39madd_argument(\u001b[38;5;124m\"\u001b[39m\u001b[38;5;124m--headless\u001b[39m\u001b[38;5;124m\"\u001b[39m)\n\u001b[0;32m---> 69\u001b[0m \u001b[38;5;28mself\u001b[39m\u001b[38;5;241m.\u001b[39mdriver \u001b[38;5;241m=\u001b[39m \u001b[43mChrome\u001b[49m\u001b[43m(\u001b[49m\u001b[43moptions\u001b[49m\u001b[38;5;241;43m=\u001b[39;49m\u001b[38;5;28;43mself\u001b[39;49m\u001b[38;5;241;43m.\u001b[39;49m\u001b[43moptions\u001b[49m\u001b[43m)\u001b[49m\n\u001b[1;32m     70\u001b[0m \u001b[38;5;28mself\u001b[39m\u001b[38;5;241m.\u001b[39mcookie_value \u001b[38;5;241m=\u001b[39m cookie_value\n",
      "File \u001b[0;32m~/.pyenv/versions/3.11.4/lib/python3.11/site-packages/undetected_chromedriver/__init__.py:258\u001b[0m, in \u001b[0;36mChrome.__init__\u001b[0;34m(self, options, user_data_dir, driver_executable_path, browser_executable_path, port, enable_cdp_events, desired_capabilities, advanced_elements, keep_alive, log_level, headless, version_main, patcher_force_close, suppress_welcome, use_subprocess, debug, no_sandbox, user_multi_procs, **kw)\u001b[0m\n\u001b[1;32m    257\u001b[0m \u001b[38;5;66;03m# self.patcher.auto(user_multiprocess = user_multi_num_procs)\u001b[39;00m\n\u001b[0;32m--> 258\u001b[0m \u001b[38;5;28;43mself\u001b[39;49m\u001b[38;5;241;43m.\u001b[39;49m\u001b[43mpatcher\u001b[49m\u001b[38;5;241;43m.\u001b[39;49m\u001b[43mauto\u001b[49m\u001b[43m(\u001b[49m\u001b[43m)\u001b[49m\n\u001b[1;32m    260\u001b[0m \u001b[38;5;66;03m# self.patcher = patcher\u001b[39;00m\n",
      "File \u001b[0;32m~/.pyenv/versions/3.11.4/lib/python3.11/site-packages/undetected_chromedriver/patcher.py:178\u001b[0m, in \u001b[0;36mPatcher.auto\u001b[0;34m(self, executable_path, force, version_main, _)\u001b[0m\n\u001b[1;32m    177\u001b[0m \u001b[38;5;28mself\u001b[39m\u001b[38;5;241m.\u001b[39mversion_full \u001b[38;5;241m=\u001b[39m release\n\u001b[0;32m--> 178\u001b[0m \u001b[38;5;28;43mself\u001b[39;49m\u001b[38;5;241;43m.\u001b[39;49m\u001b[43munzip_package\u001b[49m\u001b[43m(\u001b[49m\u001b[38;5;28;43mself\u001b[39;49m\u001b[38;5;241;43m.\u001b[39;49m\u001b[43mfetch_package\u001b[49m\u001b[43m(\u001b[49m\u001b[43m)\u001b[49m\u001b[43m)\u001b[49m\n\u001b[1;32m    179\u001b[0m \u001b[38;5;28;01mreturn\u001b[39;00m \u001b[38;5;28mself\u001b[39m\u001b[38;5;241m.\u001b[39mpatch()\n",
      "File \u001b[0;32m~/.pyenv/versions/3.11.4/lib/python3.11/site-packages/undetected_chromedriver/patcher.py:310\u001b[0m, in \u001b[0;36mPatcher.unzip_package\u001b[0;34m(self, fp)\u001b[0m\n\u001b[1;32m    309\u001b[0m     zf\u001b[38;5;241m.\u001b[39mextractall(\u001b[38;5;28mself\u001b[39m\u001b[38;5;241m.\u001b[39mzip_path)\n\u001b[0;32m--> 310\u001b[0m os\u001b[38;5;241m.\u001b[39mrename(os\u001b[38;5;241m.\u001b[39mpath\u001b[38;5;241m.\u001b[39mjoin(\u001b[38;5;28mself\u001b[39m\u001b[38;5;241m.\u001b[39mzip_path, exe_path), \u001b[38;5;28mself\u001b[39m\u001b[38;5;241m.\u001b[39mexecutable_path)\n\u001b[1;32m    311\u001b[0m os\u001b[38;5;241m.\u001b[39mremove(fp)\n",
      "\u001b[0;31mFileNotFoundError\u001b[0m: [Errno 2] No such file or directory: '/Users/jong/Library/Application Support/undetected_chromedriver/undetected/chromedriver-mac-x64/chromedriver' -> '/Users/jong/Library/Application Support/undetected_chromedriver/undetected_chromedriver'",
      "\nDuring handling of the above exception, another exception occurred:\n",
      "\u001b[0;31mInvalidRequestError\u001b[0m                       Traceback (most recent call last)",
      "Cell \u001b[0;32mIn[29], line 5\u001b[0m\n\u001b[1;32m      3\u001b[0m MAX_WORKERS \u001b[38;5;241m=\u001b[39m \u001b[38;5;241m8\u001b[39m\n\u001b[1;32m      4\u001b[0m runner \u001b[38;5;241m=\u001b[39m Runner(paper_path, outpath)\n\u001b[0;32m----> 5\u001b[0m \u001b[43mrunner\u001b[49m\u001b[38;5;241;43m.\u001b[39;49m\u001b[43mrun\u001b[49m\u001b[43m(\u001b[49m\u001b[43m)\u001b[49m\n",
      "Cell \u001b[0;32mIn[28], line 22\u001b[0m, in \u001b[0;36mRunner.run\u001b[0;34m(self)\u001b[0m\n\u001b[1;32m     20\u001b[0m \u001b[38;5;28;01mfor\u001b[39;00m i, r \u001b[38;5;129;01min\u001b[39;00m \u001b[38;5;28menumerate\u001b[39m(concurrent\u001b[38;5;241m.\u001b[39mfutures\u001b[38;5;241m.\u001b[39mas_completed(runs)):\n\u001b[1;32m     21\u001b[0m     ridx \u001b[38;5;241m=\u001b[39m runs\u001b[38;5;241m.\u001b[39mindex(r)\n\u001b[0;32m---> 22\u001b[0m     imgs, auds \u001b[38;5;241m=\u001b[39m \u001b[43mr\u001b[49m\u001b[38;5;241;43m.\u001b[39;49m\u001b[43mresult\u001b[49m\u001b[43m(\u001b[49m\u001b[43m)\u001b[49m\n\u001b[1;32m     23\u001b[0m     images[ridx], audios[ridx] \u001b[38;5;241m=\u001b[39m imgs, auds\n\u001b[1;32m     24\u001b[0m     logger\u001b[38;5;241m.\u001b[39minfo(\u001b[38;5;124mf\u001b[39m\u001b[38;5;124m'\u001b[39m\u001b[38;5;124mGot images and audio for \u001b[39m\u001b[38;5;132;01m{\u001b[39;00mi\u001b[38;5;132;01m}\u001b[39;00m\u001b[38;5;124m / \u001b[39m\u001b[38;5;132;01m{\u001b[39;00m\u001b[38;5;28mlen\u001b[39m(runs)\u001b[38;5;132;01m}\u001b[39;00m\u001b[38;5;124m'\u001b[39m)\n",
      "File \u001b[0;32m~/.pyenv/versions/3.11.4/lib/python3.11/concurrent/futures/_base.py:449\u001b[0m, in \u001b[0;36mFuture.result\u001b[0;34m(self, timeout)\u001b[0m\n\u001b[1;32m    447\u001b[0m     \u001b[38;5;28;01mraise\u001b[39;00m CancelledError()\n\u001b[1;32m    448\u001b[0m \u001b[38;5;28;01melif\u001b[39;00m \u001b[38;5;28mself\u001b[39m\u001b[38;5;241m.\u001b[39m_state \u001b[38;5;241m==\u001b[39m FINISHED:\n\u001b[0;32m--> 449\u001b[0m     \u001b[38;5;28;01mreturn\u001b[39;00m \u001b[38;5;28;43mself\u001b[39;49m\u001b[38;5;241;43m.\u001b[39;49m\u001b[43m__get_result\u001b[49m\u001b[43m(\u001b[49m\u001b[43m)\u001b[49m\n\u001b[1;32m    451\u001b[0m \u001b[38;5;28mself\u001b[39m\u001b[38;5;241m.\u001b[39m_condition\u001b[38;5;241m.\u001b[39mwait(timeout)\n\u001b[1;32m    453\u001b[0m \u001b[38;5;28;01mif\u001b[39;00m \u001b[38;5;28mself\u001b[39m\u001b[38;5;241m.\u001b[39m_state \u001b[38;5;129;01min\u001b[39;00m [CANCELLED, CANCELLED_AND_NOTIFIED]:\n",
      "File \u001b[0;32m~/.pyenv/versions/3.11.4/lib/python3.11/concurrent/futures/_base.py:401\u001b[0m, in \u001b[0;36mFuture.__get_result\u001b[0;34m(self)\u001b[0m\n\u001b[1;32m    399\u001b[0m \u001b[38;5;28;01mif\u001b[39;00m \u001b[38;5;28mself\u001b[39m\u001b[38;5;241m.\u001b[39m_exception:\n\u001b[1;32m    400\u001b[0m     \u001b[38;5;28;01mtry\u001b[39;00m:\n\u001b[0;32m--> 401\u001b[0m         \u001b[38;5;28;01mraise\u001b[39;00m \u001b[38;5;28mself\u001b[39m\u001b[38;5;241m.\u001b[39m_exception\n\u001b[1;32m    402\u001b[0m     \u001b[38;5;28;01mfinally\u001b[39;00m:\n\u001b[1;32m    403\u001b[0m         \u001b[38;5;66;03m# Break a reference cycle with the exception in self._exception\u001b[39;00m\n\u001b[1;32m    404\u001b[0m         \u001b[38;5;28mself\u001b[39m \u001b[38;5;241m=\u001b[39m \u001b[38;5;28;01mNone\u001b[39;00m\n",
      "File \u001b[0;32m~/.pyenv/versions/3.11.4/lib/python3.11/concurrent/futures/thread.py:58\u001b[0m, in \u001b[0;36m_WorkItem.run\u001b[0;34m(self)\u001b[0m\n\u001b[1;32m     55\u001b[0m     \u001b[38;5;28;01mreturn\u001b[39;00m\n\u001b[1;32m     57\u001b[0m \u001b[38;5;28;01mtry\u001b[39;00m:\n\u001b[0;32m---> 58\u001b[0m     result \u001b[38;5;241m=\u001b[39m \u001b[38;5;28;43mself\u001b[39;49m\u001b[38;5;241;43m.\u001b[39;49m\u001b[43mfn\u001b[49m\u001b[43m(\u001b[49m\u001b[38;5;241;43m*\u001b[39;49m\u001b[38;5;28;43mself\u001b[39;49m\u001b[38;5;241;43m.\u001b[39;49m\u001b[43margs\u001b[49m\u001b[43m,\u001b[49m\u001b[43m \u001b[49m\u001b[38;5;241;43m*\u001b[39;49m\u001b[38;5;241;43m*\u001b[39;49m\u001b[38;5;28;43mself\u001b[39;49m\u001b[38;5;241;43m.\u001b[39;49m\u001b[43mkwargs\u001b[49m\u001b[43m)\u001b[49m\n\u001b[1;32m     59\u001b[0m \u001b[38;5;28;01mexcept\u001b[39;00m \u001b[38;5;167;01mBaseException\u001b[39;00m \u001b[38;5;28;01mas\u001b[39;00m exc:\n\u001b[1;32m     60\u001b[0m     \u001b[38;5;28mself\u001b[39m\u001b[38;5;241m.\u001b[39mfuture\u001b[38;5;241m.\u001b[39mset_exception(exc)\n",
      "Cell \u001b[0;32mIn[28], line 13\u001b[0m, in \u001b[0;36mRunner.run.<locals>.process_one_part\u001b[0;34m(script)\u001b[0m\n\u001b[1;32m     12\u001b[0m \u001b[38;5;28;01mdef\u001b[39;00m \u001b[38;5;21mprocess_one_part\u001b[39m(script):\n\u001b[0;32m---> 13\u001b[0m     images \u001b[38;5;241m=\u001b[39m \u001b[43mget_images_from_text\u001b[49m\u001b[43m(\u001b[49m\u001b[43mscript\u001b[49m\u001b[43m)\u001b[49m\n\u001b[1;32m     14\u001b[0m     audios \u001b[38;5;241m=\u001b[39m script2speech([x[\u001b[38;5;241m0\u001b[39m] \u001b[38;5;28;01mfor\u001b[39;00m x \u001b[38;5;129;01min\u001b[39;00m images], SPEAKER_NAMES, SPEAKER_VOICES)\n\u001b[1;32m     15\u001b[0m     \u001b[38;5;28;01mreturn\u001b[39;00m images, audios\n",
      "Cell \u001b[0;32mIn[20], line 33\u001b[0m, in \u001b[0;36mget_images_from_text\u001b[0;34m(text)\u001b[0m\n\u001b[1;32m     31\u001b[0m     \u001b[38;5;28;01mfor\u001b[39;00m r \u001b[38;5;129;01min\u001b[39;00m concurrent\u001b[38;5;241m.\u001b[39mfutures\u001b[38;5;241m.\u001b[39mas_completed(runs):\n\u001b[1;32m     32\u001b[0m         ridx \u001b[38;5;241m=\u001b[39m runs\u001b[38;5;241m.\u001b[39mindex(r)\n\u001b[0;32m---> 33\u001b[0m         images[ridx] \u001b[38;5;241m=\u001b[39m \u001b[43mr\u001b[49m\u001b[38;5;241;43m.\u001b[39;49m\u001b[43mresult\u001b[49m\u001b[43m(\u001b[49m\u001b[43m)\u001b[49m\n\u001b[1;32m     34\u001b[0m \u001b[38;5;28;01mreturn\u001b[39;00m images\n",
      "File \u001b[0;32m~/.pyenv/versions/3.11.4/lib/python3.11/concurrent/futures/_base.py:449\u001b[0m, in \u001b[0;36mFuture.result\u001b[0;34m(self, timeout)\u001b[0m\n\u001b[1;32m    447\u001b[0m     \u001b[38;5;28;01mraise\u001b[39;00m CancelledError()\n\u001b[1;32m    448\u001b[0m \u001b[38;5;28;01melif\u001b[39;00m \u001b[38;5;28mself\u001b[39m\u001b[38;5;241m.\u001b[39m_state \u001b[38;5;241m==\u001b[39m FINISHED:\n\u001b[0;32m--> 449\u001b[0m     \u001b[38;5;28;01mreturn\u001b[39;00m \u001b[38;5;28;43mself\u001b[39;49m\u001b[38;5;241;43m.\u001b[39;49m\u001b[43m__get_result\u001b[49m\u001b[43m(\u001b[49m\u001b[43m)\u001b[49m\n\u001b[1;32m    451\u001b[0m \u001b[38;5;28mself\u001b[39m\u001b[38;5;241m.\u001b[39m_condition\u001b[38;5;241m.\u001b[39mwait(timeout)\n\u001b[1;32m    453\u001b[0m \u001b[38;5;28;01mif\u001b[39;00m \u001b[38;5;28mself\u001b[39m\u001b[38;5;241m.\u001b[39m_state \u001b[38;5;129;01min\u001b[39;00m [CANCELLED, CANCELLED_AND_NOTIFIED]:\n",
      "File \u001b[0;32m~/.pyenv/versions/3.11.4/lib/python3.11/concurrent/futures/_base.py:401\u001b[0m, in \u001b[0;36mFuture.__get_result\u001b[0;34m(self)\u001b[0m\n\u001b[1;32m    399\u001b[0m \u001b[38;5;28;01mif\u001b[39;00m \u001b[38;5;28mself\u001b[39m\u001b[38;5;241m.\u001b[39m_exception:\n\u001b[1;32m    400\u001b[0m     \u001b[38;5;28;01mtry\u001b[39;00m:\n\u001b[0;32m--> 401\u001b[0m         \u001b[38;5;28;01mraise\u001b[39;00m \u001b[38;5;28mself\u001b[39m\u001b[38;5;241m.\u001b[39m_exception\n\u001b[1;32m    402\u001b[0m     \u001b[38;5;28;01mfinally\u001b[39;00m:\n\u001b[1;32m    403\u001b[0m         \u001b[38;5;66;03m# Break a reference cycle with the exception in self._exception\u001b[39;00m\n\u001b[1;32m    404\u001b[0m         \u001b[38;5;28mself\u001b[39m \u001b[38;5;241m=\u001b[39m \u001b[38;5;28;01mNone\u001b[39;00m\n",
      "File \u001b[0;32m~/.pyenv/versions/3.11.4/lib/python3.11/concurrent/futures/thread.py:58\u001b[0m, in \u001b[0;36m_WorkItem.run\u001b[0;34m(self)\u001b[0m\n\u001b[1;32m     55\u001b[0m     \u001b[38;5;28;01mreturn\u001b[39;00m\n\u001b[1;32m     57\u001b[0m \u001b[38;5;28;01mtry\u001b[39;00m:\n\u001b[0;32m---> 58\u001b[0m     result \u001b[38;5;241m=\u001b[39m \u001b[38;5;28;43mself\u001b[39;49m\u001b[38;5;241;43m.\u001b[39;49m\u001b[43mfn\u001b[49m\u001b[43m(\u001b[49m\u001b[38;5;241;43m*\u001b[39;49m\u001b[38;5;28;43mself\u001b[39;49m\u001b[38;5;241;43m.\u001b[39;49m\u001b[43margs\u001b[49m\u001b[43m,\u001b[49m\u001b[43m \u001b[49m\u001b[38;5;241;43m*\u001b[39;49m\u001b[38;5;241;43m*\u001b[39;49m\u001b[38;5;28;43mself\u001b[39;49m\u001b[38;5;241;43m.\u001b[39;49m\u001b[43mkwargs\u001b[49m\u001b[43m)\u001b[49m\n\u001b[1;32m     59\u001b[0m \u001b[38;5;28;01mexcept\u001b[39;00m \u001b[38;5;167;01mBaseException\u001b[39;00m \u001b[38;5;28;01mas\u001b[39;00m exc:\n\u001b[1;32m     60\u001b[0m     \u001b[38;5;28mself\u001b[39m\u001b[38;5;241m.\u001b[39mfuture\u001b[38;5;241m.\u001b[39mset_exception(exc)\n",
      "File \u001b[0;32m~/.pyenv/versions/3.11.4/lib/python3.11/site-packages/retrying.py:56\u001b[0m, in \u001b[0;36mretry.<locals>.wrap.<locals>.wrapped_f\u001b[0;34m(*args, **kw)\u001b[0m\n\u001b[1;32m     54\u001b[0m \u001b[38;5;129m@six\u001b[39m\u001b[38;5;241m.\u001b[39mwraps(f)\n\u001b[1;32m     55\u001b[0m \u001b[38;5;28;01mdef\u001b[39;00m \u001b[38;5;21mwrapped_f\u001b[39m(\u001b[38;5;241m*\u001b[39margs, \u001b[38;5;241m*\u001b[39m\u001b[38;5;241m*\u001b[39mkw):\n\u001b[0;32m---> 56\u001b[0m     \u001b[38;5;28;01mreturn\u001b[39;00m \u001b[43mRetrying\u001b[49m\u001b[43m(\u001b[49m\u001b[38;5;241;43m*\u001b[39;49m\u001b[43mdargs\u001b[49m\u001b[43m,\u001b[49m\u001b[43m \u001b[49m\u001b[38;5;241;43m*\u001b[39;49m\u001b[38;5;241;43m*\u001b[39;49m\u001b[43mdkw\u001b[49m\u001b[43m)\u001b[49m\u001b[38;5;241;43m.\u001b[39;49m\u001b[43mcall\u001b[49m\u001b[43m(\u001b[49m\u001b[43mf\u001b[49m\u001b[43m,\u001b[49m\u001b[43m \u001b[49m\u001b[38;5;241;43m*\u001b[39;49m\u001b[43margs\u001b[49m\u001b[43m,\u001b[49m\u001b[43m \u001b[49m\u001b[38;5;241;43m*\u001b[39;49m\u001b[38;5;241;43m*\u001b[39;49m\u001b[43mkw\u001b[49m\u001b[43m)\u001b[49m\n",
      "File \u001b[0;32m~/.pyenv/versions/3.11.4/lib/python3.11/site-packages/retrying.py:266\u001b[0m, in \u001b[0;36mRetrying.call\u001b[0;34m(self, fn, *args, **kwargs)\u001b[0m\n\u001b[1;32m    263\u001b[0m \u001b[38;5;28;01mif\u001b[39;00m \u001b[38;5;28mself\u001b[39m\u001b[38;5;241m.\u001b[39mstop(attempt_number, delay_since_first_attempt_ms):\n\u001b[1;32m    264\u001b[0m     \u001b[38;5;28;01mif\u001b[39;00m \u001b[38;5;129;01mnot\u001b[39;00m \u001b[38;5;28mself\u001b[39m\u001b[38;5;241m.\u001b[39m_wrap_exception \u001b[38;5;129;01mand\u001b[39;00m attempt\u001b[38;5;241m.\u001b[39mhas_exception:\n\u001b[1;32m    265\u001b[0m         \u001b[38;5;66;03m# get() on an attempt with an exception should cause it to be raised, but raise just in case\u001b[39;00m\n\u001b[0;32m--> 266\u001b[0m         \u001b[38;5;28;01mraise\u001b[39;00m \u001b[43mattempt\u001b[49m\u001b[38;5;241;43m.\u001b[39;49m\u001b[43mget\u001b[49m\u001b[43m(\u001b[49m\u001b[43m)\u001b[49m\n\u001b[1;32m    267\u001b[0m     \u001b[38;5;28;01melse\u001b[39;00m:\n\u001b[1;32m    268\u001b[0m         \u001b[38;5;28;01mraise\u001b[39;00m RetryError(attempt)\n",
      "File \u001b[0;32m~/.pyenv/versions/3.11.4/lib/python3.11/site-packages/retrying.py:301\u001b[0m, in \u001b[0;36mAttempt.get\u001b[0;34m(self, wrap_exception)\u001b[0m\n\u001b[1;32m    299\u001b[0m         \u001b[38;5;28;01mraise\u001b[39;00m RetryError(\u001b[38;5;28mself\u001b[39m)\n\u001b[1;32m    300\u001b[0m     \u001b[38;5;28;01melse\u001b[39;00m:\n\u001b[0;32m--> 301\u001b[0m         \u001b[43msix\u001b[49m\u001b[38;5;241;43m.\u001b[39;49m\u001b[43mreraise\u001b[49m\u001b[43m(\u001b[49m\u001b[38;5;28;43mself\u001b[39;49m\u001b[38;5;241;43m.\u001b[39;49m\u001b[43mvalue\u001b[49m\u001b[43m[\u001b[49m\u001b[38;5;241;43m0\u001b[39;49m\u001b[43m]\u001b[49m\u001b[43m,\u001b[49m\u001b[43m \u001b[49m\u001b[38;5;28;43mself\u001b[39;49m\u001b[38;5;241;43m.\u001b[39;49m\u001b[43mvalue\u001b[49m\u001b[43m[\u001b[49m\u001b[38;5;241;43m1\u001b[39;49m\u001b[43m]\u001b[49m\u001b[43m,\u001b[49m\u001b[43m \u001b[49m\u001b[38;5;28;43mself\u001b[39;49m\u001b[38;5;241;43m.\u001b[39;49m\u001b[43mvalue\u001b[49m\u001b[43m[\u001b[49m\u001b[38;5;241;43m2\u001b[39;49m\u001b[43m]\u001b[49m\u001b[43m)\u001b[49m\n\u001b[1;32m    302\u001b[0m \u001b[38;5;28;01melse\u001b[39;00m:\n\u001b[1;32m    303\u001b[0m     \u001b[38;5;28;01mreturn\u001b[39;00m \u001b[38;5;28mself\u001b[39m\u001b[38;5;241m.\u001b[39mvalue\n",
      "File \u001b[0;32m~/.pyenv/versions/3.11.4/lib/python3.11/site-packages/six.py:719\u001b[0m, in \u001b[0;36mreraise\u001b[0;34m(tp, value, tb)\u001b[0m\n\u001b[1;32m    717\u001b[0m     \u001b[38;5;28;01mif\u001b[39;00m value\u001b[38;5;241m.\u001b[39m__traceback__ \u001b[38;5;129;01mis\u001b[39;00m \u001b[38;5;129;01mnot\u001b[39;00m tb:\n\u001b[1;32m    718\u001b[0m         \u001b[38;5;28;01mraise\u001b[39;00m value\u001b[38;5;241m.\u001b[39mwith_traceback(tb)\n\u001b[0;32m--> 719\u001b[0m     \u001b[38;5;28;01mraise\u001b[39;00m value\n\u001b[1;32m    720\u001b[0m \u001b[38;5;28;01mfinally\u001b[39;00m:\n\u001b[1;32m    721\u001b[0m     value \u001b[38;5;241m=\u001b[39m \u001b[38;5;28;01mNone\u001b[39;00m\n",
      "File \u001b[0;32m~/.pyenv/versions/3.11.4/lib/python3.11/site-packages/retrying.py:251\u001b[0m, in \u001b[0;36mRetrying.call\u001b[0;34m(self, fn, *args, **kwargs)\u001b[0m\n\u001b[1;32m    248\u001b[0m     \u001b[38;5;28mself\u001b[39m\u001b[38;5;241m.\u001b[39m_before_attempts(attempt_number)\n\u001b[1;32m    250\u001b[0m \u001b[38;5;28;01mtry\u001b[39;00m:\n\u001b[0;32m--> 251\u001b[0m     attempt \u001b[38;5;241m=\u001b[39m Attempt(\u001b[43mfn\u001b[49m\u001b[43m(\u001b[49m\u001b[38;5;241;43m*\u001b[39;49m\u001b[43margs\u001b[49m\u001b[43m,\u001b[49m\u001b[43m \u001b[49m\u001b[38;5;241;43m*\u001b[39;49m\u001b[38;5;241;43m*\u001b[39;49m\u001b[43mkwargs\u001b[49m\u001b[43m)\u001b[49m, attempt_number, \u001b[38;5;28;01mFalse\u001b[39;00m)\n\u001b[1;32m    252\u001b[0m \u001b[38;5;28;01mexcept\u001b[39;00m:\n\u001b[1;32m    253\u001b[0m     tb \u001b[38;5;241m=\u001b[39m sys\u001b[38;5;241m.\u001b[39mexc_info()\n",
      "Cell \u001b[0;32mIn[20], line 18\u001b[0m, in \u001b[0;36mget_image_from_text\u001b[0;34m(sentence)\u001b[0m\n\u001b[1;32m     16\u001b[0m description \u001b[38;5;241m=\u001b[39m chat\u001b[38;5;241m.\u001b[39mmessage(sentence, model\u001b[38;5;241m=\u001b[39mMODEL)\n\u001b[1;32m     17\u001b[0m prompt \u001b[38;5;241m=\u001b[39m \u001b[38;5;124mf\u001b[39m\u001b[38;5;124m'\u001b[39m\u001b[38;5;132;01m{\u001b[39;00mrandom\u001b[38;5;241m.\u001b[39mchoice(art_styles)\u001b[38;5;132;01m}\u001b[39;00m\u001b[38;5;124m of \u001b[39m\u001b[38;5;132;01m{\u001b[39;00mdescription\u001b[38;5;132;01m}\u001b[39;00m\u001b[38;5;124m \u001b[39m\u001b[38;5;132;01m{\u001b[39;00mrandom\u001b[38;5;241m.\u001b[39mchoice(hd_modifiers)\u001b[38;5;132;01m}\u001b[39;00m\u001b[38;5;124m'\u001b[39m\n\u001b[0;32m---> 18\u001b[0m img \u001b[38;5;241m=\u001b[39m \u001b[43mAIImage\u001b[49m\u001b[38;5;241;43m.\u001b[39;49m\u001b[43mcreate\u001b[49m\u001b[43m(\u001b[49m\u001b[43mprompt\u001b[49m\u001b[43m)\u001b[49m\n\u001b[1;32m     19\u001b[0m \u001b[38;5;28;01mreturn\u001b[39;00m sentence, img, prompt\n",
      "Cell \u001b[0;32mIn[18], line 23\u001b[0m, in \u001b[0;36mRateLimited.__call__.<locals>.wrapper\u001b[0;34m(*args, **kwargs)\u001b[0m\n\u001b[1;32m     21\u001b[0m         run \u001b[38;5;241m=\u001b[39m \u001b[38;5;28;01mTrue\u001b[39;00m\n\u001b[1;32m     22\u001b[0m \u001b[38;5;28;01mif\u001b[39;00m run:\n\u001b[0;32m---> 23\u001b[0m     \u001b[38;5;28;01mreturn\u001b[39;00m \u001b[43mfn\u001b[49m\u001b[43m(\u001b[49m\u001b[38;5;241;43m*\u001b[39;49m\u001b[43margs\u001b[49m\u001b[43m,\u001b[49m\u001b[43m \u001b[49m\u001b[38;5;241;43m*\u001b[39;49m\u001b[38;5;241;43m*\u001b[39;49m\u001b[43mkwargs\u001b[49m\u001b[43m)\u001b[49m\n\u001b[1;32m     24\u001b[0m \u001b[38;5;28;01melse\u001b[39;00m:\n\u001b[1;32m     25\u001b[0m     time\u001b[38;5;241m.\u001b[39msleep(\u001b[38;5;241m15\u001b[39m)\n",
      "File \u001b[0;32m~/.pyenv/versions/3.11.4/lib/python3.11/site-packages/retrying.py:56\u001b[0m, in \u001b[0;36mretry.<locals>.wrap.<locals>.wrapped_f\u001b[0;34m(*args, **kw)\u001b[0m\n\u001b[1;32m     54\u001b[0m \u001b[38;5;129m@six\u001b[39m\u001b[38;5;241m.\u001b[39mwraps(f)\n\u001b[1;32m     55\u001b[0m \u001b[38;5;28;01mdef\u001b[39;00m \u001b[38;5;21mwrapped_f\u001b[39m(\u001b[38;5;241m*\u001b[39margs, \u001b[38;5;241m*\u001b[39m\u001b[38;5;241m*\u001b[39mkw):\n\u001b[0;32m---> 56\u001b[0m     \u001b[38;5;28;01mreturn\u001b[39;00m \u001b[43mRetrying\u001b[49m\u001b[43m(\u001b[49m\u001b[38;5;241;43m*\u001b[39;49m\u001b[43mdargs\u001b[49m\u001b[43m,\u001b[49m\u001b[43m \u001b[49m\u001b[38;5;241;43m*\u001b[39;49m\u001b[38;5;241;43m*\u001b[39;49m\u001b[43mdkw\u001b[49m\u001b[43m)\u001b[49m\u001b[38;5;241;43m.\u001b[39;49m\u001b[43mcall\u001b[49m\u001b[43m(\u001b[49m\u001b[43mf\u001b[49m\u001b[43m,\u001b[49m\u001b[43m \u001b[49m\u001b[38;5;241;43m*\u001b[39;49m\u001b[43margs\u001b[49m\u001b[43m,\u001b[49m\u001b[43m \u001b[49m\u001b[38;5;241;43m*\u001b[39;49m\u001b[38;5;241;43m*\u001b[39;49m\u001b[43mkw\u001b[49m\u001b[43m)\u001b[49m\n",
      "File \u001b[0;32m~/.pyenv/versions/3.11.4/lib/python3.11/site-packages/retrying.py:266\u001b[0m, in \u001b[0;36mRetrying.call\u001b[0;34m(self, fn, *args, **kwargs)\u001b[0m\n\u001b[1;32m    263\u001b[0m \u001b[38;5;28;01mif\u001b[39;00m \u001b[38;5;28mself\u001b[39m\u001b[38;5;241m.\u001b[39mstop(attempt_number, delay_since_first_attempt_ms):\n\u001b[1;32m    264\u001b[0m     \u001b[38;5;28;01mif\u001b[39;00m \u001b[38;5;129;01mnot\u001b[39;00m \u001b[38;5;28mself\u001b[39m\u001b[38;5;241m.\u001b[39m_wrap_exception \u001b[38;5;129;01mand\u001b[39;00m attempt\u001b[38;5;241m.\u001b[39mhas_exception:\n\u001b[1;32m    265\u001b[0m         \u001b[38;5;66;03m# get() on an attempt with an exception should cause it to be raised, but raise just in case\u001b[39;00m\n\u001b[0;32m--> 266\u001b[0m         \u001b[38;5;28;01mraise\u001b[39;00m \u001b[43mattempt\u001b[49m\u001b[38;5;241;43m.\u001b[39;49m\u001b[43mget\u001b[49m\u001b[43m(\u001b[49m\u001b[43m)\u001b[49m\n\u001b[1;32m    267\u001b[0m     \u001b[38;5;28;01melse\u001b[39;00m:\n\u001b[1;32m    268\u001b[0m         \u001b[38;5;28;01mraise\u001b[39;00m RetryError(attempt)\n",
      "File \u001b[0;32m~/.pyenv/versions/3.11.4/lib/python3.11/site-packages/retrying.py:301\u001b[0m, in \u001b[0;36mAttempt.get\u001b[0;34m(self, wrap_exception)\u001b[0m\n\u001b[1;32m    299\u001b[0m         \u001b[38;5;28;01mraise\u001b[39;00m RetryError(\u001b[38;5;28mself\u001b[39m)\n\u001b[1;32m    300\u001b[0m     \u001b[38;5;28;01melse\u001b[39;00m:\n\u001b[0;32m--> 301\u001b[0m         \u001b[43msix\u001b[49m\u001b[38;5;241;43m.\u001b[39;49m\u001b[43mreraise\u001b[49m\u001b[43m(\u001b[49m\u001b[38;5;28;43mself\u001b[39;49m\u001b[38;5;241;43m.\u001b[39;49m\u001b[43mvalue\u001b[49m\u001b[43m[\u001b[49m\u001b[38;5;241;43m0\u001b[39;49m\u001b[43m]\u001b[49m\u001b[43m,\u001b[49m\u001b[43m \u001b[49m\u001b[38;5;28;43mself\u001b[39;49m\u001b[38;5;241;43m.\u001b[39;49m\u001b[43mvalue\u001b[49m\u001b[43m[\u001b[49m\u001b[38;5;241;43m1\u001b[39;49m\u001b[43m]\u001b[49m\u001b[43m,\u001b[49m\u001b[43m \u001b[49m\u001b[38;5;28;43mself\u001b[39;49m\u001b[38;5;241;43m.\u001b[39;49m\u001b[43mvalue\u001b[49m\u001b[43m[\u001b[49m\u001b[38;5;241;43m2\u001b[39;49m\u001b[43m]\u001b[49m\u001b[43m)\u001b[49m\n\u001b[1;32m    302\u001b[0m \u001b[38;5;28;01melse\u001b[39;00m:\n\u001b[1;32m    303\u001b[0m     \u001b[38;5;28;01mreturn\u001b[39;00m \u001b[38;5;28mself\u001b[39m\u001b[38;5;241m.\u001b[39mvalue\n",
      "File \u001b[0;32m~/.pyenv/versions/3.11.4/lib/python3.11/site-packages/six.py:719\u001b[0m, in \u001b[0;36mreraise\u001b[0;34m(tp, value, tb)\u001b[0m\n\u001b[1;32m    717\u001b[0m     \u001b[38;5;28;01mif\u001b[39;00m value\u001b[38;5;241m.\u001b[39m__traceback__ \u001b[38;5;129;01mis\u001b[39;00m \u001b[38;5;129;01mnot\u001b[39;00m tb:\n\u001b[1;32m    718\u001b[0m         \u001b[38;5;28;01mraise\u001b[39;00m value\u001b[38;5;241m.\u001b[39mwith_traceback(tb)\n\u001b[0;32m--> 719\u001b[0m     \u001b[38;5;28;01mraise\u001b[39;00m value\n\u001b[1;32m    720\u001b[0m \u001b[38;5;28;01mfinally\u001b[39;00m:\n\u001b[1;32m    721\u001b[0m     value \u001b[38;5;241m=\u001b[39m \u001b[38;5;28;01mNone\u001b[39;00m\n",
      "File \u001b[0;32m~/.pyenv/versions/3.11.4/lib/python3.11/site-packages/retrying.py:251\u001b[0m, in \u001b[0;36mRetrying.call\u001b[0;34m(self, fn, *args, **kwargs)\u001b[0m\n\u001b[1;32m    248\u001b[0m     \u001b[38;5;28mself\u001b[39m\u001b[38;5;241m.\u001b[39m_before_attempts(attempt_number)\n\u001b[1;32m    250\u001b[0m \u001b[38;5;28;01mtry\u001b[39;00m:\n\u001b[0;32m--> 251\u001b[0m     attempt \u001b[38;5;241m=\u001b[39m Attempt(\u001b[43mfn\u001b[49m\u001b[43m(\u001b[49m\u001b[38;5;241;43m*\u001b[39;49m\u001b[43margs\u001b[49m\u001b[43m,\u001b[49m\u001b[43m \u001b[49m\u001b[38;5;241;43m*\u001b[39;49m\u001b[38;5;241;43m*\u001b[39;49m\u001b[43mkwargs\u001b[49m\u001b[43m)\u001b[49m, attempt_number, \u001b[38;5;28;01mFalse\u001b[39;00m)\n\u001b[1;32m    252\u001b[0m \u001b[38;5;28;01mexcept\u001b[39;00m:\n\u001b[1;32m    253\u001b[0m     tb \u001b[38;5;241m=\u001b[39m sys\u001b[38;5;241m.\u001b[39mexc_info()\n",
      "Cell \u001b[0;32mIn[19], line 16\u001b[0m, in \u001b[0;36mAIImage.create\u001b[0;34m(cls, prompt, n, size)\u001b[0m\n\u001b[1;32m     14\u001b[0m \u001b[38;5;28;01mexcept\u001b[39;00m \u001b[38;5;167;01mException\u001b[39;00m \u001b[38;5;28;01mas\u001b[39;00m e:\n\u001b[1;32m     15\u001b[0m     logger\u001b[38;5;241m.\u001b[39minfo(\u001b[38;5;124mf\u001b[39m\u001b[38;5;124m'\u001b[39m\u001b[38;5;124mafter \u001b[39m\u001b[38;5;132;01m{\u001b[39;00me\u001b[38;5;132;01m}\u001b[39;00m\u001b[38;5;124m going to requesting openai.Image \u001b[39m\u001b[38;5;132;01m{\u001b[39;00mprompt\u001b[38;5;132;01m}\u001b[39;00m\u001b[38;5;124m...\u001b[39m\u001b[38;5;124m'\u001b[39m)\n\u001b[0;32m---> 16\u001b[0m     resp \u001b[38;5;241m=\u001b[39m \u001b[43mopenai\u001b[49m\u001b[38;5;241;43m.\u001b[39;49m\u001b[43mImage\u001b[49m\u001b[38;5;241;43m.\u001b[39;49m\u001b[43mcreate\u001b[49m\u001b[43m(\u001b[49m\u001b[43mprompt\u001b[49m\u001b[38;5;241;43m=\u001b[39;49m\u001b[43mprompt\u001b[49m\u001b[43m,\u001b[49m\u001b[43m \u001b[49m\u001b[43mn\u001b[49m\u001b[38;5;241;43m=\u001b[39;49m\u001b[43mn\u001b[49m\u001b[43m,\u001b[49m\u001b[43m \u001b[49m\u001b[43msize\u001b[49m\u001b[38;5;241;43m=\u001b[39;49m\u001b[43msize\u001b[49m\u001b[38;5;241;43m.\u001b[39;49m\u001b[43mvalue\u001b[49m\u001b[43m,\u001b[49m\u001b[43m \u001b[49m\u001b[43mresponse_format\u001b[49m\u001b[38;5;241;43m=\u001b[39;49m\u001b[38;5;124;43m'\u001b[39;49m\u001b[38;5;124;43mb64_json\u001b[39;49m\u001b[38;5;124;43m'\u001b[39;49m\u001b[43m)\u001b[49m\n\u001b[1;32m     17\u001b[0m logger\u001b[38;5;241m.\u001b[39minfo(\u001b[38;5;124m'\u001b[39m\u001b[38;5;124mreceived openai.Image...\u001b[39m\u001b[38;5;124m'\u001b[39m)\n\u001b[1;32m     18\u001b[0m \u001b[38;5;28;01mif\u001b[39;00m n \u001b[38;5;241m==\u001b[39m \u001b[38;5;241m1\u001b[39m: \u001b[38;5;28;01mreturn\u001b[39;00m resp[\u001b[38;5;124m\"\u001b[39m\u001b[38;5;124mdata\u001b[39m\u001b[38;5;124m\"\u001b[39m][\u001b[38;5;241m0\u001b[39m]\n",
      "File \u001b[0;32m~/.pyenv/versions/3.11.4/lib/python3.11/site-packages/openai/api_resources/image.py:39\u001b[0m, in \u001b[0;36mImage.create\u001b[0;34m(cls, api_key, api_base, api_type, api_version, organization, **params)\u001b[0m\n\u001b[1;32m     29\u001b[0m requestor \u001b[38;5;241m=\u001b[39m api_requestor\u001b[38;5;241m.\u001b[39mAPIRequestor(\n\u001b[1;32m     30\u001b[0m     api_key,\n\u001b[1;32m     31\u001b[0m     api_base\u001b[38;5;241m=\u001b[39mapi_base \u001b[38;5;129;01mor\u001b[39;00m openai\u001b[38;5;241m.\u001b[39mapi_base,\n\u001b[0;32m   (...)\u001b[0m\n\u001b[1;32m     34\u001b[0m     organization\u001b[38;5;241m=\u001b[39morganization,\n\u001b[1;32m     35\u001b[0m )\n\u001b[1;32m     37\u001b[0m api_type, api_version \u001b[38;5;241m=\u001b[39m \u001b[38;5;28mcls\u001b[39m\u001b[38;5;241m.\u001b[39m_get_api_type_and_version(api_type, api_version)\n\u001b[0;32m---> 39\u001b[0m response, _, api_key \u001b[38;5;241m=\u001b[39m \u001b[43mrequestor\u001b[49m\u001b[38;5;241;43m.\u001b[39;49m\u001b[43mrequest\u001b[49m\u001b[43m(\u001b[49m\n\u001b[1;32m     40\u001b[0m \u001b[43m    \u001b[49m\u001b[38;5;124;43m\"\u001b[39;49m\u001b[38;5;124;43mpost\u001b[39;49m\u001b[38;5;124;43m\"\u001b[39;49m\u001b[43m,\u001b[49m\u001b[43m \u001b[49m\u001b[38;5;28;43mcls\u001b[39;49m\u001b[38;5;241;43m.\u001b[39;49m\u001b[43m_get_url\u001b[49m\u001b[43m(\u001b[49m\u001b[38;5;124;43m\"\u001b[39;49m\u001b[38;5;124;43mgenerations\u001b[39;49m\u001b[38;5;124;43m\"\u001b[39;49m\u001b[43m,\u001b[49m\u001b[43m \u001b[49m\u001b[43mazure_action\u001b[49m\u001b[38;5;241;43m=\u001b[39;49m\u001b[38;5;124;43m\"\u001b[39;49m\u001b[38;5;124;43msubmit\u001b[39;49m\u001b[38;5;124;43m\"\u001b[39;49m\u001b[43m,\u001b[49m\u001b[43m \u001b[49m\u001b[43mapi_type\u001b[49m\u001b[38;5;241;43m=\u001b[39;49m\u001b[43mapi_type\u001b[49m\u001b[43m,\u001b[49m\u001b[43m \u001b[49m\u001b[43mapi_version\u001b[49m\u001b[38;5;241;43m=\u001b[39;49m\u001b[43mapi_version\u001b[49m\u001b[43m)\u001b[49m\u001b[43m,\u001b[49m\u001b[43m \u001b[49m\u001b[43mparams\u001b[49m\n\u001b[1;32m     41\u001b[0m \u001b[43m\u001b[49m\u001b[43m)\u001b[49m\n\u001b[1;32m     43\u001b[0m \u001b[38;5;28;01mif\u001b[39;00m api_type \u001b[38;5;129;01min\u001b[39;00m (util\u001b[38;5;241m.\u001b[39mApiType\u001b[38;5;241m.\u001b[39mAZURE, util\u001b[38;5;241m.\u001b[39mApiType\u001b[38;5;241m.\u001b[39mAZURE_AD):\n\u001b[1;32m     44\u001b[0m     requestor\u001b[38;5;241m.\u001b[39mapi_base \u001b[38;5;241m=\u001b[39m \u001b[38;5;124m\"\u001b[39m\u001b[38;5;124m\"\u001b[39m \u001b[38;5;66;03m# operation_location is a full url\u001b[39;00m\n",
      "File \u001b[0;32m~/.pyenv/versions/3.11.4/lib/python3.11/site-packages/openai/api_requestor.py:298\u001b[0m, in \u001b[0;36mAPIRequestor.request\u001b[0;34m(self, method, url, params, headers, files, stream, request_id, request_timeout)\u001b[0m\n\u001b[1;32m    277\u001b[0m \u001b[38;5;28;01mdef\u001b[39;00m \u001b[38;5;21mrequest\u001b[39m(\n\u001b[1;32m    278\u001b[0m     \u001b[38;5;28mself\u001b[39m,\n\u001b[1;32m    279\u001b[0m     method,\n\u001b[0;32m   (...)\u001b[0m\n\u001b[1;32m    286\u001b[0m     request_timeout: Optional[Union[\u001b[38;5;28mfloat\u001b[39m, Tuple[\u001b[38;5;28mfloat\u001b[39m, \u001b[38;5;28mfloat\u001b[39m]]] \u001b[38;5;241m=\u001b[39m \u001b[38;5;28;01mNone\u001b[39;00m,\n\u001b[1;32m    287\u001b[0m ) \u001b[38;5;241m-\u001b[39m\u001b[38;5;241m>\u001b[39m Tuple[Union[OpenAIResponse, Iterator[OpenAIResponse]], \u001b[38;5;28mbool\u001b[39m, \u001b[38;5;28mstr\u001b[39m]:\n\u001b[1;32m    288\u001b[0m     result \u001b[38;5;241m=\u001b[39m \u001b[38;5;28mself\u001b[39m\u001b[38;5;241m.\u001b[39mrequest_raw(\n\u001b[1;32m    289\u001b[0m         method\u001b[38;5;241m.\u001b[39mlower(),\n\u001b[1;32m    290\u001b[0m         url,\n\u001b[0;32m   (...)\u001b[0m\n\u001b[1;32m    296\u001b[0m         request_timeout\u001b[38;5;241m=\u001b[39mrequest_timeout,\n\u001b[1;32m    297\u001b[0m     )\n\u001b[0;32m--> 298\u001b[0m     resp, got_stream \u001b[38;5;241m=\u001b[39m \u001b[38;5;28;43mself\u001b[39;49m\u001b[38;5;241;43m.\u001b[39;49m\u001b[43m_interpret_response\u001b[49m\u001b[43m(\u001b[49m\u001b[43mresult\u001b[49m\u001b[43m,\u001b[49m\u001b[43m \u001b[49m\u001b[43mstream\u001b[49m\u001b[43m)\u001b[49m\n\u001b[1;32m    299\u001b[0m     \u001b[38;5;28;01mreturn\u001b[39;00m resp, got_stream, \u001b[38;5;28mself\u001b[39m\u001b[38;5;241m.\u001b[39mapi_key\n",
      "File \u001b[0;32m~/.pyenv/versions/3.11.4/lib/python3.11/site-packages/openai/api_requestor.py:700\u001b[0m, in \u001b[0;36mAPIRequestor._interpret_response\u001b[0;34m(self, result, stream)\u001b[0m\n\u001b[1;32m    692\u001b[0m     \u001b[38;5;28;01mreturn\u001b[39;00m (\n\u001b[1;32m    693\u001b[0m         \u001b[38;5;28mself\u001b[39m\u001b[38;5;241m.\u001b[39m_interpret_response_line(\n\u001b[1;32m    694\u001b[0m             line, result\u001b[38;5;241m.\u001b[39mstatus_code, result\u001b[38;5;241m.\u001b[39mheaders, stream\u001b[38;5;241m=\u001b[39m\u001b[38;5;28;01mTrue\u001b[39;00m\n\u001b[1;32m    695\u001b[0m         )\n\u001b[1;32m    696\u001b[0m         \u001b[38;5;28;01mfor\u001b[39;00m line \u001b[38;5;129;01min\u001b[39;00m parse_stream(result\u001b[38;5;241m.\u001b[39miter_lines())\n\u001b[1;32m    697\u001b[0m     ), \u001b[38;5;28;01mTrue\u001b[39;00m\n\u001b[1;32m    698\u001b[0m \u001b[38;5;28;01melse\u001b[39;00m:\n\u001b[1;32m    699\u001b[0m     \u001b[38;5;28;01mreturn\u001b[39;00m (\n\u001b[0;32m--> 700\u001b[0m         \u001b[38;5;28;43mself\u001b[39;49m\u001b[38;5;241;43m.\u001b[39;49m\u001b[43m_interpret_response_line\u001b[49m\u001b[43m(\u001b[49m\n\u001b[1;32m    701\u001b[0m \u001b[43m            \u001b[49m\u001b[43mresult\u001b[49m\u001b[38;5;241;43m.\u001b[39;49m\u001b[43mcontent\u001b[49m\u001b[38;5;241;43m.\u001b[39;49m\u001b[43mdecode\u001b[49m\u001b[43m(\u001b[49m\u001b[38;5;124;43m\"\u001b[39;49m\u001b[38;5;124;43mutf-8\u001b[39;49m\u001b[38;5;124;43m\"\u001b[39;49m\u001b[43m)\u001b[49m\u001b[43m,\u001b[49m\n\u001b[1;32m    702\u001b[0m \u001b[43m            \u001b[49m\u001b[43mresult\u001b[49m\u001b[38;5;241;43m.\u001b[39;49m\u001b[43mstatus_code\u001b[49m\u001b[43m,\u001b[49m\n\u001b[1;32m    703\u001b[0m \u001b[43m            \u001b[49m\u001b[43mresult\u001b[49m\u001b[38;5;241;43m.\u001b[39;49m\u001b[43mheaders\u001b[49m\u001b[43m,\u001b[49m\n\u001b[1;32m    704\u001b[0m \u001b[43m            \u001b[49m\u001b[43mstream\u001b[49m\u001b[38;5;241;43m=\u001b[39;49m\u001b[38;5;28;43;01mFalse\u001b[39;49;00m\u001b[43m,\u001b[49m\n\u001b[1;32m    705\u001b[0m \u001b[43m        \u001b[49m\u001b[43m)\u001b[49m,\n\u001b[1;32m    706\u001b[0m         \u001b[38;5;28;01mFalse\u001b[39;00m,\n\u001b[1;32m    707\u001b[0m     )\n",
      "File \u001b[0;32m~/.pyenv/versions/3.11.4/lib/python3.11/site-packages/openai/api_requestor.py:763\u001b[0m, in \u001b[0;36mAPIRequestor._interpret_response_line\u001b[0;34m(self, rbody, rcode, rheaders, stream)\u001b[0m\n\u001b[1;32m    761\u001b[0m stream_error \u001b[38;5;241m=\u001b[39m stream \u001b[38;5;129;01mand\u001b[39;00m \u001b[38;5;124m\"\u001b[39m\u001b[38;5;124merror\u001b[39m\u001b[38;5;124m\"\u001b[39m \u001b[38;5;129;01min\u001b[39;00m resp\u001b[38;5;241m.\u001b[39mdata\n\u001b[1;32m    762\u001b[0m \u001b[38;5;28;01mif\u001b[39;00m stream_error \u001b[38;5;129;01mor\u001b[39;00m \u001b[38;5;129;01mnot\u001b[39;00m \u001b[38;5;241m200\u001b[39m \u001b[38;5;241m<\u001b[39m\u001b[38;5;241m=\u001b[39m rcode \u001b[38;5;241m<\u001b[39m \u001b[38;5;241m300\u001b[39m:\n\u001b[0;32m--> 763\u001b[0m     \u001b[38;5;28;01mraise\u001b[39;00m \u001b[38;5;28mself\u001b[39m\u001b[38;5;241m.\u001b[39mhandle_error_response(\n\u001b[1;32m    764\u001b[0m         rbody, rcode, resp\u001b[38;5;241m.\u001b[39mdata, rheaders, stream_error\u001b[38;5;241m=\u001b[39mstream_error\n\u001b[1;32m    765\u001b[0m     )\n\u001b[1;32m    766\u001b[0m \u001b[38;5;28;01mreturn\u001b[39;00m resp\n",
      "\u001b[0;31mInvalidRequestError\u001b[0m: Your request was rejected as a result of our safety system. Your prompt may contain text that is not allowed by our safety system."
     ]
    }
   ],
   "source": [
    "paper_path = '/Users/jong/Downloads/covid_garbage.pdf'\n",
    "outpath = (paper_path[:-4] + '.mp4').replace(' ', '_')\n",
    "MAX_WORKERS = 8\n",
    "runner = Runner(paper_path, outpath)\n",
    "runner.run()"
   ]
  },
  {
   "cell_type": "code",
   "execution_count": null,
   "id": "7f432f4c-d11c-4229-b50f-55421d3f5448",
   "metadata": {},
   "outputs": [],
   "source": [
    "# print('\\n'.join([speaker_sentence(x[0], SPEAKER_NAMES)[1] for x in runner.images]))"
   ]
  },
  {
   "cell_type": "code",
   "execution_count": null,
   "id": "3b5ec6ac-96e0-4ccf-8117-8e245c45d46d",
   "metadata": {},
   "outputs": [],
   "source": []
  },
  {
   "cell_type": "code",
   "execution_count": null,
   "id": "613af4e1-15f8-45ad-bf87-c285f25be7a0",
   "metadata": {},
   "outputs": [],
   "source": []
  }
 ],
 "metadata": {
  "kernelspec": {
   "display_name": "Python 3 (ipykernel)",
   "language": "python",
   "name": "python3"
  },
  "language_info": {
   "codemirror_mode": {
    "name": "ipython",
    "version": 3
   },
   "file_extension": ".py",
   "mimetype": "text/x-python",
   "name": "python",
   "nbconvert_exporter": "python",
   "pygments_lexer": "ipython3",
   "version": "3.11.4"
  }
 },
 "nbformat": 4,
 "nbformat_minor": 5
}
